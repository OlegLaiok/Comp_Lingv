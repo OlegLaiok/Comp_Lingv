{
  "nbformat": 4,
  "nbformat_minor": 0,
  "metadata": {
    "colab": {
      "name": "Лаб9 исправлено.ipynb\"",
      "provenance": [],
      "collapsed_sections": [],
      "authorship_tag": "ABX9TyPxunD1B1qAIzZhPxBhxmrH",
      "include_colab_link": true
    },
    "kernelspec": {
      "name": "python3",
      "display_name": "Python 3"
    },
    "language_info": {
      "name": "python"
    }
  },
  "cells": [
    {
      "cell_type": "markdown",
      "metadata": {
        "id": "view-in-github",
        "colab_type": "text"
      },
      "source": [
        "<a href=\"https://colab.research.google.com/github/OlegLaiok/Comp_Lingv/blob/homework9/%D0%9B%D0%B0%D0%B19_%D0%B8%D1%81%D0%BF%D1%80%D0%B0%D0%B2%D0%BB%D0%B5%D0%BD%D0%BE_ipynb%22.ipynb\" target=\"_parent\"><img src=\"https://colab.research.google.com/assets/colab-badge.svg\" alt=\"Open In Colab\"/></a>"
      ]
    },
    {
      "cell_type": "code",
      "metadata": {
        "colab": {
          "base_uri": "https://localhost:8080/"
        },
        "id": "EG5vWra0Ehb2",
        "outputId": "929be66c-a4e9-488e-d0ba-d186780e40e1"
      },
      "source": [
        "!pip install natasha"
      ],
      "execution_count": null,
      "outputs": [
        {
          "output_type": "stream",
          "text": [
            "Requirement already satisfied: natasha in /usr/local/lib/python3.7/dist-packages (1.4.0)\n",
            "Requirement already satisfied: navec>=0.9.0 in /usr/local/lib/python3.7/dist-packages (from natasha) (0.10.0)\n",
            "Requirement already satisfied: razdel>=0.5.0 in /usr/local/lib/python3.7/dist-packages (from natasha) (0.5.0)\n",
            "Requirement already satisfied: ipymarkup>=0.8.0 in /usr/local/lib/python3.7/dist-packages (from natasha) (0.9.0)\n",
            "Requirement already satisfied: pymorphy2 in /usr/local/lib/python3.7/dist-packages (from natasha) (0.9.1)\n",
            "Requirement already satisfied: slovnet>=0.3.0 in /usr/local/lib/python3.7/dist-packages (from natasha) (0.5.0)\n",
            "Requirement already satisfied: yargy>=0.14.0 in /usr/local/lib/python3.7/dist-packages (from natasha) (0.15.0)\n",
            "Requirement already satisfied: numpy in /usr/local/lib/python3.7/dist-packages (from navec>=0.9.0->natasha) (1.19.5)\n",
            "Requirement already satisfied: intervaltree>=3 in /usr/local/lib/python3.7/dist-packages (from ipymarkup>=0.8.0->natasha) (3.1.0)\n",
            "Requirement already satisfied: docopt>=0.6 in /usr/local/lib/python3.7/dist-packages (from pymorphy2->natasha) (0.6.2)\n",
            "Requirement already satisfied: pymorphy2-dicts-ru<3.0,>=2.4 in /usr/local/lib/python3.7/dist-packages (from pymorphy2->natasha) (2.4.417127.4579844)\n",
            "Requirement already satisfied: dawg-python>=0.7.1 in /usr/local/lib/python3.7/dist-packages (from pymorphy2->natasha) (0.7.2)\n",
            "Requirement already satisfied: sortedcontainers<3.0,>=2.0 in /usr/local/lib/python3.7/dist-packages (from intervaltree>=3->ipymarkup>=0.8.0->natasha) (2.4.0)\n"
          ],
          "name": "stdout"
        }
      ]
    },
    {
      "cell_type": "code",
      "metadata": {
        "id": "eROkrxDtEly2"
      },
      "source": [
        "import natasha\n",
        "import json\n",
        "import re\n",
        "import pandas as pd\n",
        "from natasha import Doc, Segmenter, NewsNERTagger, NewsEmbedding, NewsMorphTagger, MorphVocab\n",
        "import pymorphy2 \n",
        "from sklearn.feature_extraction.text import CountVectorizer\n",
        "from sklearn.feature_extraction.text import TfidfTransformer\n",
        "from sklearn.pipeline import Pipeline\n",
        "from sklearn import metrics\n",
        "from sklearn.cluster import KMeans\n",
        "analyzer = pymorphy2.MorphAnalyzer()"
      ],
      "execution_count": null,
      "outputs": []
    },
    {
      "cell_type": "code",
      "metadata": {
        "colab": {
          "base_uri": "https://localhost:8080/"
        },
        "id": "0Gs3fgj5Ezuh",
        "outputId": "9216e61d-5e7f-494d-84c0-31ee55897045"
      },
      "source": [
        "from google.colab import drive\n",
        "drive.mount('/content/drive')"
      ],
      "execution_count": null,
      "outputs": [
        {
          "output_type": "stream",
          "text": [
            "Mounted at /content/drive\n"
          ],
          "name": "stdout"
        }
      ]
    },
    {
      "cell_type": "code",
      "metadata": {
        "id": "LlhtegROE0gQ"
      },
      "source": [
        "with open(\"/content/drive/MyDrive/Colab Notebooks/VK_data_lentach_cleared.json\", \"r\", encoding ='utf-8') as f:\n",
        "    text = json.load(f)"
      ],
      "execution_count": null,
      "outputs": []
    },
    {
      "cell_type": "markdown",
      "metadata": {
        "id": "wsX5NUI9fYkF"
      },
      "source": [
        "Для выделения имменованных сущностей будем использовать тот же корпус новостей."
      ]
    },
    {
      "cell_type": "code",
      "metadata": {
        "id": "dTdq_8voFDMy"
      },
      "source": [
        "embedding = NewsEmbedding() \n",
        "segmenter = Segmenter() # сегментация текста\n",
        "morph_tagger = NewsMorphTagger(embedding) #морфологический анализ для дальейшей лемматизации и выделения тэгов именованных сущностей\n",
        "morph_vocab = MorphVocab() \n",
        "ner_tagger = NewsNERTagger(embedding) #тэггер имменованных сущностей\n",
        "df = pd.DataFrame.from_dict({'text':text}) #создадим датафрейм, где будем хранить исходный текст, именнованные сущности и номера кластеров"
      ],
      "execution_count": null,
      "outputs": []
    },
    {
      "cell_type": "code",
      "metadata": {
        "id": "HuHIctPBFFoC"
      },
      "source": [
        "def get_ner(transcript):\n",
        "  script = Doc(re.sub(r'\\((.*?)\\)', \"\", transcript))\n",
        "  script.segment(segmenter)\n",
        "  script.tag_morph(morph_tagger)\n",
        "  for token in script.tokens:\n",
        "    token.lemmatize(morph_vocab)\n",
        "  script.tag_ner(ner_tagger)\n",
        "  for span in script.spans:\n",
        "    span.normalize(morph_vocab)\n",
        "  named_ents = [(i.text, i.type, i.normal) for i in script.spans]\n",
        "  normed_ents = []\n",
        "  for word, tag, norm in named_ents:\n",
        "    if len(word.split()) == 1 and tag == \"LOC\":\n",
        "      for gram in range(len(analyzer.parse(word))):\n",
        "        if \"Geox\" in analyzer.parse(word)[gram].tag:\n",
        "          normed_ents.append((analyzer.parse(word)[gram].normal_form))\n",
        "          break\n",
        "        elif gram == len(analyzer.parse(word)) - 1:\n",
        "          normed_ents.append((norm.lower().strip(\".,!?;-\")))\n",
        "    else:\n",
        "      normed_ents.append((norm.lower().strip(\".,!?;-\")))\n",
        "  return sorted(normed_ents)"
      ],
      "execution_count": null,
      "outputs": []
    },
    {
      "cell_type": "markdown",
      "metadata": {
        "id": "4hu-rggygm1x"
      },
      "source": [
        "Следующая функция работает таким образом:\n",
        "1. текст сегментируется на токены\n",
        "2. на токены накладывается частеречная разметка\n",
        "4. токены лемматизируются\n",
        "5. выделяются именованные сущности\n",
        "6. токены нормализуются\n",
        "7. обрабатывается нормализация географических объектов, т.к. в процессе выяснилось, что natasha хуже их нормализует, чем pymorphy2.\n",
        "\n"
      ]
    },
    {
      "cell_type": "code",
      "metadata": {
        "colab": {
          "base_uri": "https://localhost:8080/"
        },
        "id": "4k0-yVvbTxZA",
        "outputId": "13331a4d-e493-455c-a42b-81fe28b9581d"
      },
      "source": [
        "normed_ent = []\n",
        "for item in text:\n",
        "    normed_ent.append(get_ner(item)) # из текстовых данных выделяем именнованные сущность для каждого документа и записываем их в датафрейм\n",
        "df['named_entities'] = normed_ent\n",
        "has_ner = [i for i in df.index.values if df.named_entities[i]] #составляем список не пустых именнованных сущностей\n",
        "print(len(has_ner), df.shape[0]) # количество записей без пустых сущностей и с пустыми\n",
        "df_ner = df[df.index.isin(has_ner)] #создаем датафрейм где у каждого текстового документа обязательно есть не пустые имен. сущности\n",
        "ner_voc = []\n",
        "for row in df_ner.named_entities.tolist():\n",
        "  ner_voc.extend(row) \n",
        "len(ner_voc), len(set(ner_voc)) #количество всех сущностей в документе и количество уникальных сущностей"
      ],
      "execution_count": null,
      "outputs": [
        {
          "output_type": "stream",
          "text": [
            "780 894\n"
          ],
          "name": "stdout"
        },
        {
          "output_type": "execute_result",
          "data": {
            "text/plain": [
              "(2855, 1151)"
            ]
          },
          "metadata": {
            "tags": []
          },
          "execution_count": 10
        }
      ]
    },
    {
      "cell_type": "code",
      "metadata": {
        "id": "hFUpPcnwT27V"
      },
      "source": [
        "vocab = sorted(set(ner_voc)) #создаем словарь сущностей\n",
        "corpus = df_ner.named_entities.apply(str).tolist() #создаем корпус всех сущностей\n",
        "pipe = Pipeline([('count', CountVectorizer(vocabulary=vocab)),\n",
        "                 ('tfid', TfidfTransformer())]).fit(corpus) #создаем конвеер преобразований\n",
        "X = pipe.fit_transform(corpus) #применяем конвеер к корпусу"
      ],
      "execution_count": null,
      "outputs": []
    },
    {
      "cell_type": "markdown",
      "metadata": {
        "id": "8ULqJ38GkXyQ"
      },
      "source": [
        "Для нахождения оптимального количесва кластеров будем ориентироваться на метрики Силует и Индекс Девиса-Болдуина. Для хорошего разбиения нам нужно, чтобы силуэт стремился к 1 а индекс Девиса-Болдуина был минимальным. Посмотрим как с изменением количесвтва кластеров будут меняться данные метрики:"
      ]
    },
    {
      "cell_type": "code",
      "metadata": {
        "id": "o9DvJfZm26gu"
      },
      "source": [
        "sil = {'sils':[],'klusters': range(5,50) }\n",
        "ind = {'ind':[],'klusters': range(5,50) }\n",
        "for i in range(5,50):\n",
        "  km = KMeans(n_clusters=i, init='k-means++', max_iter=600, \n",
        "            algorithm=\"full\", precompute_distances=True)\n",
        "  km.fit(X)\n",
        "  sil['sils'].append(metrics.silhouette_score(X, km.labels_, sample_size=1000))\n",
        "  ind['ind'].append(metrics.davies_bouldin_score(X.toarray(), km.labels_))"
      ],
      "execution_count": null,
      "outputs": []
    },
    {
      "cell_type": "code",
      "metadata": {
        "id": "W_-75AEU4DxD",
        "colab": {
          "base_uri": "https://localhost:8080/",
          "height": 559
        },
        "outputId": "60befb95-132e-4693-ab16-4c9bf73d7185"
      },
      "source": [
        "df = pd.DataFrame.from_dict(sil)\n",
        "df.plot(x='klusters',y='sils')\n",
        "df1 = pd.DataFrame.from_dict(ind)\n",
        "df1.plot(x='klusters',y='ind')"
      ],
      "execution_count": null,
      "outputs": [
        {
          "output_type": "execute_result",
          "data": {
            "text/plain": [
              "<matplotlib.axes._subplots.AxesSubplot at 0x7fbb0d2bd190>"
            ]
          },
          "metadata": {
            "tags": []
          },
          "execution_count": 46
        },
        {
          "output_type": "display_data",
          "data": {
            "image/png": "[encoded data removed]",
            "text/plain": [
              "<Figure size 432x288 with 1 Axes>"
            ]
          },
          "metadata": {
            "tags": [],
            "needs_background": "light"
          }
        },
        {
          "output_type": "display_data",
          "data": {
            "image/png": "[encoded data removed]",
            "text/plain": [
              "<Figure size 432x288 with 1 Axes>"
            ]
          },
          "metadata": {
            "tags": [],
            "needs_background": "light"
          }
        }
      ]
    },
    {
      "cell_type": "markdown",
      "metadata": {
        "id": "TXY3Xmu8klAt"
      },
      "source": [
        "Видим, что с увеличением числа кластеров метрики улучаются, однако у нас слишком маленький объем данных, чтобы брать например 100 или 200 клсатеров, т.к. при таком увеличении числа кластеров будет слишком много кластеров где будет находится только один документ. Поэтому, исходя из данных графиков возьмем число кластеров равное 40, т.к силует на этом значении возрастает, а индекс Девиса-Болдуина будет близок к минимуму."
      ]
    },
    {
      "cell_type": "code",
      "metadata": {
        "id": "nbL294F_-h7Y",
        "colab": {
          "base_uri": "https://localhost:8080/"
        },
        "outputId": "420380f3-f6a3-4dab-c077-57d6d83cd099"
      },
      "source": [
        "  km = KMeans(n_clusters=40, init='k-means++', max_iter=600, \n",
        "            algorithm=\"full\", precompute_distances=True)\n",
        "  km.fit(X)\n",
        "  print(metrics.silhouette_score(X, km.labels_, sample_size=1000))\n",
        "  print(metrics.davies_bouldin_score(X.toarray(), km.labels_))"
      ],
      "execution_count": null,
      "outputs": [
        {
          "output_type": "stream",
          "text": [
            "0.17720968107495208\n",
            "1.658353515319428\n"
          ],
          "name": "stdout"
        }
      ]
    },
    {
      "cell_type": "code",
      "metadata": {
        "colab": {
          "base_uri": "https://localhost:8080/"
        },
        "id": "fRfP5ZIXVBEX",
        "outputId": "7b118552-4bd9-4968-a346-16c4119b76a7"
      },
      "source": [
        "df_ner[\"label\"] = km.predict(X)\n",
        "print(df_ner[\"label\"].value_counts()) #посмотрим сколько объектов пинадлежит каждому классу"
      ],
      "execution_count": null,
      "outputs": [
        {
          "output_type": "stream",
          "text": [
            "6     453\n",
            "1      45\n",
            "5      27\n",
            "11     25\n",
            "19     20\n",
            "25     17\n",
            "9      17\n",
            "37     15\n",
            "26     13\n",
            "23     12\n",
            "28     10\n",
            "14     10\n",
            "18      9\n",
            "7       9\n",
            "36      8\n",
            "38      7\n",
            "21      7\n",
            "20      6\n",
            "24      5\n",
            "12      5\n",
            "29      5\n",
            "8       5\n",
            "10      4\n",
            "4       4\n",
            "39      4\n",
            "22      4\n",
            "34      4\n",
            "16      3\n",
            "17      3\n",
            "27      3\n",
            "32      3\n",
            "35      3\n",
            "0       3\n",
            "15      2\n",
            "13      2\n",
            "30      2\n",
            "31      2\n",
            "2       2\n",
            "33      1\n",
            "3       1\n",
            "Name: label, dtype: int64\n"
          ],
          "name": "stdout"
        },
        {
          "output_type": "stream",
          "text": [
            "/usr/local/lib/python3.7/dist-packages/ipykernel_launcher.py:1: SettingWithCopyWarning: \n",
            "A value is trying to be set on a copy of a slice from a DataFrame.\n",
            "Try using .loc[row_indexer,col_indexer] = value instead\n",
            "\n",
            "See the caveats in the documentation: https://pandas.pydata.org/pandas-docs/stable/user_guide/indexing.html#returning-a-view-versus-a-copy\n",
            "  \"\"\"Entry point for launching an IPython kernel.\n"
          ],
          "name": "stderr"
        }
      ]
    },
    {
      "cell_type": "markdown",
      "metadata": {
        "id": "wKmZ4ZMNlh9t"
      },
      "source": [
        "Заметим, что большое количесво объектов сгрупперовалось в шестом кластере, скорее всего там находятся данные, которые алгоритм не смог определить в другие классы. Посмотрим примеры сущностей, содержащихся в этих статьях"
      ]
    },
    {
      "cell_type": "code",
      "metadata": {
        "colab": {
          "base_uri": "https://localhost:8080/",
          "height": 509
        },
        "id": "3VkFTC9dlhJF",
        "outputId": "7eaeb3df-9405-4ca8-ffc8-beedf69c9aad"
      },
      "source": [
        "df_ner.query(\"label == 6\").sample(10)"
      ],
      "execution_count": null,
      "outputs": [
        {
          "output_type": "execute_result",
          "data": {
            "text/html": [
              "<div>\n",
              "<style scoped>\n",
              "    .dataframe tbody tr th:only-of-type {\n",
              "        vertical-align: middle;\n",
              "    }\n",
              "\n",
              "    .dataframe tbody tr th {\n",
              "        vertical-align: top;\n",
              "    }\n",
              "\n",
              "    .dataframe thead th {\n",
              "        text-align: right;\n",
              "    }\n",
              "</style>\n",
              "<table border=\"1\" class=\"dataframe\">\n",
              "  <thead>\n",
              "    <tr style=\"text-align: right;\">\n",
              "      <th></th>\n",
              "      <th>text</th>\n",
              "      <th>named_entities</th>\n",
              "      <th>label</th>\n",
              "    </tr>\n",
              "  </thead>\n",
              "  <tbody>\n",
              "    <tr>\n",
              "      <th>358</th>\n",
              "      <td>— Но ты не должна меня ждать. Никогда. Очень с...</td>\n",
              "      <td>[the washington post, бразилия, воз, иль-де-фр...</td>\n",
              "      <td>6</td>\n",
              "    </tr>\n",
              "    <tr>\n",
              "      <th>473</th>\n",
              "      <td>В Подмосковье врачи спасли двухгодовалого ребё...</td>\n",
              "      <td>[подмосковье]</td>\n",
              "      <td>6</td>\n",
              "    </tr>\n",
              "    <tr>\n",
              "      <th>673</th>\n",
              "      <td>В Магадане водитель маршрутки высадил 13-летне...</td>\n",
              "      <td>[магадан]</td>\n",
              "      <td>6</td>\n",
              "    </tr>\n",
              "    <tr>\n",
              "      <th>447</th>\n",
              "      <td>В Татарстане дети выстроились на коленях в сне...</td>\n",
              "      <td>[вишневка, минниханов, привольный, рустам минн...</td>\n",
              "      <td>6</td>\n",
              "    </tr>\n",
              "    <tr>\n",
              "      <th>826</th>\n",
              "      <td>Глава Следственного комитета Бастрыкин призвал...</td>\n",
              "      <td>[бастрыкин, следственный комитет]</td>\n",
              "      <td>6</td>\n",
              "    </tr>\n",
              "    <tr>\n",
              "      <th>70</th>\n",
              "      <td>Человечество может остаться без бананов из-за ...</td>\n",
              "      <td>[die welt]</td>\n",
              "      <td>6</td>\n",
              "    </tr>\n",
              "    <tr>\n",
              "      <th>644</th>\n",
              "      <td>Крым получит 2,2 млрд рублей на поиск месторо...</td>\n",
              "      <td>[крым, россия, слуга народ, тимошенко, школа к...</td>\n",
              "      <td>6</td>\n",
              "    </tr>\n",
              "    <tr>\n",
              "      <th>15</th>\n",
              "      <td>ЦБ отозвал лицензию у екатеринбургского банка...</td>\n",
              "      <td>[nasa, мкс, нейва, тбилиси, цб]</td>\n",
              "      <td>6</td>\n",
              "    </tr>\n",
              "    <tr>\n",
              "      <th>63</th>\n",
              "      <td>Хочешь рассмешить бога — расскажи ему о своих ...</td>\n",
              "      <td>[scmp, аргентина, китай, ковивак, минздрав, но...</td>\n",
              "      <td>6</td>\n",
              "    </tr>\n",
              "    <tr>\n",
              "      <th>275</th>\n",
              "      <td>Все суда, которые застряли из-за контейнеровоз...</td>\n",
              "      <td>[помянем, суэцкий канал]</td>\n",
              "      <td>6</td>\n",
              "    </tr>\n",
              "  </tbody>\n",
              "</table>\n",
              "</div>"
            ],
            "text/plain": [
              "                                                  text  ... label\n",
              "358  — Но ты не должна меня ждать. Никогда. Очень с...  ...     6\n",
              "473  В Подмосковье врачи спасли двухгодовалого ребё...  ...     6\n",
              "673  В Магадане водитель маршрутки высадил 13-летне...  ...     6\n",
              "447  В Татарстане дети выстроились на коленях в сне...  ...     6\n",
              "826  Глава Следственного комитета Бастрыкин призвал...  ...     6\n",
              "70   Человечество может остаться без бананов из-за ...  ...     6\n",
              "644   Крым получит 2,2 млрд рублей на поиск месторо...  ...     6\n",
              "15    ЦБ отозвал лицензию у екатеринбургского банка...  ...     6\n",
              "63   Хочешь рассмешить бога — расскажи ему о своих ...  ...     6\n",
              "275  Все суда, которые застряли из-за контейнеровоз...  ...     6\n",
              "\n",
              "[10 rows x 3 columns]"
            ]
          },
          "metadata": {
            "tags": []
          },
          "execution_count": 50
        }
      ]
    },
    {
      "cell_type": "markdown",
      "metadata": {
        "id": "bNt48hCOmBhG"
      },
      "source": [
        "Видим, что тут содержатся документы имеющие нетипичные темы, поэтому кластеризация для них прошла не совсем корректно.\n",
        "Выведем получившиеся кластеры имменованных сущностей:"
      ]
    },
    {
      "cell_type": "code",
      "metadata": {
        "colab": {
          "base_uri": "https://localhost:8080/"
        },
        "id": "7UNmA4KGVGN0",
        "outputId": "6964ff3e-b05a-47c9-f814-cf4262970810"
      },
      "source": [
        "order_centroids = km.cluster_centers_.argsort()[:, ::-1]\n",
        "terms = pipe[0].get_feature_names()\n",
        "for i in range(40):\n",
        "  print(\"Cluster %d:\" % i, end='')\n",
        "  for ind in order_centroids[i, :10]:\n",
        "    print(' %s' % terms[ind], end='')\n",
        "  print()"
      ],
      "execution_count": null,
      "outputs": [
        {
          "output_type": "stream",
          "text": [
            "Cluster 0: манижи ск совфед матвиенко россия дмитрий глуховского диана дзюба джордж флойд джон магуфули\n",
            "Cluster 1: петербург москва россия ярославль джастин трюдо джеймс кэмерон джек дорси джефф безос джимми хендрикс джо байден\n",
            "Cluster 2: бразилия нтв госдума дмитрий песков дмитрий лисовец дмитрий ионин дмитрий глуховского диана дзюба детская студия «дом свет\n",
            "Cluster 3: магуфули танзания рф киргизия рпц австрия греция ес япония дзюба\n",
            "Cluster 4: китай воз сми джон магуфули джастин трюдо джеймс кэмерон джек дорси джефф безос джимми хендрикс джо байден\n",
            "Cluster 5: россия сша aliexpress узбекистан фсб рф воз путин стокгольм госдепартамент\n",
            "Cluster 6: россия astrazeneca германия воз франция крым вконтакте сша великобритания facebook\n",
            "Cluster 7: байден сша россия вашингтон сводочку китай афганистан роскомнадзор голливуд украина\n",
            "Cluster 8: петербург ярославль день пэйнта джастин трюдо джеймс кэмерон джек дорси джефф безос джимми хендрикс джо байден джон магуфули\n",
            "Cluster 9: госдума россия реж известия эрмитаж ск сергей it instagram генпрокуратура\n",
            "Cluster 10: тюмень россия орз уфсин навальный джеймс кэмерон джек дорси джефф безос джимми хендрикс джо байден\n",
            "Cluster 11: сми северодвинск химки upd тайвань нижневартовск макассар роналдо швеция volkswagen\n",
            "Cluster 12: мвд питер перу беларусь lumen минобороны великобритания сша россия джон магуфули\n",
            "Cluster 13: росстат россия джо байден детская студия «дом свет джастин трюдо джеймс кэмерон джек дорси джефф безос джимми хендрикс ярославль\n",
            "Cluster 14: роскомнадзор twitter восточный ркн россия сми джастин трюдо джеймс кэмерон джек дорси джефф безос\n",
            "Cluster 15: калининград time лувр фсб джон магуфули джеймс кэмерон джек дорси джефф безос джимми хендрикс джо байден\n",
            "Cluster 16: песков путин россия джимми хендрикс день пэйнта детская студия «дом свет джастин трюдо джеймс кэмерон джек дорси джефф безос\n",
            "Cluster 17: белозерцев сми ск путин госуслуг госуслуга дмитрий глуховского диана дзюба джордж флойд\n",
            "Cluster 18: турция ростуризм россия танзания европа авиасообщение голикова зеленский украина минздрав\n",
            "Cluster 19: навальный тасс покров сизо сахарово инстаграм tiktok мвд фбк грозный\n",
            "Cluster 20: twitter захарова clubhouse роскомнадзор джон магуфули джастин трюдо джеймс кэмерон джек дорси джефф безос джимми хендрикс\n",
            "Cluster 21: япония сенат astrazeneca лондон сми греция сша ямайка вакцинация интерфакс\n",
            "Cluster 22: bloomberg forbes сша франция китай сергей россия ярославль детская студия «дом свет джастин трюдо\n",
            "Cluster 23: лентач голосовалка lumen кровосток dj пикчерами аукцыон главклуб clubhouse питер\n",
            "Cluster 24: австралия свдс риви госдума джо байден госдепартамент джастин трюдо джеймс кэмерон джек дорси джефф безос\n",
            "Cluster 25: сша россия nbc штаты эванстон tinder apple венесуэла ссср ростелеком\n",
            "Cluster 26: рф минпросвещения минюст сша rt россия путин италия кнр росгвардии\n",
            "Cluster 27: европа еврокомиссия россия еспч рф ярославль джефф безос детская студия «дом свет джастин трюдо джеймс кэмерон\n",
            "Cluster 28: путин байден abc кремль мельниченко сша беларусь литва оон латвия\n",
            "Cluster 29: telegram upd роскомнадзор телеграм mubadala дмитрий лисовец джастин трюдо джеймс кэмерон джек дорси джефф безос\n",
            "Cluster 30: париж ярославль джон магуфули джастин трюдо джеймс кэмерон джек дорси джефф безос джимми хендрикс джо байден джордж флойд\n",
            "Cluster 31: росгвардии суд ярославль джо байден джастин трюдо джеймс кэмерон джек дорси джефф безос джимми хендрикс джон магуфули\n",
            "Cluster 32: испания россия джо байден детская студия «дом свет джастин трюдо джеймс кэмерон джек дорси джефф безос джимми хендрикс ярославль\n",
            "Cluster 33: барбуда антигуа ватикан лукашенко подмосковье греция воз джеймс кэмерон джек дорси джефф безос\n",
            "Cluster 34: казань москва россия ярославль джо байден джастин трюдо джеймс кэмерон джек дорси джефф безос джимми хендрикс\n",
            "Cluster 35: марс nasa земля джеймс кэмерон джек дорси джефф безос джимми хендрикс джо байден джон магуфули джордж флойд\n",
            "Cluster 36: суд минск сми москва фбк итмо каста сокольники политбюро netflix\n",
            "Cluster 37: москва россия каро маяковский благовещенск андрей омон мтс петербург tequilajazzz\n",
            "Cluster 38: яндекс samsung минцифры downdetector сочи google youtube фсб госдума путин\n",
            "Cluster 39: сергей собянин ск москва дзюба джордж флойд джон магуфули джо байден джимми хендрикс джефф безос\n"
          ],
          "name": "stdout"
        }
      ]
    },
    {
      "cell_type": "markdown",
      "metadata": {
        "id": "kTgwUe7imzaN"
      },
      "source": [
        "Не смотря на то, что кластеризация получилась не идеальная, в каждом кластере прослеживаются какие-то ключевые темы. Например какие-то кластеры будут содержать сущности из новостей про знаменитостей (кластер 0), туризм(кластер 18), IT (кластер 25) и тд.\n",
        "Однако, число именованных сущностей для моих данных небольшое (2855 всего и 1151 уникальных), поэтому можно сделать вывод, что для моих данных лучше использовать другой тип кластеризации, например LDA, чтобы получить более точное разбиение."
      ]
    }
  ]
}