{
  "nbformat": 4,
  "nbformat_minor": 0,
  "metadata": {
    "colab": {
      "name": "лаба 5.ipynb",
      "provenance": [],
      "collapsed_sections": [],
      "include_colab_link": true
    },
    "kernelspec": {
      "name": "python3",
      "display_name": "Python 3"
    },
    "language_info": {
      "name": "python"
    }
  },
  "cells": [
    {
      "cell_type": "markdown",
      "metadata": {
        "id": "view-in-github",
        "colab_type": "text"
      },
      "source": [
        "<a href=\"https://colab.research.google.com/github/OlegLaiok/Comp_Lingv/blob/homework5-6/%D0%BB%D0%B0%D0%B1%D0%B0_5.ipynb\" target=\"_parent\"><img src=\"https://colab.research.google.com/assets/colab-badge.svg\" alt=\"Open In Colab\"/></a>"
      ]
    },
    {
      "cell_type": "code",
      "metadata": {
        "id": "X94d0JdXjmX4",
        "colab": {
          "base_uri": "https://localhost:8080/"
        },
        "outputId": "4c92faa2-73bc-4949-99fb-d00964ef4b17"
      },
      "source": [
        "!pip install pymorphy2\n",
        "!pip install nltk"
      ],
      "execution_count": 28,
      "outputs": [
        {
          "output_type": "stream",
          "text": [
            "Requirement already satisfied: pymorphy2 in /usr/local/lib/python3.7/dist-packages (0.9.1)\n",
            "Requirement already satisfied: pymorphy2-dicts-ru<3.0,>=2.4 in /usr/local/lib/python3.7/dist-packages (from pymorphy2) (2.4.417127.4579844)\n",
            "Requirement already satisfied: dawg-python>=0.7.1 in /usr/local/lib/python3.7/dist-packages (from pymorphy2) (0.7.2)\n",
            "Requirement already satisfied: docopt>=0.6 in /usr/local/lib/python3.7/dist-packages (from pymorphy2) (0.6.2)\n",
            "Requirement already satisfied: nltk in /usr/local/lib/python3.7/dist-packages (3.2.5)\n",
            "Requirement already satisfied: six in /usr/local/lib/python3.7/dist-packages (from nltk) (1.15.0)\n"
          ],
          "name": "stdout"
        }
      ]
    },
    {
      "cell_type": "code",
      "metadata": {
        "id": "L_cfFgl2koWR",
        "colab": {
          "base_uri": "https://localhost:8080/"
        },
        "outputId": "5bc58ac1-4e95-41d1-950f-41a7150416d1"
      },
      "source": [
        "import json\n",
        "from math import nan\n",
        "import pandas as pd\n",
        "import numpy as np\n",
        "import re\n",
        "import string\n",
        "import nltk\n",
        "nltk.download('stopwords')\n",
        "nltk.download('punkt')\n",
        "from nltk import word_tokenize\n",
        "from nltk.corpus import stopwords\n",
        "import pymorphy2\n",
        "from sklearn.feature_extraction.text import CountVectorizer\n",
        "from sklearn.feature_extraction.text import TfidfVectorizer\n",
        "from sklearn.model_selection import train_test_split\n",
        "from sklearn.naive_bayes import MultinomialNB\n",
        "from sklearn.metrics import *"
      ],
      "execution_count": 29,
      "outputs": [
        {
          "output_type": "stream",
          "text": [
            "[nltk_data] Downloading package stopwords to /root/nltk_data...\n",
            "[nltk_data]   Package stopwords is already up-to-date!\n",
            "[nltk_data] Downloading package punkt to /root/nltk_data...\n",
            "[nltk_data]   Package punkt is already up-to-date!\n"
          ],
          "name": "stdout"
        }
      ]
    },
    {
      "cell_type": "code",
      "metadata": {
        "colab": {
          "base_uri": "https://localhost:8080/"
        },
        "id": "M0zehNOzkqCR",
        "outputId": "4e180f4e-88bd-4c92-eced-192863426a66"
      },
      "source": [
        "from google.colab import drive\n",
        "drive.mount('/content/drive')"
      ],
      "execution_count": 30,
      "outputs": [
        {
          "output_type": "stream",
          "text": [
            "Drive already mounted at /content/drive; to attempt to forcibly remount, call drive.mount(\"/content/drive\", force_remount=True).\n"
          ],
          "name": "stdout"
        }
      ]
    },
    {
      "cell_type": "code",
      "metadata": {
        "colab": {
          "base_uri": "https://localhost:8080/"
        },
        "id": "SvgUagrXk6wO",
        "outputId": "02baf4ae-cd2f-4722-b621-461902c996eb"
      },
      "source": [
        "news = pd.read_csv('/content/drive/MyDrive/Colab Notebooks/news.csv')\n",
        "print(news.head())"
      ],
      "execution_count": 31,
      "outputs": [
        {
          "output_type": "stream",
          "text": [
            "     source                                           title  ...     subrubric tags\n",
            "0  lenta.ru                                  Синий богатырь  ...  Госэкономика  NaN\n",
            "1  lenta.ru  Загитова согласилась вести «Ледниковый период»  ...   Зимние виды  NaN\n",
            "2  lenta.ru       Объяснена опасность однообразного питания  ...           Еда  NaN\n",
            "3  lenta.ru                      «Предохраняться? А зачем?»  ...    ТВ и радио  NaN\n",
            "4  lenta.ru     Ефремов систематически употреблял наркотики  ...          Кино  NaN\n",
            "\n",
            "[5 rows x 7 columns]\n"
          ],
          "name": "stdout"
        }
      ]
    },
    {
      "cell_type": "code",
      "metadata": {
        "id": "F3E3CrC1lg2W"
      },
      "source": [
        "data = pd.DataFrame(news.loc[0:2000, ['text', 'rubric']])"
      ],
      "execution_count": 32,
      "outputs": []
    },
    {
      "cell_type": "code",
      "metadata": {
        "id": "lWfwNh26lkGe"
      },
      "source": [
        "for i in range(len(data['rubric'])):\n",
        "    if (isinstance(data['rubric'][i], str)):\n",
        "        pass\n",
        "    else:\n",
        "        data['rubric'][i] = 'Nothing'\n",
        "news_text = data['text'].to_list()\n",
        "punct = string.punctuation + \"—\" + \"«\" + \"»\"\n",
        "stopwords_list = stopwords.words(\"russian\")\n",
        "stopwords_list.append(stopwords.words('english'))\n",
        "analyzer = pymorphy2.MorphAnalyzer()"
      ],
      "execution_count": 33,
      "outputs": []
    },
    {
      "cell_type": "code",
      "metadata": {
        "id": "VQpkyayjlr53"
      },
      "source": [
        "for i in range(0,len(news_text)):\n",
        "    news_text[i]= re.sub(r'\\n', ' ', news_text[i]) #удаляем символы новой строки\n",
        "    news_text[i]= re.sub(r'\\bhttp.+\\b', ' ', news_text[i]) #удаляем ссылки\n",
        "    news_text[i] = re.sub(r'\\s{2,}',\" \",news_text[i]) #удаляем образовавшиеся повторы пробелов\n",
        "    news_text[i] = word_tokenize(news_text[i])\n",
        "    news_text[i] = [token.lower() for token in news_text[i] if token not in punct]\n",
        "    news_text[i] = [word for word in news_text[i] if word not in stopwords_list]\n",
        "    news_text[i] = [analyzer.parse(word)[0].normal_form for word in news_text[i]]\n",
        "news_text = [' '.join(text) for text in news_text]"
      ],
      "execution_count": 34,
      "outputs": []
    },
    {
      "cell_type": "code",
      "metadata": {
        "id": "zZrZzWdBl3qn"
      },
      "source": [
        "x_train, x_test, y_train, y_test = train_test_split(news_text, data.rubric, train_size = 0.5)\n",
        "table = {'type': [], 'settings': [], 'precision': [], 'recall': [],\n",
        "              'accuracy': [], 'f_1': []}"
      ],
      "execution_count": 35,
      "outputs": []
    },
    {
      "cell_type": "code",
      "metadata": {
        "id": "qEmxHAs6rXty",
        "colab": {
          "base_uri": "https://localhost:8080/"
        },
        "outputId": "07a5cfad-90dc-4feb-f7f9-ed54fa5824a1"
      },
      "source": [
        "#векторизация из sklearn по n-граммам различного порядка\n",
        "for n in range(1,10):\n",
        "    vectorizer = CountVectorizer(ngram_range=(1, n), stop_words=stopwords.words(\"russian\"))\n",
        "    vectorized_x_train = vectorizer.fit_transform(x_train)\n",
        "    clf = MultinomialNB()\n",
        "    clf.fit(vectorized_x_train, y_train)\n",
        "    vectorized_x_test = vectorizer.transform(x_test)\n",
        "    pred = clf.predict(vectorized_x_test)\n",
        "    print('При n=',n)\n",
        "    print(classification_report(y_test, pred))\n",
        "    table['type'].append('n-grams')\n",
        "    table['settings'].append(f'(1, {n})')\n",
        "    table['precision'].append(precision_score(y_test, pred, zero_division=1, average='macro'))\n",
        "    table['recall'].append(recall_score(y_test, pred,zero_division=1, average='macro'))\n",
        "    table['accuracy'].append(accuracy_score(y_test, pred))\n",
        "    table['f_1'].append(f1_score(y_test, pred, zero_division=1, average='macro'))"
      ],
      "execution_count": 36,
      "outputs": [
        {
          "output_type": "stream",
          "text": [
            "При n= 1\n",
            "                   precision    recall  f1-score   support\n",
            "\n",
            "   69-я параллель       0.00      0.00      0.00         2\n",
            "          Nothing       0.00      0.00      0.00         1\n",
            "      Бывший СССР       0.75      0.88      0.81       121\n",
            "              Дом       0.83      0.19      0.31        26\n",
            "         Из жизни       0.80      0.38      0.52        42\n",
            "   Интернет и СМИ       0.46      0.60      0.52        45\n",
            "         Культура       0.76      0.42      0.54        45\n",
            "              Мир       0.60      0.85      0.70       158\n",
            "  Наука и техника       0.95      0.51      0.67        37\n",
            "       Нацпроекты       1.00      0.39      0.56        23\n",
            "      Путешествия       1.00      0.57      0.73        42\n",
            "           Россия       0.65      0.72      0.69       166\n",
            "Силовые структуры       0.73      0.61      0.67        54\n",
            "            Спорт       0.99      0.92      0.95       122\n",
            "         Ценности       0.94      0.69      0.79        45\n",
            "        Экономика       0.65      0.86      0.74        72\n",
            "\n",
            "         accuracy                           0.72      1001\n",
            "        macro avg       0.69      0.54      0.57      1001\n",
            "     weighted avg       0.75      0.72      0.71      1001\n",
            "\n"
          ],
          "name": "stdout"
        },
        {
          "output_type": "stream",
          "text": [
            "/usr/local/lib/python3.7/dist-packages/sklearn/metrics/_classification.py:1272: UndefinedMetricWarning: Precision and F-score are ill-defined and being set to 0.0 in labels with no predicted samples. Use `zero_division` parameter to control this behavior.\n",
            "  _warn_prf(average, modifier, msg_start, len(result))\n"
          ],
          "name": "stderr"
        },
        {
          "output_type": "stream",
          "text": [
            "При n= 2\n",
            "                   precision    recall  f1-score   support\n",
            "\n",
            "   69-я параллель       0.00      0.00      0.00         2\n",
            "          Nothing       0.00      0.00      0.00         1\n",
            "      Бывший СССР       0.76      0.85      0.80       121\n",
            "              Дом       1.00      0.12      0.21        26\n",
            "         Из жизни       1.00      0.17      0.29        42\n",
            "   Интернет и СМИ       0.50      0.38      0.43        45\n",
            "         Культура       0.69      0.24      0.36        45\n",
            "              Мир       0.47      0.85      0.61       158\n",
            "  Наука и техника       0.92      0.30      0.45        37\n",
            "       Нацпроекты       1.00      0.43      0.61        23\n",
            "      Путешествия       1.00      0.33      0.50        42\n",
            "           Россия       0.55      0.78      0.64       166\n",
            "Силовые структуры       0.85      0.43      0.57        54\n",
            "            Спорт       1.00      0.89      0.94       122\n",
            "         Ценности       0.97      0.64      0.77        45\n",
            "        Экономика       0.69      0.82      0.75        72\n",
            "\n",
            "         accuracy                           0.66      1001\n",
            "        macro avg       0.71      0.45      0.50      1001\n",
            "     weighted avg       0.74      0.66      0.64      1001\n",
            "\n"
          ],
          "name": "stdout"
        },
        {
          "output_type": "stream",
          "text": [
            "/usr/local/lib/python3.7/dist-packages/sklearn/metrics/_classification.py:1272: UndefinedMetricWarning: Precision and F-score are ill-defined and being set to 0.0 in labels with no predicted samples. Use `zero_division` parameter to control this behavior.\n",
            "  _warn_prf(average, modifier, msg_start, len(result))\n"
          ],
          "name": "stderr"
        },
        {
          "output_type": "stream",
          "text": [
            "При n= 3\n",
            "                   precision    recall  f1-score   support\n",
            "\n",
            "   69-я параллель       0.00      0.00      0.00         2\n",
            "          Nothing       0.00      0.00      0.00         1\n",
            "      Бывший СССР       0.75      0.84      0.79       121\n",
            "              Дом       1.00      0.12      0.21        26\n",
            "         Из жизни       0.88      0.17      0.28        42\n",
            "   Интернет и СМИ       0.47      0.36      0.41        45\n",
            "         Культура       0.69      0.24      0.36        45\n",
            "              Мир       0.45      0.85      0.59       158\n",
            "  Наука и техника       0.91      0.27      0.42        37\n",
            "       Нацпроекты       1.00      0.43      0.61        23\n",
            "      Путешествия       1.00      0.29      0.44        42\n",
            "           Россия       0.53      0.75      0.62       166\n",
            "Силовые структуры       0.82      0.33      0.47        54\n",
            "            Спорт       1.00      0.89      0.94       122\n",
            "         Ценности       0.97      0.64      0.77        45\n",
            "        Экономика       0.69      0.78      0.73        72\n",
            "\n",
            "         accuracy                           0.64      1001\n",
            "        macro avg       0.70      0.43      0.48      1001\n",
            "     weighted avg       0.72      0.64      0.62      1001\n",
            "\n"
          ],
          "name": "stdout"
        },
        {
          "output_type": "stream",
          "text": [
            "/usr/local/lib/python3.7/dist-packages/sklearn/metrics/_classification.py:1272: UndefinedMetricWarning: Precision and F-score are ill-defined and being set to 0.0 in labels with no predicted samples. Use `zero_division` parameter to control this behavior.\n",
            "  _warn_prf(average, modifier, msg_start, len(result))\n"
          ],
          "name": "stderr"
        },
        {
          "output_type": "stream",
          "text": [
            "При n= 4\n",
            "                   precision    recall  f1-score   support\n",
            "\n",
            "   69-я параллель       0.00      0.00      0.00         2\n",
            "          Nothing       0.00      0.00      0.00         1\n",
            "      Бывший СССР       0.76      0.84      0.80       121\n",
            "              Дом       1.00      0.12      0.21        26\n",
            "         Из жизни       0.88      0.17      0.28        42\n",
            "   Интернет и СМИ       0.46      0.38      0.41        45\n",
            "         Культура       0.67      0.22      0.33        45\n",
            "              Мир       0.45      0.84      0.58       158\n",
            "  Наука и техника       0.91      0.27      0.42        37\n",
            "       Нацпроекты       1.00      0.48      0.65        23\n",
            "      Путешествия       1.00      0.29      0.44        42\n",
            "           Россия       0.53      0.75      0.62       166\n",
            "Силовые структуры       0.81      0.31      0.45        54\n",
            "            Спорт       1.00      0.88      0.93       122\n",
            "         Ценности       0.97      0.64      0.77        45\n",
            "        Экономика       0.69      0.78      0.73        72\n",
            "\n",
            "         accuracy                           0.64      1001\n",
            "        macro avg       0.69      0.43      0.48      1001\n",
            "     weighted avg       0.72      0.64      0.62      1001\n",
            "\n"
          ],
          "name": "stdout"
        },
        {
          "output_type": "stream",
          "text": [
            "/usr/local/lib/python3.7/dist-packages/sklearn/metrics/_classification.py:1272: UndefinedMetricWarning: Precision and F-score are ill-defined and being set to 0.0 in labels with no predicted samples. Use `zero_division` parameter to control this behavior.\n",
            "  _warn_prf(average, modifier, msg_start, len(result))\n"
          ],
          "name": "stderr"
        },
        {
          "output_type": "stream",
          "text": [
            "При n= 5\n",
            "                   precision    recall  f1-score   support\n",
            "\n",
            "   69-я параллель       0.00      0.00      0.00         2\n",
            "          Nothing       0.00      0.00      0.00         1\n",
            "      Бывший СССР       0.76      0.84      0.80       121\n",
            "              Дом       1.00      0.12      0.21        26\n",
            "         Из жизни       0.88      0.17      0.28        42\n",
            "   Интернет и СМИ       0.47      0.38      0.42        45\n",
            "         Культура       0.67      0.22      0.33        45\n",
            "              Мир       0.43      0.82      0.57       158\n",
            "  Наука и техника       0.91      0.27      0.42        37\n",
            "       Нацпроекты       1.00      0.57      0.72        23\n",
            "      Путешествия       1.00      0.29      0.44        42\n",
            "           Россия       0.53      0.75      0.62       166\n",
            "Силовые структуры       0.81      0.31      0.45        54\n",
            "            Спорт       1.00      0.88      0.93       122\n",
            "         Ценности       0.97      0.64      0.77        45\n",
            "        Экономика       0.70      0.75      0.72        72\n",
            "\n",
            "         accuracy                           0.63      1001\n",
            "        macro avg       0.70      0.44      0.48      1001\n",
            "     weighted avg       0.72      0.63      0.62      1001\n",
            "\n"
          ],
          "name": "stdout"
        },
        {
          "output_type": "stream",
          "text": [
            "/usr/local/lib/python3.7/dist-packages/sklearn/metrics/_classification.py:1272: UndefinedMetricWarning: Precision and F-score are ill-defined and being set to 0.0 in labels with no predicted samples. Use `zero_division` parameter to control this behavior.\n",
            "  _warn_prf(average, modifier, msg_start, len(result))\n"
          ],
          "name": "stderr"
        },
        {
          "output_type": "stream",
          "text": [
            "При n= 6\n",
            "                   precision    recall  f1-score   support\n",
            "\n",
            "   69-я параллель       0.00      0.00      0.00         2\n",
            "          Nothing       0.00      0.00      0.00         1\n",
            "      Бывший СССР       0.76      0.85      0.80       121\n",
            "              Дом       1.00      0.12      0.21        26\n",
            "         Из жизни       0.88      0.17      0.28        42\n",
            "   Интернет и СМИ       0.47      0.38      0.42        45\n",
            "         Культура       0.67      0.22      0.33        45\n",
            "              Мир       0.44      0.82      0.57       158\n",
            "  Наука и техника       0.91      0.27      0.42        37\n",
            "       Нацпроекты       1.00      0.57      0.72        23\n",
            "      Путешествия       1.00      0.31      0.47        42\n",
            "           Россия       0.53      0.75      0.62       166\n",
            "Силовые структуры       0.85      0.31      0.46        54\n",
            "            Спорт       1.00      0.88      0.93       122\n",
            "         Ценности       0.97      0.64      0.77        45\n",
            "        Экономика       0.70      0.75      0.72        72\n",
            "\n",
            "         accuracy                           0.64      1001\n",
            "        macro avg       0.70      0.44      0.48      1001\n",
            "     weighted avg       0.72      0.64      0.62      1001\n",
            "\n"
          ],
          "name": "stdout"
        },
        {
          "output_type": "stream",
          "text": [
            "/usr/local/lib/python3.7/dist-packages/sklearn/metrics/_classification.py:1272: UndefinedMetricWarning: Precision and F-score are ill-defined and being set to 0.0 in labels with no predicted samples. Use `zero_division` parameter to control this behavior.\n",
            "  _warn_prf(average, modifier, msg_start, len(result))\n"
          ],
          "name": "stderr"
        },
        {
          "output_type": "stream",
          "text": [
            "При n= 7\n",
            "                   precision    recall  f1-score   support\n",
            "\n",
            "   69-я параллель       0.00      0.00      0.00         2\n",
            "          Nothing       0.00      0.00      0.00         1\n",
            "      Бывший СССР       0.76      0.85      0.80       121\n",
            "              Дом       1.00      0.12      0.21        26\n",
            "         Из жизни       0.88      0.17      0.28        42\n",
            "   Интернет и СМИ       0.47      0.38      0.42        45\n",
            "         Культура       0.67      0.22      0.33        45\n",
            "              Мир       0.44      0.82      0.57       158\n",
            "  Наука и техника       0.91      0.27      0.42        37\n",
            "       Нацпроекты       1.00      0.57      0.72        23\n",
            "      Путешествия       1.00      0.31      0.47        42\n",
            "           Россия       0.53      0.75      0.62       166\n",
            "Силовые структуры       0.85      0.31      0.46        54\n",
            "            Спорт       1.00      0.88      0.93       122\n",
            "         Ценности       0.97      0.64      0.77        45\n",
            "        Экономика       0.70      0.75      0.72        72\n",
            "\n",
            "         accuracy                           0.64      1001\n",
            "        macro avg       0.70      0.44      0.48      1001\n",
            "     weighted avg       0.72      0.64      0.62      1001\n",
            "\n"
          ],
          "name": "stdout"
        },
        {
          "output_type": "stream",
          "text": [
            "/usr/local/lib/python3.7/dist-packages/sklearn/metrics/_classification.py:1272: UndefinedMetricWarning: Precision and F-score are ill-defined and being set to 0.0 in labels with no predicted samples. Use `zero_division` parameter to control this behavior.\n",
            "  _warn_prf(average, modifier, msg_start, len(result))\n"
          ],
          "name": "stderr"
        },
        {
          "output_type": "stream",
          "text": [
            "При n= 8\n",
            "                   precision    recall  f1-score   support\n",
            "\n",
            "   69-я параллель       0.00      0.00      0.00         2\n",
            "          Nothing       0.00      0.00      0.00         1\n",
            "      Бывший СССР       0.76      0.84      0.80       121\n",
            "              Дом       1.00      0.12      0.21        26\n",
            "         Из жизни       0.88      0.17      0.28        42\n",
            "   Интернет и СМИ       0.46      0.36      0.40        45\n",
            "         Культура       0.67      0.22      0.33        45\n",
            "              Мир       0.43      0.82      0.56       158\n",
            "  Наука и техника       0.91      0.27      0.42        37\n",
            "       Нацпроекты       1.00      0.57      0.72        23\n",
            "      Путешествия       1.00      0.31      0.47        42\n",
            "           Россия       0.53      0.75      0.62       166\n",
            "Силовые структуры       0.85      0.31      0.46        54\n",
            "            Спорт       1.00      0.88      0.93       122\n",
            "         Ценности       0.97      0.64      0.77        45\n",
            "        Экономика       0.72      0.75      0.73        72\n",
            "\n",
            "         accuracy                           0.63      1001\n",
            "        macro avg       0.70      0.44      0.48      1001\n",
            "     weighted avg       0.72      0.63      0.62      1001\n",
            "\n"
          ],
          "name": "stdout"
        },
        {
          "output_type": "stream",
          "text": [
            "/usr/local/lib/python3.7/dist-packages/sklearn/metrics/_classification.py:1272: UndefinedMetricWarning: Precision and F-score are ill-defined and being set to 0.0 in labels with no predicted samples. Use `zero_division` parameter to control this behavior.\n",
            "  _warn_prf(average, modifier, msg_start, len(result))\n"
          ],
          "name": "stderr"
        },
        {
          "output_type": "stream",
          "text": [
            "При n= 9\n",
            "                   precision    recall  f1-score   support\n",
            "\n",
            "   69-я параллель       0.00      0.00      0.00         2\n",
            "          Nothing       0.00      0.00      0.00         1\n",
            "      Бывший СССР       0.76      0.84      0.80       121\n",
            "              Дом       1.00      0.12      0.21        26\n",
            "         Из жизни       0.88      0.17      0.28        42\n",
            "   Интернет и СМИ       0.46      0.36      0.40        45\n",
            "         Культура       0.67      0.22      0.33        45\n",
            "              Мир       0.43      0.82      0.56       158\n",
            "  Наука и техника       0.91      0.27      0.42        37\n",
            "       Нацпроекты       1.00      0.57      0.72        23\n",
            "      Путешествия       1.00      0.31      0.47        42\n",
            "           Россия       0.53      0.75      0.62       166\n",
            "Силовые структуры       0.85      0.31      0.46        54\n",
            "            Спорт       1.00      0.88      0.93       122\n",
            "         Ценности       0.97      0.62      0.76        45\n",
            "        Экономика       0.73      0.75      0.74        72\n",
            "\n",
            "         accuracy                           0.63      1001\n",
            "        macro avg       0.70      0.44      0.48      1001\n",
            "     weighted avg       0.72      0.63      0.62      1001\n",
            "\n"
          ],
          "name": "stdout"
        },
        {
          "output_type": "stream",
          "text": [
            "/usr/local/lib/python3.7/dist-packages/sklearn/metrics/_classification.py:1272: UndefinedMetricWarning: Precision and F-score are ill-defined and being set to 0.0 in labels with no predicted samples. Use `zero_division` parameter to control this behavior.\n",
            "  _warn_prf(average, modifier, msg_start, len(result))\n"
          ],
          "name": "stderr"
        }
      ]
    },
    {
      "cell_type": "code",
      "metadata": {
        "colab": {
          "base_uri": "https://localhost:8080/"
        },
        "id": "UVabv08Rrjng",
        "outputId": "07a01d86-fcd5-4249-d42d-d721eaee5551"
      },
      "source": [
        "# векторизация по символьным n-граммам\n",
        "for n in range(3,11):\n",
        "    char_vectorizer = CountVectorizer(analyzer='char', ngram_range=(2, n))\n",
        "    char_vectorized_x_train = char_vectorizer.fit_transform(x_train)\n",
        "    clf = MultinomialNB()\n",
        "    clf.fit(char_vectorized_x_train, y_train)\n",
        "    char_vectorized_x_test = char_vectorizer.transform(x_test)\n",
        "    pred = clf.predict(char_vectorized_x_test)\n",
        "    print('При n=',n)\n",
        "    print(classification_report(y_test, pred))\n",
        "    table['type'].append('symbol_n-grams')\n",
        "    table['settings'].append(f'(3, {n})')\n",
        "    table['precision'].append(precision_score(y_test, pred,zero_division=1, average='macro'))\n",
        "    table['recall'].append(recall_score(y_test, pred,zero_division=1, average='macro'))\n",
        "    table['accuracy'].append(accuracy_score(y_test, pred))\n",
        "    table['f_1'].append(f1_score(y_test, pred,zero_division=1, average='macro'))"
      ],
      "execution_count": 37,
      "outputs": [
        {
          "output_type": "stream",
          "text": [
            "При n= 3\n",
            "                   precision    recall  f1-score   support\n",
            "\n",
            "   69-я параллель       0.00      0.00      0.00         2\n",
            "          Nothing       0.00      0.00      0.00         1\n",
            "      Бывший СССР       0.79      0.87      0.83       121\n",
            "              Дом       1.00      0.19      0.32        26\n",
            "         Из жизни       0.76      0.31      0.44        42\n",
            "   Интернет и СМИ       0.34      0.47      0.40        45\n",
            "         Культура       0.71      0.38      0.49        45\n",
            "              Мир       0.62      0.82      0.70       158\n",
            "  Наука и техника       0.85      0.59      0.70        37\n",
            "       Нацпроекты       1.00      0.35      0.52        23\n",
            "      Путешествия       0.96      0.57      0.72        42\n",
            "           Россия       0.51      0.70      0.59       166\n",
            "Силовые структуры       0.75      0.56      0.64        54\n",
            "            Спорт       0.99      0.88      0.93       122\n",
            "         Ценности       0.93      0.60      0.73        45\n",
            "        Экономика       0.69      0.82      0.75        72\n",
            "\n",
            "         accuracy                           0.68      1001\n",
            "        macro avg       0.68      0.51      0.55      1001\n",
            "     weighted avg       0.73      0.68      0.68      1001\n",
            "\n"
          ],
          "name": "stdout"
        },
        {
          "output_type": "stream",
          "text": [
            "/usr/local/lib/python3.7/dist-packages/sklearn/metrics/_classification.py:1272: UndefinedMetricWarning: Precision and F-score are ill-defined and being set to 0.0 in labels with no predicted samples. Use `zero_division` parameter to control this behavior.\n",
            "  _warn_prf(average, modifier, msg_start, len(result))\n"
          ],
          "name": "stderr"
        },
        {
          "output_type": "stream",
          "text": [
            "При n= 4\n",
            "                   precision    recall  f1-score   support\n",
            "\n",
            "   69-я параллель       0.00      0.00      0.00         2\n",
            "          Nothing       0.00      0.00      0.00         1\n",
            "      Бывший СССР       0.79      0.88      0.84       121\n",
            "              Дом       1.00      0.04      0.07        26\n",
            "         Из жизни       1.00      0.12      0.21        42\n",
            "   Интернет и СМИ       0.36      0.42      0.39        45\n",
            "         Культура       0.69      0.20      0.31        45\n",
            "              Мир       0.53      0.85      0.65       158\n",
            "  Наука и техника       0.88      0.38      0.53        37\n",
            "       Нацпроекты       1.00      0.22      0.36        23\n",
            "      Путешествия       1.00      0.26      0.42        42\n",
            "           Россия       0.49      0.78      0.60       166\n",
            "Силовые структуры       0.79      0.35      0.49        54\n",
            "            Спорт       1.00      0.87      0.93       122\n",
            "         Ценности       0.96      0.53      0.69        45\n",
            "        Экономика       0.64      0.81      0.72        72\n",
            "\n",
            "         accuracy                           0.64      1001\n",
            "        macro avg       0.70      0.42      0.45      1001\n",
            "     weighted avg       0.73      0.64      0.61      1001\n",
            "\n"
          ],
          "name": "stdout"
        },
        {
          "output_type": "stream",
          "text": [
            "/usr/local/lib/python3.7/dist-packages/sklearn/metrics/_classification.py:1272: UndefinedMetricWarning: Precision and F-score are ill-defined and being set to 0.0 in labels with no predicted samples. Use `zero_division` parameter to control this behavior.\n",
            "  _warn_prf(average, modifier, msg_start, len(result))\n"
          ],
          "name": "stderr"
        },
        {
          "output_type": "stream",
          "text": [
            "При n= 5\n",
            "                   precision    recall  f1-score   support\n",
            "\n",
            "   69-я параллель       0.00      0.00      0.00         2\n",
            "          Nothing       0.00      0.00      0.00         1\n",
            "      Бывший СССР       0.79      0.88      0.83       121\n",
            "              Дом       0.00      0.00      0.00        26\n",
            "         Из жизни       1.00      0.02      0.05        42\n",
            "   Интернет и СМИ       0.39      0.33      0.36        45\n",
            "         Культура       0.56      0.11      0.19        45\n",
            "              Мир       0.45      0.85      0.59       158\n",
            "  Наука и техника       0.88      0.19      0.31        37\n",
            "       Нацпроекты       1.00      0.09      0.16        23\n",
            "      Путешествия       1.00      0.14      0.25        42\n",
            "           Россия       0.46      0.78      0.58       166\n",
            "Силовые структуры       0.80      0.07      0.14        54\n",
            "            Спорт       1.00      0.86      0.93       122\n",
            "         Ценности       1.00      0.51      0.68        45\n",
            "        Экономика       0.64      0.79      0.71        72\n",
            "\n",
            "         accuracy                           0.60      1001\n",
            "        macro avg       0.62      0.35      0.36      1001\n",
            "     weighted avg       0.68      0.60      0.54      1001\n",
            "\n"
          ],
          "name": "stdout"
        },
        {
          "output_type": "stream",
          "text": [
            "/usr/local/lib/python3.7/dist-packages/sklearn/metrics/_classification.py:1272: UndefinedMetricWarning: Precision and F-score are ill-defined and being set to 0.0 in labels with no predicted samples. Use `zero_division` parameter to control this behavior.\n",
            "  _warn_prf(average, modifier, msg_start, len(result))\n"
          ],
          "name": "stderr"
        },
        {
          "output_type": "stream",
          "text": [
            "При n= 6\n",
            "                   precision    recall  f1-score   support\n",
            "\n",
            "   69-я параллель       0.00      0.00      0.00         2\n",
            "          Nothing       0.00      0.00      0.00         1\n",
            "      Бывший СССР       0.79      0.87      0.83       121\n",
            "              Дом       0.00      0.00      0.00        26\n",
            "         Из жизни       0.00      0.00      0.00        42\n",
            "   Интернет и СМИ       0.41      0.27      0.32        45\n",
            "         Культура       0.62      0.11      0.19        45\n",
            "              Мир       0.40      0.86      0.55       158\n",
            "  Наука и техника       0.83      0.14      0.23        37\n",
            "       Нацпроекты       1.00      0.09      0.16        23\n",
            "      Путешествия       1.00      0.10      0.17        42\n",
            "           Россия       0.47      0.78      0.59       166\n",
            "Силовые структуры       0.80      0.07      0.14        54\n",
            "            Спорт       1.00      0.80      0.89       122\n",
            "         Ценности       1.00      0.49      0.66        45\n",
            "        Экономика       0.64      0.75      0.69        72\n",
            "\n",
            "         accuracy                           0.57      1001\n",
            "        macro avg       0.56      0.33      0.34      1001\n",
            "     weighted avg       0.64      0.57      0.52      1001\n",
            "\n"
          ],
          "name": "stdout"
        },
        {
          "output_type": "stream",
          "text": [
            "/usr/local/lib/python3.7/dist-packages/sklearn/metrics/_classification.py:1272: UndefinedMetricWarning: Precision and F-score are ill-defined and being set to 0.0 in labels with no predicted samples. Use `zero_division` parameter to control this behavior.\n",
            "  _warn_prf(average, modifier, msg_start, len(result))\n"
          ],
          "name": "stderr"
        },
        {
          "output_type": "stream",
          "text": [
            "При n= 7\n",
            "                   precision    recall  f1-score   support\n",
            "\n",
            "   69-я параллель       0.00      0.00      0.00         2\n",
            "          Nothing       0.00      0.00      0.00         1\n",
            "      Бывший СССР       0.79      0.85      0.82       121\n",
            "              Дом       0.00      0.00      0.00        26\n",
            "         Из жизни       0.00      0.00      0.00        42\n",
            "   Интернет и СМИ       0.60      0.20      0.30        45\n",
            "         Культура       0.50      0.07      0.12        45\n",
            "              Мир       0.37      0.86      0.52       158\n",
            "  Наука и техника       0.83      0.14      0.23        37\n",
            "       Нацпроекты       1.00      0.09      0.16        23\n",
            "      Путешествия       1.00      0.02      0.05        42\n",
            "           Россия       0.46      0.77      0.57       166\n",
            "Силовые структуры       0.75      0.06      0.10        54\n",
            "            Спорт       1.00      0.75      0.86       122\n",
            "         Ценности       1.00      0.49      0.66        45\n",
            "        Экономика       0.68      0.71      0.69        72\n",
            "\n",
            "         accuracy                           0.55      1001\n",
            "        macro avg       0.56      0.31      0.32      1001\n",
            "     weighted avg       0.63      0.55      0.50      1001\n",
            "\n"
          ],
          "name": "stdout"
        },
        {
          "output_type": "stream",
          "text": [
            "/usr/local/lib/python3.7/dist-packages/sklearn/metrics/_classification.py:1272: UndefinedMetricWarning: Precision and F-score are ill-defined and being set to 0.0 in labels with no predicted samples. Use `zero_division` parameter to control this behavior.\n",
            "  _warn_prf(average, modifier, msg_start, len(result))\n"
          ],
          "name": "stderr"
        },
        {
          "output_type": "stream",
          "text": [
            "При n= 8\n",
            "                   precision    recall  f1-score   support\n",
            "\n",
            "   69-я параллель       0.00      0.00      0.00         2\n",
            "          Nothing       0.00      0.00      0.00         1\n",
            "      Бывший СССР       0.79      0.86      0.83       121\n",
            "              Дом       0.00      0.00      0.00        26\n",
            "         Из жизни       0.00      0.00      0.00        42\n",
            "   Интернет и СМИ       0.60      0.13      0.22        45\n",
            "         Культура       0.62      0.11      0.19        45\n",
            "              Мир       0.35      0.87      0.50       158\n",
            "  Наука и техника       0.83      0.14      0.23        37\n",
            "       Нацпроекты       1.00      0.13      0.23        23\n",
            "      Путешествия       1.00      0.02      0.05        42\n",
            "           Россия       0.47      0.77      0.59       166\n",
            "Силовые структуры       0.67      0.04      0.07        54\n",
            "            Спорт       1.00      0.74      0.85       122\n",
            "         Ценности       1.00      0.44      0.62        45\n",
            "        Экономика       0.70      0.64      0.67        72\n",
            "\n",
            "         accuracy                           0.55      1001\n",
            "        macro avg       0.56      0.31      0.31      1001\n",
            "     weighted avg       0.63      0.55      0.49      1001\n",
            "\n"
          ],
          "name": "stdout"
        },
        {
          "output_type": "stream",
          "text": [
            "/usr/local/lib/python3.7/dist-packages/sklearn/metrics/_classification.py:1272: UndefinedMetricWarning: Precision and F-score are ill-defined and being set to 0.0 in labels with no predicted samples. Use `zero_division` parameter to control this behavior.\n",
            "  _warn_prf(average, modifier, msg_start, len(result))\n"
          ],
          "name": "stderr"
        },
        {
          "output_type": "stream",
          "text": [
            "При n= 9\n",
            "                   precision    recall  f1-score   support\n",
            "\n",
            "   69-я параллель       0.00      0.00      0.00         2\n",
            "          Nothing       0.00      0.00      0.00         1\n",
            "      Бывший СССР       0.79      0.85      0.82       121\n",
            "              Дом       0.00      0.00      0.00        26\n",
            "         Из жизни       0.00      0.00      0.00        42\n",
            "   Интернет и СМИ       0.71      0.11      0.19        45\n",
            "         Культура       0.56      0.11      0.19        45\n",
            "              Мир       0.34      0.87      0.49       158\n",
            "  Наука и техника       0.83      0.14      0.23        37\n",
            "       Нацпроекты       1.00      0.17      0.30        23\n",
            "      Путешествия       1.00      0.02      0.05        42\n",
            "           Россия       0.48      0.75      0.58       166\n",
            "Силовые структуры       0.67      0.04      0.07        54\n",
            "            Спорт       1.00      0.73      0.84       122\n",
            "         Ценности       1.00      0.42      0.59        45\n",
            "        Экономика       0.74      0.64      0.69        72\n",
            "\n",
            "         accuracy                           0.54      1001\n",
            "        macro avg       0.57      0.30      0.31      1001\n",
            "     weighted avg       0.64      0.54      0.49      1001\n",
            "\n"
          ],
          "name": "stdout"
        },
        {
          "output_type": "stream",
          "text": [
            "/usr/local/lib/python3.7/dist-packages/sklearn/metrics/_classification.py:1272: UndefinedMetricWarning: Precision and F-score are ill-defined and being set to 0.0 in labels with no predicted samples. Use `zero_division` parameter to control this behavior.\n",
            "  _warn_prf(average, modifier, msg_start, len(result))\n"
          ],
          "name": "stderr"
        },
        {
          "output_type": "stream",
          "text": [
            "При n= 10\n",
            "                   precision    recall  f1-score   support\n",
            "\n",
            "   69-я параллель       0.00      0.00      0.00         2\n",
            "          Nothing       0.00      0.00      0.00         1\n",
            "      Бывший СССР       0.79      0.85      0.82       121\n",
            "              Дом       0.00      0.00      0.00        26\n",
            "         Из жизни       0.00      0.00      0.00        42\n",
            "   Интернет и СМИ       0.71      0.11      0.19        45\n",
            "         Культура       0.50      0.11      0.18        45\n",
            "              Мир       0.33      0.87      0.48       158\n",
            "  Наука и техника       0.86      0.16      0.27        37\n",
            "       Нацпроекты       1.00      0.22      0.36        23\n",
            "      Путешествия       1.00      0.02      0.05        42\n",
            "           Россия       0.49      0.75      0.59       166\n",
            "Силовые структуры       0.75      0.06      0.10        54\n",
            "            Спорт       1.00      0.71      0.83       122\n",
            "         Ценности       1.00      0.42      0.59        45\n",
            "        Экономика       0.73      0.60      0.66        72\n",
            "\n",
            "         accuracy                           0.54      1001\n",
            "        macro avg       0.57      0.31      0.32      1001\n",
            "     weighted avg       0.64      0.54      0.49      1001\n",
            "\n"
          ],
          "name": "stdout"
        },
        {
          "output_type": "stream",
          "text": [
            "/usr/local/lib/python3.7/dist-packages/sklearn/metrics/_classification.py:1272: UndefinedMetricWarning: Precision and F-score are ill-defined and being set to 0.0 in labels with no predicted samples. Use `zero_division` parameter to control this behavior.\n",
            "  _warn_prf(average, modifier, msg_start, len(result))\n"
          ],
          "name": "stderr"
        }
      ]
    },
    {
      "cell_type": "code",
      "metadata": {
        "colab": {
          "base_uri": "https://localhost:8080/"
        },
        "id": "UP4ngp72RmDE",
        "outputId": "bd5e1ea2-04b9-4459-9b2a-d33961d1a80f"
      },
      "source": [
        "# инициализируем векторизатор TF-IDF\n",
        "for n in range(1,10):\n",
        "    for m_df in [0.95, 0.90, 0.85, 0.80, 0.75]:\n",
        "        for mn_dif in[2,3,4]:\n",
        "            tfidf_vectorizer = TfidfVectorizer(ngram_range=(1, n), max_df=m_df, min_df=mn_dif, stop_words=stopwords.words('russian'))\n",
        "            tfidf_vectorized_x_train = tfidf_vectorizer.fit_transform(x_train)\n",
        "            clf = MultinomialNB()\n",
        "            clf.fit(tfidf_vectorized_x_train, y_train)\n",
        "            tfidf_vectorized_x_test = tfidf_vectorizer.transform(x_test)\n",
        "            pred = clf.predict(tfidf_vectorized_x_test)\n",
        "            print('При n=',n, ', max_dif=', m_df,', min_dif=', mn_dif)\n",
        "            print(classification_report(y_test, pred))\n",
        "            table['type'].append('TF-IDF')\n",
        "            table['settings'].append(f'(1, {n}), {m_df}, {mn_dif}')\n",
        "            table['precision'].append(precision_score(y_test, pred,zero_division=1, average='macro'))\n",
        "            table['recall'].append(recall_score(y_test, pred, zero_division=1, average='macro'))\n",
        "            table['accuracy'].append(accuracy_score(y_test, pred))\n",
        "            table['f_1'].append(f1_score(y_test, pred,zero_division=1, average='macro'))"
      ],
      "execution_count": 38,
      "outputs": [
        {
          "output_type": "stream",
          "text": [
            "При n= 1 , max_dif= 0.95 , min_dif= 2\n",
            "                   precision    recall  f1-score   support\n",
            "\n",
            "   69-я параллель       0.00      0.00      0.00         2\n",
            "          Nothing       0.00      0.00      0.00         1\n",
            "      Бывший СССР       0.82      0.82      0.82       121\n",
            "              Дом       0.00      0.00      0.00        26\n",
            "         Из жизни       0.00      0.00      0.00        42\n",
            "   Интернет и СМИ       0.00      0.00      0.00        45\n",
            "         Культура       0.56      0.11      0.19        45\n",
            "              Мир       0.34      0.86      0.48       158\n",
            "  Наука и техника       0.83      0.14      0.23        37\n",
            "       Нацпроекты       0.00      0.00      0.00        23\n",
            "      Путешествия       1.00      0.02      0.05        42\n",
            "           Россия       0.42      0.76      0.54       166\n",
            "Силовые структуры       1.00      0.04      0.07        54\n",
            "            Спорт       1.00      0.89      0.94       122\n",
            "         Ценности       1.00      0.44      0.62        45\n",
            "        Экономика       0.89      0.35      0.50        72\n",
            "\n",
            "         accuracy                           0.53      1001\n",
            "        macro avg       0.49      0.28      0.28      1001\n",
            "     weighted avg       0.60      0.53      0.47      1001\n",
            "\n"
          ],
          "name": "stdout"
        },
        {
          "output_type": "stream",
          "text": [
            "/usr/local/lib/python3.7/dist-packages/sklearn/metrics/_classification.py:1272: UndefinedMetricWarning: Precision and F-score are ill-defined and being set to 0.0 in labels with no predicted samples. Use `zero_division` parameter to control this behavior.\n",
            "  _warn_prf(average, modifier, msg_start, len(result))\n"
          ],
          "name": "stderr"
        },
        {
          "output_type": "stream",
          "text": [
            "При n= 1 , max_dif= 0.95 , min_dif= 3\n",
            "                   precision    recall  f1-score   support\n",
            "\n",
            "   69-я параллель       0.00      0.00      0.00         2\n",
            "          Nothing       0.00      0.00      0.00         1\n",
            "      Бывший СССР       0.82      0.83      0.82       121\n",
            "              Дом       0.00      0.00      0.00        26\n",
            "         Из жизни       0.00      0.00      0.00        42\n",
            "   Интернет и СМИ       0.00      0.00      0.00        45\n",
            "         Культура       0.54      0.16      0.24        45\n",
            "              Мир       0.37      0.85      0.51       158\n",
            "  Наука и техника       0.83      0.14      0.23        37\n",
            "       Нацпроекты       0.00      0.00      0.00        23\n",
            "      Путешествия       1.00      0.05      0.09        42\n",
            "           Россия       0.42      0.78      0.54       166\n",
            "Силовые структуры       1.00      0.11      0.20        54\n",
            "            Спорт       1.00      0.91      0.95       122\n",
            "         Ценности       0.96      0.53      0.69        45\n",
            "        Экономика       0.80      0.46      0.58        72\n",
            "\n",
            "         accuracy                           0.55      1001\n",
            "        macro avg       0.48      0.30      0.30      1001\n",
            "     weighted avg       0.60      0.55      0.49      1001\n",
            "\n"
          ],
          "name": "stdout"
        },
        {
          "output_type": "stream",
          "text": [
            "/usr/local/lib/python3.7/dist-packages/sklearn/metrics/_classification.py:1272: UndefinedMetricWarning: Precision and F-score are ill-defined and being set to 0.0 in labels with no predicted samples. Use `zero_division` parameter to control this behavior.\n",
            "  _warn_prf(average, modifier, msg_start, len(result))\n"
          ],
          "name": "stderr"
        },
        {
          "output_type": "stream",
          "text": [
            "При n= 1 , max_dif= 0.95 , min_dif= 4\n",
            "                   precision    recall  f1-score   support\n",
            "\n",
            "   69-я параллель       0.00      0.00      0.00         2\n",
            "          Nothing       0.00      0.00      0.00         1\n",
            "      Бывший СССР       0.80      0.83      0.82       121\n",
            "              Дом       0.00      0.00      0.00        26\n",
            "         Из жизни       0.00      0.00      0.00        42\n",
            "   Интернет и СМИ       0.00      0.00      0.00        45\n",
            "         Культура       0.60      0.20      0.30        45\n",
            "              Мир       0.39      0.85      0.53       158\n",
            "  Наука и техника       0.86      0.16      0.27        37\n",
            "       Нацпроекты       0.00      0.00      0.00        23\n",
            "      Путешествия       1.00      0.07      0.13        42\n",
            "           Россия       0.42      0.79      0.55       166\n",
            "Силовые структуры       1.00      0.17      0.29        54\n",
            "            Спорт       1.00      0.92      0.96       122\n",
            "         Ценности       0.96      0.56      0.70        45\n",
            "        Экономика       0.77      0.51      0.62        72\n",
            "\n",
            "         accuracy                           0.57      1001\n",
            "        macro avg       0.49      0.32      0.32      1001\n",
            "     weighted avg       0.60      0.57      0.51      1001\n",
            "\n"
          ],
          "name": "stdout"
        },
        {
          "output_type": "stream",
          "text": [
            "/usr/local/lib/python3.7/dist-packages/sklearn/metrics/_classification.py:1272: UndefinedMetricWarning: Precision and F-score are ill-defined and being set to 0.0 in labels with no predicted samples. Use `zero_division` parameter to control this behavior.\n",
            "  _warn_prf(average, modifier, msg_start, len(result))\n"
          ],
          "name": "stderr"
        },
        {
          "output_type": "stream",
          "text": [
            "При n= 1 , max_dif= 0.9 , min_dif= 2\n",
            "                   precision    recall  f1-score   support\n",
            "\n",
            "   69-я параллель       0.00      0.00      0.00         2\n",
            "          Nothing       0.00      0.00      0.00         1\n",
            "      Бывший СССР       0.82      0.82      0.82       121\n",
            "              Дом       0.00      0.00      0.00        26\n",
            "         Из жизни       0.00      0.00      0.00        42\n",
            "   Интернет и СМИ       0.00      0.00      0.00        45\n",
            "         Культура       0.56      0.11      0.19        45\n",
            "              Мир       0.34      0.86      0.48       158\n",
            "  Наука и техника       0.83      0.14      0.23        37\n",
            "       Нацпроекты       0.00      0.00      0.00        23\n",
            "      Путешествия       1.00      0.02      0.05        42\n",
            "           Россия       0.42      0.76      0.54       166\n",
            "Силовые структуры       1.00      0.04      0.07        54\n",
            "            Спорт       1.00      0.89      0.94       122\n",
            "         Ценности       1.00      0.44      0.62        45\n",
            "        Экономика       0.89      0.35      0.50        72\n",
            "\n",
            "         accuracy                           0.53      1001\n",
            "        macro avg       0.49      0.28      0.28      1001\n",
            "     weighted avg       0.60      0.53      0.47      1001\n",
            "\n"
          ],
          "name": "stdout"
        },
        {
          "output_type": "stream",
          "text": [
            "/usr/local/lib/python3.7/dist-packages/sklearn/metrics/_classification.py:1272: UndefinedMetricWarning: Precision and F-score are ill-defined and being set to 0.0 in labels with no predicted samples. Use `zero_division` parameter to control this behavior.\n",
            "  _warn_prf(average, modifier, msg_start, len(result))\n"
          ],
          "name": "stderr"
        },
        {
          "output_type": "stream",
          "text": [
            "При n= 1 , max_dif= 0.9 , min_dif= 3\n",
            "                   precision    recall  f1-score   support\n",
            "\n",
            "   69-я параллель       0.00      0.00      0.00         2\n",
            "          Nothing       0.00      0.00      0.00         1\n",
            "      Бывший СССР       0.82      0.83      0.82       121\n",
            "              Дом       0.00      0.00      0.00        26\n",
            "         Из жизни       0.00      0.00      0.00        42\n",
            "   Интернет и СМИ       0.00      0.00      0.00        45\n",
            "         Культура       0.54      0.16      0.24        45\n",
            "              Мир       0.37      0.85      0.51       158\n",
            "  Наука и техника       0.83      0.14      0.23        37\n",
            "       Нацпроекты       0.00      0.00      0.00        23\n",
            "      Путешествия       1.00      0.05      0.09        42\n",
            "           Россия       0.42      0.78      0.54       166\n",
            "Силовые структуры       1.00      0.11      0.20        54\n",
            "            Спорт       1.00      0.91      0.95       122\n",
            "         Ценности       0.96      0.53      0.69        45\n",
            "        Экономика       0.80      0.46      0.58        72\n",
            "\n",
            "         accuracy                           0.55      1001\n",
            "        macro avg       0.48      0.30      0.30      1001\n",
            "     weighted avg       0.60      0.55      0.49      1001\n",
            "\n"
          ],
          "name": "stdout"
        },
        {
          "output_type": "stream",
          "text": [
            "/usr/local/lib/python3.7/dist-packages/sklearn/metrics/_classification.py:1272: UndefinedMetricWarning: Precision and F-score are ill-defined and being set to 0.0 in labels with no predicted samples. Use `zero_division` parameter to control this behavior.\n",
            "  _warn_prf(average, modifier, msg_start, len(result))\n"
          ],
          "name": "stderr"
        },
        {
          "output_type": "stream",
          "text": [
            "При n= 1 , max_dif= 0.9 , min_dif= 4\n",
            "                   precision    recall  f1-score   support\n",
            "\n",
            "   69-я параллель       0.00      0.00      0.00         2\n",
            "          Nothing       0.00      0.00      0.00         1\n",
            "      Бывший СССР       0.80      0.83      0.82       121\n",
            "              Дом       0.00      0.00      0.00        26\n",
            "         Из жизни       0.00      0.00      0.00        42\n",
            "   Интернет и СМИ       0.00      0.00      0.00        45\n",
            "         Культура       0.60      0.20      0.30        45\n",
            "              Мир       0.39      0.85      0.53       158\n",
            "  Наука и техника       0.86      0.16      0.27        37\n",
            "       Нацпроекты       0.00      0.00      0.00        23\n",
            "      Путешествия       1.00      0.07      0.13        42\n",
            "           Россия       0.42      0.79      0.55       166\n",
            "Силовые структуры       1.00      0.17      0.29        54\n",
            "            Спорт       1.00      0.92      0.96       122\n",
            "         Ценности       0.96      0.56      0.70        45\n",
            "        Экономика       0.77      0.51      0.62        72\n",
            "\n",
            "         accuracy                           0.57      1001\n",
            "        macro avg       0.49      0.32      0.32      1001\n",
            "     weighted avg       0.60      0.57      0.51      1001\n",
            "\n"
          ],
          "name": "stdout"
        },
        {
          "output_type": "stream",
          "text": [
            "/usr/local/lib/python3.7/dist-packages/sklearn/metrics/_classification.py:1272: UndefinedMetricWarning: Precision and F-score are ill-defined and being set to 0.0 in labels with no predicted samples. Use `zero_division` parameter to control this behavior.\n",
            "  _warn_prf(average, modifier, msg_start, len(result))\n"
          ],
          "name": "stderr"
        },
        {
          "output_type": "stream",
          "text": [
            "При n= 1 , max_dif= 0.85 , min_dif= 2\n",
            "                   precision    recall  f1-score   support\n",
            "\n",
            "   69-я параллель       0.00      0.00      0.00         2\n",
            "          Nothing       0.00      0.00      0.00         1\n",
            "      Бывший СССР       0.82      0.82      0.82       121\n",
            "              Дом       0.00      0.00      0.00        26\n",
            "         Из жизни       0.00      0.00      0.00        42\n",
            "   Интернет и СМИ       0.00      0.00      0.00        45\n",
            "         Культура       0.56      0.11      0.19        45\n",
            "              Мир       0.34      0.86      0.48       158\n",
            "  Наука и техника       0.83      0.14      0.23        37\n",
            "       Нацпроекты       0.00      0.00      0.00        23\n",
            "      Путешествия       1.00      0.02      0.05        42\n",
            "           Россия       0.42      0.76      0.54       166\n",
            "Силовые структуры       1.00      0.04      0.07        54\n",
            "            Спорт       1.00      0.89      0.94       122\n",
            "         Ценности       1.00      0.44      0.62        45\n",
            "        Экономика       0.89      0.35      0.50        72\n",
            "\n",
            "         accuracy                           0.53      1001\n",
            "        macro avg       0.49      0.28      0.28      1001\n",
            "     weighted avg       0.60      0.53      0.47      1001\n",
            "\n"
          ],
          "name": "stdout"
        },
        {
          "output_type": "stream",
          "text": [
            "/usr/local/lib/python3.7/dist-packages/sklearn/metrics/_classification.py:1272: UndefinedMetricWarning: Precision and F-score are ill-defined and being set to 0.0 in labels with no predicted samples. Use `zero_division` parameter to control this behavior.\n",
            "  _warn_prf(average, modifier, msg_start, len(result))\n"
          ],
          "name": "stderr"
        },
        {
          "output_type": "stream",
          "text": [
            "При n= 1 , max_dif= 0.85 , min_dif= 3\n",
            "                   precision    recall  f1-score   support\n",
            "\n",
            "   69-я параллель       0.00      0.00      0.00         2\n",
            "          Nothing       0.00      0.00      0.00         1\n",
            "      Бывший СССР       0.82      0.83      0.82       121\n",
            "              Дом       0.00      0.00      0.00        26\n",
            "         Из жизни       0.00      0.00      0.00        42\n",
            "   Интернет и СМИ       0.00      0.00      0.00        45\n",
            "         Культура       0.54      0.16      0.24        45\n",
            "              Мир       0.37      0.85      0.51       158\n",
            "  Наука и техника       0.83      0.14      0.23        37\n",
            "       Нацпроекты       0.00      0.00      0.00        23\n",
            "      Путешествия       1.00      0.05      0.09        42\n",
            "           Россия       0.42      0.78      0.54       166\n",
            "Силовые структуры       1.00      0.11      0.20        54\n",
            "            Спорт       1.00      0.91      0.95       122\n",
            "         Ценности       0.96      0.53      0.69        45\n",
            "        Экономика       0.80      0.46      0.58        72\n",
            "\n",
            "         accuracy                           0.55      1001\n",
            "        macro avg       0.48      0.30      0.30      1001\n",
            "     weighted avg       0.60      0.55      0.49      1001\n",
            "\n"
          ],
          "name": "stdout"
        },
        {
          "output_type": "stream",
          "text": [
            "/usr/local/lib/python3.7/dist-packages/sklearn/metrics/_classification.py:1272: UndefinedMetricWarning: Precision and F-score are ill-defined and being set to 0.0 in labels with no predicted samples. Use `zero_division` parameter to control this behavior.\n",
            "  _warn_prf(average, modifier, msg_start, len(result))\n"
          ],
          "name": "stderr"
        },
        {
          "output_type": "stream",
          "text": [
            "При n= 1 , max_dif= 0.85 , min_dif= 4\n",
            "                   precision    recall  f1-score   support\n",
            "\n",
            "   69-я параллель       0.00      0.00      0.00         2\n",
            "          Nothing       0.00      0.00      0.00         1\n",
            "      Бывший СССР       0.80      0.83      0.82       121\n",
            "              Дом       0.00      0.00      0.00        26\n",
            "         Из жизни       0.00      0.00      0.00        42\n",
            "   Интернет и СМИ       0.00      0.00      0.00        45\n",
            "         Культура       0.60      0.20      0.30        45\n",
            "              Мир       0.39      0.85      0.53       158\n",
            "  Наука и техника       0.86      0.16      0.27        37\n",
            "       Нацпроекты       0.00      0.00      0.00        23\n",
            "      Путешествия       1.00      0.07      0.13        42\n",
            "           Россия       0.42      0.79      0.55       166\n",
            "Силовые структуры       1.00      0.17      0.29        54\n",
            "            Спорт       1.00      0.92      0.96       122\n",
            "         Ценности       0.96      0.56      0.70        45\n",
            "        Экономика       0.77      0.51      0.62        72\n",
            "\n",
            "         accuracy                           0.57      1001\n",
            "        macro avg       0.49      0.32      0.32      1001\n",
            "     weighted avg       0.60      0.57      0.51      1001\n",
            "\n"
          ],
          "name": "stdout"
        },
        {
          "output_type": "stream",
          "text": [
            "/usr/local/lib/python3.7/dist-packages/sklearn/metrics/_classification.py:1272: UndefinedMetricWarning: Precision and F-score are ill-defined and being set to 0.0 in labels with no predicted samples. Use `zero_division` parameter to control this behavior.\n",
            "  _warn_prf(average, modifier, msg_start, len(result))\n"
          ],
          "name": "stderr"
        },
        {
          "output_type": "stream",
          "text": [
            "При n= 1 , max_dif= 0.8 , min_dif= 2\n",
            "                   precision    recall  f1-score   support\n",
            "\n",
            "   69-я параллель       0.00      0.00      0.00         2\n",
            "          Nothing       0.00      0.00      0.00         1\n",
            "      Бывший СССР       0.82      0.82      0.82       121\n",
            "              Дом       0.00      0.00      0.00        26\n",
            "         Из жизни       0.00      0.00      0.00        42\n",
            "   Интернет и СМИ       0.00      0.00      0.00        45\n",
            "         Культура       0.56      0.11      0.19        45\n",
            "              Мир       0.34      0.86      0.48       158\n",
            "  Наука и техника       0.83      0.14      0.23        37\n",
            "       Нацпроекты       0.00      0.00      0.00        23\n",
            "      Путешествия       1.00      0.02      0.05        42\n",
            "           Россия       0.42      0.76      0.54       166\n",
            "Силовые структуры       1.00      0.04      0.07        54\n",
            "            Спорт       1.00      0.89      0.94       122\n",
            "         Ценности       1.00      0.44      0.62        45\n",
            "        Экономика       0.89      0.35      0.50        72\n",
            "\n",
            "         accuracy                           0.53      1001\n",
            "        macro avg       0.49      0.28      0.28      1001\n",
            "     weighted avg       0.60      0.53      0.47      1001\n",
            "\n"
          ],
          "name": "stdout"
        },
        {
          "output_type": "stream",
          "text": [
            "/usr/local/lib/python3.7/dist-packages/sklearn/metrics/_classification.py:1272: UndefinedMetricWarning: Precision and F-score are ill-defined and being set to 0.0 in labels with no predicted samples. Use `zero_division` parameter to control this behavior.\n",
            "  _warn_prf(average, modifier, msg_start, len(result))\n"
          ],
          "name": "stderr"
        },
        {
          "output_type": "stream",
          "text": [
            "При n= 1 , max_dif= 0.8 , min_dif= 3\n",
            "                   precision    recall  f1-score   support\n",
            "\n",
            "   69-я параллель       0.00      0.00      0.00         2\n",
            "          Nothing       0.00      0.00      0.00         1\n",
            "      Бывший СССР       0.82      0.83      0.82       121\n",
            "              Дом       0.00      0.00      0.00        26\n",
            "         Из жизни       0.00      0.00      0.00        42\n",
            "   Интернет и СМИ       0.00      0.00      0.00        45\n",
            "         Культура       0.54      0.16      0.24        45\n",
            "              Мир       0.37      0.85      0.51       158\n",
            "  Наука и техника       0.83      0.14      0.23        37\n",
            "       Нацпроекты       0.00      0.00      0.00        23\n",
            "      Путешествия       1.00      0.05      0.09        42\n",
            "           Россия       0.42      0.78      0.54       166\n",
            "Силовые структуры       1.00      0.11      0.20        54\n",
            "            Спорт       1.00      0.91      0.95       122\n",
            "         Ценности       0.96      0.53      0.69        45\n",
            "        Экономика       0.80      0.46      0.58        72\n",
            "\n",
            "         accuracy                           0.55      1001\n",
            "        macro avg       0.48      0.30      0.30      1001\n",
            "     weighted avg       0.60      0.55      0.49      1001\n",
            "\n"
          ],
          "name": "stdout"
        },
        {
          "output_type": "stream",
          "text": [
            "/usr/local/lib/python3.7/dist-packages/sklearn/metrics/_classification.py:1272: UndefinedMetricWarning: Precision and F-score are ill-defined and being set to 0.0 in labels with no predicted samples. Use `zero_division` parameter to control this behavior.\n",
            "  _warn_prf(average, modifier, msg_start, len(result))\n"
          ],
          "name": "stderr"
        },
        {
          "output_type": "stream",
          "text": [
            "При n= 1 , max_dif= 0.8 , min_dif= 4\n",
            "                   precision    recall  f1-score   support\n",
            "\n",
            "   69-я параллель       0.00      0.00      0.00         2\n",
            "          Nothing       0.00      0.00      0.00         1\n",
            "      Бывший СССР       0.80      0.83      0.82       121\n",
            "              Дом       0.00      0.00      0.00        26\n",
            "         Из жизни       0.00      0.00      0.00        42\n",
            "   Интернет и СМИ       0.00      0.00      0.00        45\n",
            "         Культура       0.60      0.20      0.30        45\n",
            "              Мир       0.39      0.85      0.53       158\n",
            "  Наука и техника       0.86      0.16      0.27        37\n",
            "       Нацпроекты       0.00      0.00      0.00        23\n",
            "      Путешествия       1.00      0.07      0.13        42\n",
            "           Россия       0.42      0.79      0.55       166\n",
            "Силовые структуры       1.00      0.17      0.29        54\n",
            "            Спорт       1.00      0.92      0.96       122\n",
            "         Ценности       0.96      0.56      0.70        45\n",
            "        Экономика       0.77      0.51      0.62        72\n",
            "\n",
            "         accuracy                           0.57      1001\n",
            "        macro avg       0.49      0.32      0.32      1001\n",
            "     weighted avg       0.60      0.57      0.51      1001\n",
            "\n"
          ],
          "name": "stdout"
        },
        {
          "output_type": "stream",
          "text": [
            "/usr/local/lib/python3.7/dist-packages/sklearn/metrics/_classification.py:1272: UndefinedMetricWarning: Precision and F-score are ill-defined and being set to 0.0 in labels with no predicted samples. Use `zero_division` parameter to control this behavior.\n",
            "  _warn_prf(average, modifier, msg_start, len(result))\n"
          ],
          "name": "stderr"
        },
        {
          "output_type": "stream",
          "text": [
            "При n= 1 , max_dif= 0.75 , min_dif= 2\n",
            "                   precision    recall  f1-score   support\n",
            "\n",
            "   69-я параллель       0.00      0.00      0.00         2\n",
            "          Nothing       0.00      0.00      0.00         1\n",
            "      Бывший СССР       0.82      0.82      0.82       121\n",
            "              Дом       0.00      0.00      0.00        26\n",
            "         Из жизни       0.00      0.00      0.00        42\n",
            "   Интернет и СМИ       0.00      0.00      0.00        45\n",
            "         Культура       0.56      0.11      0.19        45\n",
            "              Мир       0.34      0.86      0.48       158\n",
            "  Наука и техника       0.83      0.14      0.23        37\n",
            "       Нацпроекты       0.00      0.00      0.00        23\n",
            "      Путешествия       1.00      0.02      0.05        42\n",
            "           Россия       0.42      0.76      0.54       166\n",
            "Силовые структуры       1.00      0.04      0.07        54\n",
            "            Спорт       1.00      0.89      0.94       122\n",
            "         Ценности       1.00      0.44      0.62        45\n",
            "        Экономика       0.89      0.35      0.50        72\n",
            "\n",
            "         accuracy                           0.53      1001\n",
            "        macro avg       0.49      0.28      0.28      1001\n",
            "     weighted avg       0.60      0.53      0.47      1001\n",
            "\n"
          ],
          "name": "stdout"
        },
        {
          "output_type": "stream",
          "text": [
            "/usr/local/lib/python3.7/dist-packages/sklearn/metrics/_classification.py:1272: UndefinedMetricWarning: Precision and F-score are ill-defined and being set to 0.0 in labels with no predicted samples. Use `zero_division` parameter to control this behavior.\n",
            "  _warn_prf(average, modifier, msg_start, len(result))\n"
          ],
          "name": "stderr"
        },
        {
          "output_type": "stream",
          "text": [
            "При n= 1 , max_dif= 0.75 , min_dif= 3\n",
            "                   precision    recall  f1-score   support\n",
            "\n",
            "   69-я параллель       0.00      0.00      0.00         2\n",
            "          Nothing       0.00      0.00      0.00         1\n",
            "      Бывший СССР       0.82      0.83      0.82       121\n",
            "              Дом       0.00      0.00      0.00        26\n",
            "         Из жизни       0.00      0.00      0.00        42\n",
            "   Интернет и СМИ       0.00      0.00      0.00        45\n",
            "         Культура       0.54      0.16      0.24        45\n",
            "              Мир       0.37      0.85      0.51       158\n",
            "  Наука и техника       0.83      0.14      0.23        37\n",
            "       Нацпроекты       0.00      0.00      0.00        23\n",
            "      Путешествия       1.00      0.05      0.09        42\n",
            "           Россия       0.42      0.78      0.54       166\n",
            "Силовые структуры       1.00      0.11      0.20        54\n",
            "            Спорт       1.00      0.91      0.95       122\n",
            "         Ценности       0.96      0.53      0.69        45\n",
            "        Экономика       0.80      0.46      0.58        72\n",
            "\n",
            "         accuracy                           0.55      1001\n",
            "        macro avg       0.48      0.30      0.30      1001\n",
            "     weighted avg       0.60      0.55      0.49      1001\n",
            "\n"
          ],
          "name": "stdout"
        },
        {
          "output_type": "stream",
          "text": [
            "/usr/local/lib/python3.7/dist-packages/sklearn/metrics/_classification.py:1272: UndefinedMetricWarning: Precision and F-score are ill-defined and being set to 0.0 in labels with no predicted samples. Use `zero_division` parameter to control this behavior.\n",
            "  _warn_prf(average, modifier, msg_start, len(result))\n"
          ],
          "name": "stderr"
        },
        {
          "output_type": "stream",
          "text": [
            "При n= 1 , max_dif= 0.75 , min_dif= 4\n",
            "                   precision    recall  f1-score   support\n",
            "\n",
            "   69-я параллель       0.00      0.00      0.00         2\n",
            "          Nothing       0.00      0.00      0.00         1\n",
            "      Бывший СССР       0.80      0.83      0.82       121\n",
            "              Дом       0.00      0.00      0.00        26\n",
            "         Из жизни       0.00      0.00      0.00        42\n",
            "   Интернет и СМИ       0.00      0.00      0.00        45\n",
            "         Культура       0.60      0.20      0.30        45\n",
            "              Мир       0.39      0.85      0.53       158\n",
            "  Наука и техника       0.86      0.16      0.27        37\n",
            "       Нацпроекты       0.00      0.00      0.00        23\n",
            "      Путешествия       1.00      0.07      0.13        42\n",
            "           Россия       0.42      0.79      0.55       166\n",
            "Силовые структуры       1.00      0.17      0.29        54\n",
            "            Спорт       1.00      0.92      0.96       122\n",
            "         Ценности       0.96      0.56      0.70        45\n",
            "        Экономика       0.77      0.51      0.62        72\n",
            "\n",
            "         accuracy                           0.57      1001\n",
            "        macro avg       0.49      0.32      0.32      1001\n",
            "     weighted avg       0.60      0.57      0.51      1001\n",
            "\n"
          ],
          "name": "stdout"
        },
        {
          "output_type": "stream",
          "text": [
            "/usr/local/lib/python3.7/dist-packages/sklearn/metrics/_classification.py:1272: UndefinedMetricWarning: Precision and F-score are ill-defined and being set to 0.0 in labels with no predicted samples. Use `zero_division` parameter to control this behavior.\n",
            "  _warn_prf(average, modifier, msg_start, len(result))\n"
          ],
          "name": "stderr"
        },
        {
          "output_type": "stream",
          "text": [
            "При n= 2 , max_dif= 0.95 , min_dif= 2\n",
            "                   precision    recall  f1-score   support\n",
            "\n",
            "   69-я параллель       0.00      0.00      0.00         2\n",
            "          Nothing       0.00      0.00      0.00         1\n",
            "      Бывший СССР       0.84      0.80      0.82       121\n",
            "              Дом       0.00      0.00      0.00        26\n",
            "         Из жизни       0.00      0.00      0.00        42\n",
            "   Интернет и СМИ       0.00      0.00      0.00        45\n",
            "         Культура       0.54      0.16      0.24        45\n",
            "              Мир       0.33      0.85      0.47       158\n",
            "  Наука и техника       0.80      0.11      0.19        37\n",
            "       Нацпроекты       0.00      0.00      0.00        23\n",
            "      Путешествия       1.00      0.02      0.05        42\n",
            "           Россия       0.42      0.76      0.54       166\n",
            "Силовые структуры       1.00      0.06      0.11        54\n",
            "            Спорт       1.00      0.87      0.93       122\n",
            "         Ценности       1.00      0.40      0.57        45\n",
            "        Экономика       0.88      0.31      0.45        72\n",
            "\n",
            "         accuracy                           0.52      1001\n",
            "        macro avg       0.49      0.27      0.27      1001\n",
            "     weighted avg       0.60      0.52      0.46      1001\n",
            "\n"
          ],
          "name": "stdout"
        },
        {
          "output_type": "stream",
          "text": [
            "/usr/local/lib/python3.7/dist-packages/sklearn/metrics/_classification.py:1272: UndefinedMetricWarning: Precision and F-score are ill-defined and being set to 0.0 in labels with no predicted samples. Use `zero_division` parameter to control this behavior.\n",
            "  _warn_prf(average, modifier, msg_start, len(result))\n"
          ],
          "name": "stderr"
        },
        {
          "output_type": "stream",
          "text": [
            "При n= 2 , max_dif= 0.95 , min_dif= 3\n",
            "                   precision    recall  f1-score   support\n",
            "\n",
            "   69-я параллель       0.00      0.00      0.00         2\n",
            "          Nothing       0.00      0.00      0.00         1\n",
            "      Бывший СССР       0.83      0.83      0.83       121\n",
            "              Дом       0.00      0.00      0.00        26\n",
            "         Из жизни       0.00      0.00      0.00        42\n",
            "   Интернет и СМИ       0.00      0.00      0.00        45\n",
            "         Культура       0.54      0.16      0.24        45\n",
            "              Мир       0.35      0.85      0.50       158\n",
            "  Наука и техника       0.83      0.14      0.23        37\n",
            "       Нацпроекты       1.00      0.09      0.16        23\n",
            "      Путешествия       1.00      0.02      0.05        42\n",
            "           Россия       0.42      0.78      0.55       166\n",
            "Силовые структуры       1.00      0.11      0.20        54\n",
            "            Спорт       1.00      0.89      0.94       122\n",
            "         Ценности       0.96      0.49      0.65        45\n",
            "        Экономика       0.79      0.42      0.55        72\n",
            "\n",
            "         accuracy                           0.54      1001\n",
            "        macro avg       0.55      0.30      0.31      1001\n",
            "     weighted avg       0.62      0.54      0.49      1001\n",
            "\n"
          ],
          "name": "stdout"
        },
        {
          "output_type": "stream",
          "text": [
            "/usr/local/lib/python3.7/dist-packages/sklearn/metrics/_classification.py:1272: UndefinedMetricWarning: Precision and F-score are ill-defined and being set to 0.0 in labels with no predicted samples. Use `zero_division` parameter to control this behavior.\n",
            "  _warn_prf(average, modifier, msg_start, len(result))\n"
          ],
          "name": "stderr"
        },
        {
          "output_type": "stream",
          "text": [
            "При n= 2 , max_dif= 0.95 , min_dif= 4\n",
            "                   precision    recall  f1-score   support\n",
            "\n",
            "   69-я параллель       0.00      0.00      0.00         2\n",
            "          Nothing       0.00      0.00      0.00         1\n",
            "      Бывший СССР       0.83      0.82      0.82       121\n",
            "              Дом       0.00      0.00      0.00        26\n",
            "         Из жизни       1.00      0.02      0.05        42\n",
            "   Интернет и СМИ       0.00      0.00      0.00        45\n",
            "         Культура       0.54      0.16      0.24        45\n",
            "              Мир       0.37      0.85      0.52       158\n",
            "  Наука и техника       0.86      0.16      0.27        37\n",
            "       Нацпроекты       1.00      0.04      0.08        23\n",
            "      Путешествия       1.00      0.05      0.09        42\n",
            "           Россия       0.42      0.77      0.54       166\n",
            "Силовые структуры       0.92      0.20      0.33        54\n",
            "            Спорт       1.00      0.91      0.95       122\n",
            "         Ценности       0.96      0.53      0.69        45\n",
            "        Экономика       0.81      0.53      0.64        72\n",
            "\n",
            "         accuracy                           0.56      1001\n",
            "        macro avg       0.61      0.31      0.33      1001\n",
            "     weighted avg       0.66      0.56      0.51      1001\n",
            "\n"
          ],
          "name": "stdout"
        },
        {
          "output_type": "stream",
          "text": [
            "/usr/local/lib/python3.7/dist-packages/sklearn/metrics/_classification.py:1272: UndefinedMetricWarning: Precision and F-score are ill-defined and being set to 0.0 in labels with no predicted samples. Use `zero_division` parameter to control this behavior.\n",
            "  _warn_prf(average, modifier, msg_start, len(result))\n"
          ],
          "name": "stderr"
        },
        {
          "output_type": "stream",
          "text": [
            "При n= 2 , max_dif= 0.9 , min_dif= 2\n",
            "                   precision    recall  f1-score   support\n",
            "\n",
            "   69-я параллель       0.00      0.00      0.00         2\n",
            "          Nothing       0.00      0.00      0.00         1\n",
            "      Бывший СССР       0.84      0.80      0.82       121\n",
            "              Дом       0.00      0.00      0.00        26\n",
            "         Из жизни       0.00      0.00      0.00        42\n",
            "   Интернет и СМИ       0.00      0.00      0.00        45\n",
            "         Культура       0.54      0.16      0.24        45\n",
            "              Мир       0.33      0.85      0.47       158\n",
            "  Наука и техника       0.80      0.11      0.19        37\n",
            "       Нацпроекты       0.00      0.00      0.00        23\n",
            "      Путешествия       1.00      0.02      0.05        42\n",
            "           Россия       0.42      0.76      0.54       166\n",
            "Силовые структуры       1.00      0.06      0.11        54\n",
            "            Спорт       1.00      0.87      0.93       122\n",
            "         Ценности       1.00      0.40      0.57        45\n",
            "        Экономика       0.88      0.31      0.45        72\n",
            "\n",
            "         accuracy                           0.52      1001\n",
            "        macro avg       0.49      0.27      0.27      1001\n",
            "     weighted avg       0.60      0.52      0.46      1001\n",
            "\n"
          ],
          "name": "stdout"
        },
        {
          "output_type": "stream",
          "text": [
            "/usr/local/lib/python3.7/dist-packages/sklearn/metrics/_classification.py:1272: UndefinedMetricWarning: Precision and F-score are ill-defined and being set to 0.0 in labels with no predicted samples. Use `zero_division` parameter to control this behavior.\n",
            "  _warn_prf(average, modifier, msg_start, len(result))\n"
          ],
          "name": "stderr"
        },
        {
          "output_type": "stream",
          "text": [
            "При n= 2 , max_dif= 0.9 , min_dif= 3\n",
            "                   precision    recall  f1-score   support\n",
            "\n",
            "   69-я параллель       0.00      0.00      0.00         2\n",
            "          Nothing       0.00      0.00      0.00         1\n",
            "      Бывший СССР       0.83      0.83      0.83       121\n",
            "              Дом       0.00      0.00      0.00        26\n",
            "         Из жизни       0.00      0.00      0.00        42\n",
            "   Интернет и СМИ       0.00      0.00      0.00        45\n",
            "         Культура       0.54      0.16      0.24        45\n",
            "              Мир       0.35      0.85      0.50       158\n",
            "  Наука и техника       0.83      0.14      0.23        37\n",
            "       Нацпроекты       1.00      0.09      0.16        23\n",
            "      Путешествия       1.00      0.02      0.05        42\n",
            "           Россия       0.42      0.78      0.55       166\n",
            "Силовые структуры       1.00      0.11      0.20        54\n",
            "            Спорт       1.00      0.89      0.94       122\n",
            "         Ценности       0.96      0.49      0.65        45\n",
            "        Экономика       0.79      0.42      0.55        72\n",
            "\n",
            "         accuracy                           0.54      1001\n",
            "        macro avg       0.55      0.30      0.31      1001\n",
            "     weighted avg       0.62      0.54      0.49      1001\n",
            "\n"
          ],
          "name": "stdout"
        },
        {
          "output_type": "stream",
          "text": [
            "/usr/local/lib/python3.7/dist-packages/sklearn/metrics/_classification.py:1272: UndefinedMetricWarning: Precision and F-score are ill-defined and being set to 0.0 in labels with no predicted samples. Use `zero_division` parameter to control this behavior.\n",
            "  _warn_prf(average, modifier, msg_start, len(result))\n"
          ],
          "name": "stderr"
        },
        {
          "output_type": "stream",
          "text": [
            "При n= 2 , max_dif= 0.9 , min_dif= 4\n",
            "                   precision    recall  f1-score   support\n",
            "\n",
            "   69-я параллель       0.00      0.00      0.00         2\n",
            "          Nothing       0.00      0.00      0.00         1\n",
            "      Бывший СССР       0.83      0.82      0.82       121\n",
            "              Дом       0.00      0.00      0.00        26\n",
            "         Из жизни       1.00      0.02      0.05        42\n",
            "   Интернет и СМИ       0.00      0.00      0.00        45\n",
            "         Культура       0.54      0.16      0.24        45\n",
            "              Мир       0.37      0.85      0.52       158\n",
            "  Наука и техника       0.86      0.16      0.27        37\n",
            "       Нацпроекты       1.00      0.04      0.08        23\n",
            "      Путешествия       1.00      0.05      0.09        42\n",
            "           Россия       0.42      0.77      0.54       166\n",
            "Силовые структуры       0.92      0.20      0.33        54\n",
            "            Спорт       1.00      0.91      0.95       122\n",
            "         Ценности       0.96      0.53      0.69        45\n",
            "        Экономика       0.81      0.53      0.64        72\n",
            "\n",
            "         accuracy                           0.56      1001\n",
            "        macro avg       0.61      0.31      0.33      1001\n",
            "     weighted avg       0.66      0.56      0.51      1001\n",
            "\n"
          ],
          "name": "stdout"
        },
        {
          "output_type": "stream",
          "text": [
            "/usr/local/lib/python3.7/dist-packages/sklearn/metrics/_classification.py:1272: UndefinedMetricWarning: Precision and F-score are ill-defined and being set to 0.0 in labels with no predicted samples. Use `zero_division` parameter to control this behavior.\n",
            "  _warn_prf(average, modifier, msg_start, len(result))\n"
          ],
          "name": "stderr"
        },
        {
          "output_type": "stream",
          "text": [
            "При n= 2 , max_dif= 0.85 , min_dif= 2\n",
            "                   precision    recall  f1-score   support\n",
            "\n",
            "   69-я параллель       0.00      0.00      0.00         2\n",
            "          Nothing       0.00      0.00      0.00         1\n",
            "      Бывший СССР       0.84      0.80      0.82       121\n",
            "              Дом       0.00      0.00      0.00        26\n",
            "         Из жизни       0.00      0.00      0.00        42\n",
            "   Интернет и СМИ       0.00      0.00      0.00        45\n",
            "         Культура       0.54      0.16      0.24        45\n",
            "              Мир       0.33      0.85      0.47       158\n",
            "  Наука и техника       0.80      0.11      0.19        37\n",
            "       Нацпроекты       0.00      0.00      0.00        23\n",
            "      Путешествия       1.00      0.02      0.05        42\n",
            "           Россия       0.42      0.76      0.54       166\n",
            "Силовые структуры       1.00      0.06      0.11        54\n",
            "            Спорт       1.00      0.87      0.93       122\n",
            "         Ценности       1.00      0.40      0.57        45\n",
            "        Экономика       0.88      0.31      0.45        72\n",
            "\n",
            "         accuracy                           0.52      1001\n",
            "        macro avg       0.49      0.27      0.27      1001\n",
            "     weighted avg       0.60      0.52      0.46      1001\n",
            "\n"
          ],
          "name": "stdout"
        },
        {
          "output_type": "stream",
          "text": [
            "/usr/local/lib/python3.7/dist-packages/sklearn/metrics/_classification.py:1272: UndefinedMetricWarning: Precision and F-score are ill-defined and being set to 0.0 in labels with no predicted samples. Use `zero_division` parameter to control this behavior.\n",
            "  _warn_prf(average, modifier, msg_start, len(result))\n"
          ],
          "name": "stderr"
        },
        {
          "output_type": "stream",
          "text": [
            "При n= 2 , max_dif= 0.85 , min_dif= 3\n",
            "                   precision    recall  f1-score   support\n",
            "\n",
            "   69-я параллель       0.00      0.00      0.00         2\n",
            "          Nothing       0.00      0.00      0.00         1\n",
            "      Бывший СССР       0.83      0.83      0.83       121\n",
            "              Дом       0.00      0.00      0.00        26\n",
            "         Из жизни       0.00      0.00      0.00        42\n",
            "   Интернет и СМИ       0.00      0.00      0.00        45\n",
            "         Культура       0.54      0.16      0.24        45\n",
            "              Мир       0.35      0.85      0.50       158\n",
            "  Наука и техника       0.83      0.14      0.23        37\n",
            "       Нацпроекты       1.00      0.09      0.16        23\n",
            "      Путешествия       1.00      0.02      0.05        42\n",
            "           Россия       0.42      0.78      0.55       166\n",
            "Силовые структуры       1.00      0.11      0.20        54\n",
            "            Спорт       1.00      0.89      0.94       122\n",
            "         Ценности       0.96      0.49      0.65        45\n",
            "        Экономика       0.79      0.42      0.55        72\n",
            "\n",
            "         accuracy                           0.54      1001\n",
            "        macro avg       0.55      0.30      0.31      1001\n",
            "     weighted avg       0.62      0.54      0.49      1001\n",
            "\n"
          ],
          "name": "stdout"
        },
        {
          "output_type": "stream",
          "text": [
            "/usr/local/lib/python3.7/dist-packages/sklearn/metrics/_classification.py:1272: UndefinedMetricWarning: Precision and F-score are ill-defined and being set to 0.0 in labels with no predicted samples. Use `zero_division` parameter to control this behavior.\n",
            "  _warn_prf(average, modifier, msg_start, len(result))\n"
          ],
          "name": "stderr"
        },
        {
          "output_type": "stream",
          "text": [
            "При n= 2 , max_dif= 0.85 , min_dif= 4\n",
            "                   precision    recall  f1-score   support\n",
            "\n",
            "   69-я параллель       0.00      0.00      0.00         2\n",
            "          Nothing       0.00      0.00      0.00         1\n",
            "      Бывший СССР       0.83      0.82      0.82       121\n",
            "              Дом       0.00      0.00      0.00        26\n",
            "         Из жизни       1.00      0.02      0.05        42\n",
            "   Интернет и СМИ       0.00      0.00      0.00        45\n",
            "         Культура       0.54      0.16      0.24        45\n",
            "              Мир       0.37      0.85      0.52       158\n",
            "  Наука и техника       0.86      0.16      0.27        37\n",
            "       Нацпроекты       1.00      0.04      0.08        23\n",
            "      Путешествия       1.00      0.05      0.09        42\n",
            "           Россия       0.42      0.77      0.54       166\n",
            "Силовые структуры       0.92      0.20      0.33        54\n",
            "            Спорт       1.00      0.91      0.95       122\n",
            "         Ценности       0.96      0.53      0.69        45\n",
            "        Экономика       0.81      0.53      0.64        72\n",
            "\n",
            "         accuracy                           0.56      1001\n",
            "        macro avg       0.61      0.31      0.33      1001\n",
            "     weighted avg       0.66      0.56      0.51      1001\n",
            "\n"
          ],
          "name": "stdout"
        },
        {
          "output_type": "stream",
          "text": [
            "/usr/local/lib/python3.7/dist-packages/sklearn/metrics/_classification.py:1272: UndefinedMetricWarning: Precision and F-score are ill-defined and being set to 0.0 in labels with no predicted samples. Use `zero_division` parameter to control this behavior.\n",
            "  _warn_prf(average, modifier, msg_start, len(result))\n"
          ],
          "name": "stderr"
        },
        {
          "output_type": "stream",
          "text": [
            "При n= 2 , max_dif= 0.8 , min_dif= 2\n",
            "                   precision    recall  f1-score   support\n",
            "\n",
            "   69-я параллель       0.00      0.00      0.00         2\n",
            "          Nothing       0.00      0.00      0.00         1\n",
            "      Бывший СССР       0.84      0.80      0.82       121\n",
            "              Дом       0.00      0.00      0.00        26\n",
            "         Из жизни       0.00      0.00      0.00        42\n",
            "   Интернет и СМИ       0.00      0.00      0.00        45\n",
            "         Культура       0.54      0.16      0.24        45\n",
            "              Мир       0.33      0.85      0.47       158\n",
            "  Наука и техника       0.80      0.11      0.19        37\n",
            "       Нацпроекты       0.00      0.00      0.00        23\n",
            "      Путешествия       1.00      0.02      0.05        42\n",
            "           Россия       0.42      0.76      0.54       166\n",
            "Силовые структуры       1.00      0.06      0.11        54\n",
            "            Спорт       1.00      0.87      0.93       122\n",
            "         Ценности       1.00      0.40      0.57        45\n",
            "        Экономика       0.88      0.31      0.45        72\n",
            "\n",
            "         accuracy                           0.52      1001\n",
            "        macro avg       0.49      0.27      0.27      1001\n",
            "     weighted avg       0.60      0.52      0.46      1001\n",
            "\n"
          ],
          "name": "stdout"
        },
        {
          "output_type": "stream",
          "text": [
            "/usr/local/lib/python3.7/dist-packages/sklearn/metrics/_classification.py:1272: UndefinedMetricWarning: Precision and F-score are ill-defined and being set to 0.0 in labels with no predicted samples. Use `zero_division` parameter to control this behavior.\n",
            "  _warn_prf(average, modifier, msg_start, len(result))\n"
          ],
          "name": "stderr"
        },
        {
          "output_type": "stream",
          "text": [
            "При n= 2 , max_dif= 0.8 , min_dif= 3\n",
            "                   precision    recall  f1-score   support\n",
            "\n",
            "   69-я параллель       0.00      0.00      0.00         2\n",
            "          Nothing       0.00      0.00      0.00         1\n",
            "      Бывший СССР       0.83      0.83      0.83       121\n",
            "              Дом       0.00      0.00      0.00        26\n",
            "         Из жизни       0.00      0.00      0.00        42\n",
            "   Интернет и СМИ       0.00      0.00      0.00        45\n",
            "         Культура       0.54      0.16      0.24        45\n",
            "              Мир       0.35      0.85      0.50       158\n",
            "  Наука и техника       0.83      0.14      0.23        37\n",
            "       Нацпроекты       1.00      0.09      0.16        23\n",
            "      Путешествия       1.00      0.02      0.05        42\n",
            "           Россия       0.42      0.78      0.55       166\n",
            "Силовые структуры       1.00      0.11      0.20        54\n",
            "            Спорт       1.00      0.89      0.94       122\n",
            "         Ценности       0.96      0.49      0.65        45\n",
            "        Экономика       0.79      0.42      0.55        72\n",
            "\n",
            "         accuracy                           0.54      1001\n",
            "        macro avg       0.55      0.30      0.31      1001\n",
            "     weighted avg       0.62      0.54      0.49      1001\n",
            "\n"
          ],
          "name": "stdout"
        },
        {
          "output_type": "stream",
          "text": [
            "/usr/local/lib/python3.7/dist-packages/sklearn/metrics/_classification.py:1272: UndefinedMetricWarning: Precision and F-score are ill-defined and being set to 0.0 in labels with no predicted samples. Use `zero_division` parameter to control this behavior.\n",
            "  _warn_prf(average, modifier, msg_start, len(result))\n"
          ],
          "name": "stderr"
        },
        {
          "output_type": "stream",
          "text": [
            "При n= 2 , max_dif= 0.8 , min_dif= 4\n",
            "                   precision    recall  f1-score   support\n",
            "\n",
            "   69-я параллель       0.00      0.00      0.00         2\n",
            "          Nothing       0.00      0.00      0.00         1\n",
            "      Бывший СССР       0.83      0.82      0.82       121\n",
            "              Дом       0.00      0.00      0.00        26\n",
            "         Из жизни       1.00      0.02      0.05        42\n",
            "   Интернет и СМИ       0.00      0.00      0.00        45\n",
            "         Культура       0.54      0.16      0.24        45\n",
            "              Мир       0.37      0.85      0.52       158\n",
            "  Наука и техника       0.86      0.16      0.27        37\n",
            "       Нацпроекты       1.00      0.04      0.08        23\n",
            "      Путешествия       1.00      0.05      0.09        42\n",
            "           Россия       0.42      0.77      0.54       166\n",
            "Силовые структуры       0.92      0.20      0.33        54\n",
            "            Спорт       1.00      0.91      0.95       122\n",
            "         Ценности       0.96      0.53      0.69        45\n",
            "        Экономика       0.81      0.53      0.64        72\n",
            "\n",
            "         accuracy                           0.56      1001\n",
            "        macro avg       0.61      0.31      0.33      1001\n",
            "     weighted avg       0.66      0.56      0.51      1001\n",
            "\n"
          ],
          "name": "stdout"
        },
        {
          "output_type": "stream",
          "text": [
            "/usr/local/lib/python3.7/dist-packages/sklearn/metrics/_classification.py:1272: UndefinedMetricWarning: Precision and F-score are ill-defined and being set to 0.0 in labels with no predicted samples. Use `zero_division` parameter to control this behavior.\n",
            "  _warn_prf(average, modifier, msg_start, len(result))\n"
          ],
          "name": "stderr"
        },
        {
          "output_type": "stream",
          "text": [
            "При n= 2 , max_dif= 0.75 , min_dif= 2\n",
            "                   precision    recall  f1-score   support\n",
            "\n",
            "   69-я параллель       0.00      0.00      0.00         2\n",
            "          Nothing       0.00      0.00      0.00         1\n",
            "      Бывший СССР       0.84      0.80      0.82       121\n",
            "              Дом       0.00      0.00      0.00        26\n",
            "         Из жизни       0.00      0.00      0.00        42\n",
            "   Интернет и СМИ       0.00      0.00      0.00        45\n",
            "         Культура       0.54      0.16      0.24        45\n",
            "              Мир       0.33      0.85      0.47       158\n",
            "  Наука и техника       0.80      0.11      0.19        37\n",
            "       Нацпроекты       0.00      0.00      0.00        23\n",
            "      Путешествия       1.00      0.02      0.05        42\n",
            "           Россия       0.42      0.76      0.54       166\n",
            "Силовые структуры       1.00      0.06      0.11        54\n",
            "            Спорт       1.00      0.87      0.93       122\n",
            "         Ценности       1.00      0.40      0.57        45\n",
            "        Экономика       0.88      0.31      0.45        72\n",
            "\n",
            "         accuracy                           0.52      1001\n",
            "        macro avg       0.49      0.27      0.27      1001\n",
            "     weighted avg       0.60      0.52      0.46      1001\n",
            "\n"
          ],
          "name": "stdout"
        },
        {
          "output_type": "stream",
          "text": [
            "/usr/local/lib/python3.7/dist-packages/sklearn/metrics/_classification.py:1272: UndefinedMetricWarning: Precision and F-score are ill-defined and being set to 0.0 in labels with no predicted samples. Use `zero_division` parameter to control this behavior.\n",
            "  _warn_prf(average, modifier, msg_start, len(result))\n"
          ],
          "name": "stderr"
        },
        {
          "output_type": "stream",
          "text": [
            "При n= 2 , max_dif= 0.75 , min_dif= 3\n",
            "                   precision    recall  f1-score   support\n",
            "\n",
            "   69-я параллель       0.00      0.00      0.00         2\n",
            "          Nothing       0.00      0.00      0.00         1\n",
            "      Бывший СССР       0.83      0.83      0.83       121\n",
            "              Дом       0.00      0.00      0.00        26\n",
            "         Из жизни       0.00      0.00      0.00        42\n",
            "   Интернет и СМИ       0.00      0.00      0.00        45\n",
            "         Культура       0.54      0.16      0.24        45\n",
            "              Мир       0.35      0.85      0.50       158\n",
            "  Наука и техника       0.83      0.14      0.23        37\n",
            "       Нацпроекты       1.00      0.09      0.16        23\n",
            "      Путешествия       1.00      0.02      0.05        42\n",
            "           Россия       0.42      0.78      0.55       166\n",
            "Силовые структуры       1.00      0.11      0.20        54\n",
            "            Спорт       1.00      0.89      0.94       122\n",
            "         Ценности       0.96      0.49      0.65        45\n",
            "        Экономика       0.79      0.42      0.55        72\n",
            "\n",
            "         accuracy                           0.54      1001\n",
            "        macro avg       0.55      0.30      0.31      1001\n",
            "     weighted avg       0.62      0.54      0.49      1001\n",
            "\n"
          ],
          "name": "stdout"
        },
        {
          "output_type": "stream",
          "text": [
            "/usr/local/lib/python3.7/dist-packages/sklearn/metrics/_classification.py:1272: UndefinedMetricWarning: Precision and F-score are ill-defined and being set to 0.0 in labels with no predicted samples. Use `zero_division` parameter to control this behavior.\n",
            "  _warn_prf(average, modifier, msg_start, len(result))\n"
          ],
          "name": "stderr"
        },
        {
          "output_type": "stream",
          "text": [
            "При n= 2 , max_dif= 0.75 , min_dif= 4\n",
            "                   precision    recall  f1-score   support\n",
            "\n",
            "   69-я параллель       0.00      0.00      0.00         2\n",
            "          Nothing       0.00      0.00      0.00         1\n",
            "      Бывший СССР       0.83      0.82      0.82       121\n",
            "              Дом       0.00      0.00      0.00        26\n",
            "         Из жизни       1.00      0.02      0.05        42\n",
            "   Интернет и СМИ       0.00      0.00      0.00        45\n",
            "         Культура       0.54      0.16      0.24        45\n",
            "              Мир       0.37      0.85      0.52       158\n",
            "  Наука и техника       0.86      0.16      0.27        37\n",
            "       Нацпроекты       1.00      0.04      0.08        23\n",
            "      Путешествия       1.00      0.05      0.09        42\n",
            "           Россия       0.42      0.77      0.54       166\n",
            "Силовые структуры       0.92      0.20      0.33        54\n",
            "            Спорт       1.00      0.91      0.95       122\n",
            "         Ценности       0.96      0.53      0.69        45\n",
            "        Экономика       0.81      0.53      0.64        72\n",
            "\n",
            "         accuracy                           0.56      1001\n",
            "        macro avg       0.61      0.31      0.33      1001\n",
            "     weighted avg       0.66      0.56      0.51      1001\n",
            "\n"
          ],
          "name": "stdout"
        },
        {
          "output_type": "stream",
          "text": [
            "/usr/local/lib/python3.7/dist-packages/sklearn/metrics/_classification.py:1272: UndefinedMetricWarning: Precision and F-score are ill-defined and being set to 0.0 in labels with no predicted samples. Use `zero_division` parameter to control this behavior.\n",
            "  _warn_prf(average, modifier, msg_start, len(result))\n"
          ],
          "name": "stderr"
        },
        {
          "output_type": "stream",
          "text": [
            "При n= 3 , max_dif= 0.95 , min_dif= 2\n",
            "                   precision    recall  f1-score   support\n",
            "\n",
            "   69-я параллель       0.00      0.00      0.00         2\n",
            "          Nothing       0.00      0.00      0.00         1\n",
            "      Бывший СССР       0.84      0.78      0.81       121\n",
            "              Дом       0.00      0.00      0.00        26\n",
            "         Из жизни       0.00      0.00      0.00        42\n",
            "   Интернет и СМИ       0.00      0.00      0.00        45\n",
            "         Культура       0.58      0.16      0.25        45\n",
            "              Мир       0.33      0.87      0.47       158\n",
            "  Наука и техника       0.75      0.08      0.15        37\n",
            "       Нацпроекты       1.00      0.09      0.16        23\n",
            "      Путешествия       1.00      0.02      0.05        42\n",
            "           Россия       0.43      0.77      0.55       166\n",
            "Силовые структуры       0.67      0.04      0.07        54\n",
            "            Спорт       1.00      0.86      0.93       122\n",
            "         Ценности       1.00      0.38      0.55        45\n",
            "        Экономика       0.89      0.35      0.50        72\n",
            "\n",
            "         accuracy                           0.52      1001\n",
            "        macro avg       0.53      0.27      0.28      1001\n",
            "     weighted avg       0.61      0.52      0.46      1001\n",
            "\n"
          ],
          "name": "stdout"
        },
        {
          "output_type": "stream",
          "text": [
            "/usr/local/lib/python3.7/dist-packages/sklearn/metrics/_classification.py:1272: UndefinedMetricWarning: Precision and F-score are ill-defined and being set to 0.0 in labels with no predicted samples. Use `zero_division` parameter to control this behavior.\n",
            "  _warn_prf(average, modifier, msg_start, len(result))\n"
          ],
          "name": "stderr"
        },
        {
          "output_type": "stream",
          "text": [
            "При n= 3 , max_dif= 0.95 , min_dif= 3\n",
            "                   precision    recall  f1-score   support\n",
            "\n",
            "   69-я параллель       0.00      0.00      0.00         2\n",
            "          Nothing       0.00      0.00      0.00         1\n",
            "      Бывший СССР       0.83      0.79      0.81       121\n",
            "              Дом       0.00      0.00      0.00        26\n",
            "         Из жизни       0.00      0.00      0.00        42\n",
            "   Интернет и СМИ       0.00      0.00      0.00        45\n",
            "         Культура       0.54      0.16      0.24        45\n",
            "              Мир       0.35      0.86      0.50       158\n",
            "  Наука и техника       0.83      0.14      0.23        37\n",
            "       Нацпроекты       1.00      0.26      0.41        23\n",
            "      Путешествия       1.00      0.02      0.05        42\n",
            "           Россия       0.44      0.78      0.56       166\n",
            "Силовые структуры       1.00      0.13      0.23        54\n",
            "            Спорт       1.00      0.89      0.94       122\n",
            "         Ценности       1.00      0.49      0.66        45\n",
            "        Экономика       0.83      0.42      0.56        72\n",
            "\n",
            "         accuracy                           0.55      1001\n",
            "        macro avg       0.55      0.31      0.32      1001\n",
            "     weighted avg       0.63      0.55      0.50      1001\n",
            "\n"
          ],
          "name": "stdout"
        },
        {
          "output_type": "stream",
          "text": [
            "/usr/local/lib/python3.7/dist-packages/sklearn/metrics/_classification.py:1272: UndefinedMetricWarning: Precision and F-score are ill-defined and being set to 0.0 in labels with no predicted samples. Use `zero_division` parameter to control this behavior.\n",
            "  _warn_prf(average, modifier, msg_start, len(result))\n"
          ],
          "name": "stderr"
        },
        {
          "output_type": "stream",
          "text": [
            "При n= 3 , max_dif= 0.95 , min_dif= 4\n",
            "                   precision    recall  f1-score   support\n",
            "\n",
            "   69-я параллель       0.00      0.00      0.00         2\n",
            "          Nothing       0.00      0.00      0.00         1\n",
            "      Бывший СССР       0.82      0.80      0.81       121\n",
            "              Дом       0.00      0.00      0.00        26\n",
            "         Из жизни       1.00      0.02      0.05        42\n",
            "   Интернет и СМИ       0.00      0.00      0.00        45\n",
            "         Культура       0.54      0.16      0.24        45\n",
            "              Мир       0.38      0.85      0.53       158\n",
            "  Наука и техника       0.86      0.16      0.27        37\n",
            "       Нацпроекты       1.00      0.09      0.16        23\n",
            "      Путешествия       1.00      0.05      0.09        42\n",
            "           Россия       0.42      0.78      0.55       166\n",
            "Силовые структуры       0.92      0.22      0.36        54\n",
            "            Спорт       1.00      0.91      0.95       122\n",
            "         Ценности       0.96      0.53      0.69        45\n",
            "        Экономика       0.81      0.54      0.65        72\n",
            "\n",
            "         accuracy                           0.56      1001\n",
            "        macro avg       0.61      0.32      0.33      1001\n",
            "     weighted avg       0.67      0.56      0.52      1001\n",
            "\n"
          ],
          "name": "stdout"
        },
        {
          "output_type": "stream",
          "text": [
            "/usr/local/lib/python3.7/dist-packages/sklearn/metrics/_classification.py:1272: UndefinedMetricWarning: Precision and F-score are ill-defined and being set to 0.0 in labels with no predicted samples. Use `zero_division` parameter to control this behavior.\n",
            "  _warn_prf(average, modifier, msg_start, len(result))\n"
          ],
          "name": "stderr"
        },
        {
          "output_type": "stream",
          "text": [
            "При n= 3 , max_dif= 0.9 , min_dif= 2\n",
            "                   precision    recall  f1-score   support\n",
            "\n",
            "   69-я параллель       0.00      0.00      0.00         2\n",
            "          Nothing       0.00      0.00      0.00         1\n",
            "      Бывший СССР       0.84      0.78      0.81       121\n",
            "              Дом       0.00      0.00      0.00        26\n",
            "         Из жизни       0.00      0.00      0.00        42\n",
            "   Интернет и СМИ       0.00      0.00      0.00        45\n",
            "         Культура       0.58      0.16      0.25        45\n",
            "              Мир       0.33      0.87      0.47       158\n",
            "  Наука и техника       0.75      0.08      0.15        37\n",
            "       Нацпроекты       1.00      0.09      0.16        23\n",
            "      Путешествия       1.00      0.02      0.05        42\n",
            "           Россия       0.43      0.77      0.55       166\n",
            "Силовые структуры       0.67      0.04      0.07        54\n",
            "            Спорт       1.00      0.86      0.93       122\n",
            "         Ценности       1.00      0.38      0.55        45\n",
            "        Экономика       0.89      0.35      0.50        72\n",
            "\n",
            "         accuracy                           0.52      1001\n",
            "        macro avg       0.53      0.27      0.28      1001\n",
            "     weighted avg       0.61      0.52      0.46      1001\n",
            "\n"
          ],
          "name": "stdout"
        },
        {
          "output_type": "stream",
          "text": [
            "/usr/local/lib/python3.7/dist-packages/sklearn/metrics/_classification.py:1272: UndefinedMetricWarning: Precision and F-score are ill-defined and being set to 0.0 in labels with no predicted samples. Use `zero_division` parameter to control this behavior.\n",
            "  _warn_prf(average, modifier, msg_start, len(result))\n"
          ],
          "name": "stderr"
        },
        {
          "output_type": "stream",
          "text": [
            "При n= 3 , max_dif= 0.9 , min_dif= 3\n",
            "                   precision    recall  f1-score   support\n",
            "\n",
            "   69-я параллель       0.00      0.00      0.00         2\n",
            "          Nothing       0.00      0.00      0.00         1\n",
            "      Бывший СССР       0.83      0.79      0.81       121\n",
            "              Дом       0.00      0.00      0.00        26\n",
            "         Из жизни       0.00      0.00      0.00        42\n",
            "   Интернет и СМИ       0.00      0.00      0.00        45\n",
            "         Культура       0.54      0.16      0.24        45\n",
            "              Мир       0.35      0.86      0.50       158\n",
            "  Наука и техника       0.83      0.14      0.23        37\n",
            "       Нацпроекты       1.00      0.26      0.41        23\n",
            "      Путешествия       1.00      0.02      0.05        42\n",
            "           Россия       0.44      0.78      0.56       166\n",
            "Силовые структуры       1.00      0.13      0.23        54\n",
            "            Спорт       1.00      0.89      0.94       122\n",
            "         Ценности       1.00      0.49      0.66        45\n",
            "        Экономика       0.83      0.42      0.56        72\n",
            "\n",
            "         accuracy                           0.55      1001\n",
            "        macro avg       0.55      0.31      0.32      1001\n",
            "     weighted avg       0.63      0.55      0.50      1001\n",
            "\n"
          ],
          "name": "stdout"
        },
        {
          "output_type": "stream",
          "text": [
            "/usr/local/lib/python3.7/dist-packages/sklearn/metrics/_classification.py:1272: UndefinedMetricWarning: Precision and F-score are ill-defined and being set to 0.0 in labels with no predicted samples. Use `zero_division` parameter to control this behavior.\n",
            "  _warn_prf(average, modifier, msg_start, len(result))\n"
          ],
          "name": "stderr"
        },
        {
          "output_type": "stream",
          "text": [
            "При n= 3 , max_dif= 0.9 , min_dif= 4\n",
            "                   precision    recall  f1-score   support\n",
            "\n",
            "   69-я параллель       0.00      0.00      0.00         2\n",
            "          Nothing       0.00      0.00      0.00         1\n",
            "      Бывший СССР       0.82      0.80      0.81       121\n",
            "              Дом       0.00      0.00      0.00        26\n",
            "         Из жизни       1.00      0.02      0.05        42\n",
            "   Интернет и СМИ       0.00      0.00      0.00        45\n",
            "         Культура       0.54      0.16      0.24        45\n",
            "              Мир       0.38      0.85      0.53       158\n",
            "  Наука и техника       0.86      0.16      0.27        37\n",
            "       Нацпроекты       1.00      0.09      0.16        23\n",
            "      Путешествия       1.00      0.05      0.09        42\n",
            "           Россия       0.42      0.78      0.55       166\n",
            "Силовые структуры       0.92      0.22      0.36        54\n",
            "            Спорт       1.00      0.91      0.95       122\n",
            "         Ценности       0.96      0.53      0.69        45\n",
            "        Экономика       0.81      0.54      0.65        72\n",
            "\n",
            "         accuracy                           0.56      1001\n",
            "        macro avg       0.61      0.32      0.33      1001\n",
            "     weighted avg       0.67      0.56      0.52      1001\n",
            "\n"
          ],
          "name": "stdout"
        },
        {
          "output_type": "stream",
          "text": [
            "/usr/local/lib/python3.7/dist-packages/sklearn/metrics/_classification.py:1272: UndefinedMetricWarning: Precision and F-score are ill-defined and being set to 0.0 in labels with no predicted samples. Use `zero_division` parameter to control this behavior.\n",
            "  _warn_prf(average, modifier, msg_start, len(result))\n"
          ],
          "name": "stderr"
        },
        {
          "output_type": "stream",
          "text": [
            "При n= 3 , max_dif= 0.85 , min_dif= 2\n",
            "                   precision    recall  f1-score   support\n",
            "\n",
            "   69-я параллель       0.00      0.00      0.00         2\n",
            "          Nothing       0.00      0.00      0.00         1\n",
            "      Бывший СССР       0.84      0.78      0.81       121\n",
            "              Дом       0.00      0.00      0.00        26\n",
            "         Из жизни       0.00      0.00      0.00        42\n",
            "   Интернет и СМИ       0.00      0.00      0.00        45\n",
            "         Культура       0.58      0.16      0.25        45\n",
            "              Мир       0.33      0.87      0.47       158\n",
            "  Наука и техника       0.75      0.08      0.15        37\n",
            "       Нацпроекты       1.00      0.09      0.16        23\n",
            "      Путешествия       1.00      0.02      0.05        42\n",
            "           Россия       0.43      0.77      0.55       166\n",
            "Силовые структуры       0.67      0.04      0.07        54\n",
            "            Спорт       1.00      0.86      0.93       122\n",
            "         Ценности       1.00      0.38      0.55        45\n",
            "        Экономика       0.89      0.35      0.50        72\n",
            "\n",
            "         accuracy                           0.52      1001\n",
            "        macro avg       0.53      0.27      0.28      1001\n",
            "     weighted avg       0.61      0.52      0.46      1001\n",
            "\n"
          ],
          "name": "stdout"
        },
        {
          "output_type": "stream",
          "text": [
            "/usr/local/lib/python3.7/dist-packages/sklearn/metrics/_classification.py:1272: UndefinedMetricWarning: Precision and F-score are ill-defined and being set to 0.0 in labels with no predicted samples. Use `zero_division` parameter to control this behavior.\n",
            "  _warn_prf(average, modifier, msg_start, len(result))\n"
          ],
          "name": "stderr"
        },
        {
          "output_type": "stream",
          "text": [
            "При n= 3 , max_dif= 0.85 , min_dif= 3\n",
            "                   precision    recall  f1-score   support\n",
            "\n",
            "   69-я параллель       0.00      0.00      0.00         2\n",
            "          Nothing       0.00      0.00      0.00         1\n",
            "      Бывший СССР       0.83      0.79      0.81       121\n",
            "              Дом       0.00      0.00      0.00        26\n",
            "         Из жизни       0.00      0.00      0.00        42\n",
            "   Интернет и СМИ       0.00      0.00      0.00        45\n",
            "         Культура       0.54      0.16      0.24        45\n",
            "              Мир       0.35      0.86      0.50       158\n",
            "  Наука и техника       0.83      0.14      0.23        37\n",
            "       Нацпроекты       1.00      0.26      0.41        23\n",
            "      Путешествия       1.00      0.02      0.05        42\n",
            "           Россия       0.44      0.78      0.56       166\n",
            "Силовые структуры       1.00      0.13      0.23        54\n",
            "            Спорт       1.00      0.89      0.94       122\n",
            "         Ценности       1.00      0.49      0.66        45\n",
            "        Экономика       0.83      0.42      0.56        72\n",
            "\n",
            "         accuracy                           0.55      1001\n",
            "        macro avg       0.55      0.31      0.32      1001\n",
            "     weighted avg       0.63      0.55      0.50      1001\n",
            "\n"
          ],
          "name": "stdout"
        },
        {
          "output_type": "stream",
          "text": [
            "/usr/local/lib/python3.7/dist-packages/sklearn/metrics/_classification.py:1272: UndefinedMetricWarning: Precision and F-score are ill-defined and being set to 0.0 in labels with no predicted samples. Use `zero_division` parameter to control this behavior.\n",
            "  _warn_prf(average, modifier, msg_start, len(result))\n"
          ],
          "name": "stderr"
        },
        {
          "output_type": "stream",
          "text": [
            "При n= 3 , max_dif= 0.85 , min_dif= 4\n",
            "                   precision    recall  f1-score   support\n",
            "\n",
            "   69-я параллель       0.00      0.00      0.00         2\n",
            "          Nothing       0.00      0.00      0.00         1\n",
            "      Бывший СССР       0.82      0.80      0.81       121\n",
            "              Дом       0.00      0.00      0.00        26\n",
            "         Из жизни       1.00      0.02      0.05        42\n",
            "   Интернет и СМИ       0.00      0.00      0.00        45\n",
            "         Культура       0.54      0.16      0.24        45\n",
            "              Мир       0.38      0.85      0.53       158\n",
            "  Наука и техника       0.86      0.16      0.27        37\n",
            "       Нацпроекты       1.00      0.09      0.16        23\n",
            "      Путешествия       1.00      0.05      0.09        42\n",
            "           Россия       0.42      0.78      0.55       166\n",
            "Силовые структуры       0.92      0.22      0.36        54\n",
            "            Спорт       1.00      0.91      0.95       122\n",
            "         Ценности       0.96      0.53      0.69        45\n",
            "        Экономика       0.81      0.54      0.65        72\n",
            "\n",
            "         accuracy                           0.56      1001\n",
            "        macro avg       0.61      0.32      0.33      1001\n",
            "     weighted avg       0.67      0.56      0.52      1001\n",
            "\n"
          ],
          "name": "stdout"
        },
        {
          "output_type": "stream",
          "text": [
            "/usr/local/lib/python3.7/dist-packages/sklearn/metrics/_classification.py:1272: UndefinedMetricWarning: Precision and F-score are ill-defined and being set to 0.0 in labels with no predicted samples. Use `zero_division` parameter to control this behavior.\n",
            "  _warn_prf(average, modifier, msg_start, len(result))\n"
          ],
          "name": "stderr"
        },
        {
          "output_type": "stream",
          "text": [
            "При n= 3 , max_dif= 0.8 , min_dif= 2\n",
            "                   precision    recall  f1-score   support\n",
            "\n",
            "   69-я параллель       0.00      0.00      0.00         2\n",
            "          Nothing       0.00      0.00      0.00         1\n",
            "      Бывший СССР       0.84      0.78      0.81       121\n",
            "              Дом       0.00      0.00      0.00        26\n",
            "         Из жизни       0.00      0.00      0.00        42\n",
            "   Интернет и СМИ       0.00      0.00      0.00        45\n",
            "         Культура       0.58      0.16      0.25        45\n",
            "              Мир       0.33      0.87      0.47       158\n",
            "  Наука и техника       0.75      0.08      0.15        37\n",
            "       Нацпроекты       1.00      0.09      0.16        23\n",
            "      Путешествия       1.00      0.02      0.05        42\n",
            "           Россия       0.43      0.77      0.55       166\n",
            "Силовые структуры       0.67      0.04      0.07        54\n",
            "            Спорт       1.00      0.86      0.93       122\n",
            "         Ценности       1.00      0.38      0.55        45\n",
            "        Экономика       0.89      0.35      0.50        72\n",
            "\n",
            "         accuracy                           0.52      1001\n",
            "        macro avg       0.53      0.27      0.28      1001\n",
            "     weighted avg       0.61      0.52      0.46      1001\n",
            "\n"
          ],
          "name": "stdout"
        },
        {
          "output_type": "stream",
          "text": [
            "/usr/local/lib/python3.7/dist-packages/sklearn/metrics/_classification.py:1272: UndefinedMetricWarning: Precision and F-score are ill-defined and being set to 0.0 in labels with no predicted samples. Use `zero_division` parameter to control this behavior.\n",
            "  _warn_prf(average, modifier, msg_start, len(result))\n"
          ],
          "name": "stderr"
        },
        {
          "output_type": "stream",
          "text": [
            "При n= 3 , max_dif= 0.8 , min_dif= 3\n",
            "                   precision    recall  f1-score   support\n",
            "\n",
            "   69-я параллель       0.00      0.00      0.00         2\n",
            "          Nothing       0.00      0.00      0.00         1\n",
            "      Бывший СССР       0.83      0.79      0.81       121\n",
            "              Дом       0.00      0.00      0.00        26\n",
            "         Из жизни       0.00      0.00      0.00        42\n",
            "   Интернет и СМИ       0.00      0.00      0.00        45\n",
            "         Культура       0.54      0.16      0.24        45\n",
            "              Мир       0.35      0.86      0.50       158\n",
            "  Наука и техника       0.83      0.14      0.23        37\n",
            "       Нацпроекты       1.00      0.26      0.41        23\n",
            "      Путешествия       1.00      0.02      0.05        42\n",
            "           Россия       0.44      0.78      0.56       166\n",
            "Силовые структуры       1.00      0.13      0.23        54\n",
            "            Спорт       1.00      0.89      0.94       122\n",
            "         Ценности       1.00      0.49      0.66        45\n",
            "        Экономика       0.83      0.42      0.56        72\n",
            "\n",
            "         accuracy                           0.55      1001\n",
            "        macro avg       0.55      0.31      0.32      1001\n",
            "     weighted avg       0.63      0.55      0.50      1001\n",
            "\n"
          ],
          "name": "stdout"
        },
        {
          "output_type": "stream",
          "text": [
            "/usr/local/lib/python3.7/dist-packages/sklearn/metrics/_classification.py:1272: UndefinedMetricWarning: Precision and F-score are ill-defined and being set to 0.0 in labels with no predicted samples. Use `zero_division` parameter to control this behavior.\n",
            "  _warn_prf(average, modifier, msg_start, len(result))\n"
          ],
          "name": "stderr"
        },
        {
          "output_type": "stream",
          "text": [
            "При n= 3 , max_dif= 0.8 , min_dif= 4\n",
            "                   precision    recall  f1-score   support\n",
            "\n",
            "   69-я параллель       0.00      0.00      0.00         2\n",
            "          Nothing       0.00      0.00      0.00         1\n",
            "      Бывший СССР       0.82      0.80      0.81       121\n",
            "              Дом       0.00      0.00      0.00        26\n",
            "         Из жизни       1.00      0.02      0.05        42\n",
            "   Интернет и СМИ       0.00      0.00      0.00        45\n",
            "         Культура       0.54      0.16      0.24        45\n",
            "              Мир       0.38      0.85      0.53       158\n",
            "  Наука и техника       0.86      0.16      0.27        37\n",
            "       Нацпроекты       1.00      0.09      0.16        23\n",
            "      Путешествия       1.00      0.05      0.09        42\n",
            "           Россия       0.42      0.78      0.55       166\n",
            "Силовые структуры       0.92      0.22      0.36        54\n",
            "            Спорт       1.00      0.91      0.95       122\n",
            "         Ценности       0.96      0.53      0.69        45\n",
            "        Экономика       0.81      0.54      0.65        72\n",
            "\n",
            "         accuracy                           0.56      1001\n",
            "        macro avg       0.61      0.32      0.33      1001\n",
            "     weighted avg       0.67      0.56      0.52      1001\n",
            "\n"
          ],
          "name": "stdout"
        },
        {
          "output_type": "stream",
          "text": [
            "/usr/local/lib/python3.7/dist-packages/sklearn/metrics/_classification.py:1272: UndefinedMetricWarning: Precision and F-score are ill-defined and being set to 0.0 in labels with no predicted samples. Use `zero_division` parameter to control this behavior.\n",
            "  _warn_prf(average, modifier, msg_start, len(result))\n"
          ],
          "name": "stderr"
        },
        {
          "output_type": "stream",
          "text": [
            "При n= 3 , max_dif= 0.75 , min_dif= 2\n",
            "                   precision    recall  f1-score   support\n",
            "\n",
            "   69-я параллель       0.00      0.00      0.00         2\n",
            "          Nothing       0.00      0.00      0.00         1\n",
            "      Бывший СССР       0.84      0.78      0.81       121\n",
            "              Дом       0.00      0.00      0.00        26\n",
            "         Из жизни       0.00      0.00      0.00        42\n",
            "   Интернет и СМИ       0.00      0.00      0.00        45\n",
            "         Культура       0.58      0.16      0.25        45\n",
            "              Мир       0.33      0.87      0.47       158\n",
            "  Наука и техника       0.75      0.08      0.15        37\n",
            "       Нацпроекты       1.00      0.09      0.16        23\n",
            "      Путешествия       1.00      0.02      0.05        42\n",
            "           Россия       0.43      0.77      0.55       166\n",
            "Силовые структуры       0.67      0.04      0.07        54\n",
            "            Спорт       1.00      0.86      0.93       122\n",
            "         Ценности       1.00      0.38      0.55        45\n",
            "        Экономика       0.89      0.35      0.50        72\n",
            "\n",
            "         accuracy                           0.52      1001\n",
            "        macro avg       0.53      0.27      0.28      1001\n",
            "     weighted avg       0.61      0.52      0.46      1001\n",
            "\n"
          ],
          "name": "stdout"
        },
        {
          "output_type": "stream",
          "text": [
            "/usr/local/lib/python3.7/dist-packages/sklearn/metrics/_classification.py:1272: UndefinedMetricWarning: Precision and F-score are ill-defined and being set to 0.0 in labels with no predicted samples. Use `zero_division` parameter to control this behavior.\n",
            "  _warn_prf(average, modifier, msg_start, len(result))\n"
          ],
          "name": "stderr"
        },
        {
          "output_type": "stream",
          "text": [
            "При n= 3 , max_dif= 0.75 , min_dif= 3\n",
            "                   precision    recall  f1-score   support\n",
            "\n",
            "   69-я параллель       0.00      0.00      0.00         2\n",
            "          Nothing       0.00      0.00      0.00         1\n",
            "      Бывший СССР       0.83      0.79      0.81       121\n",
            "              Дом       0.00      0.00      0.00        26\n",
            "         Из жизни       0.00      0.00      0.00        42\n",
            "   Интернет и СМИ       0.00      0.00      0.00        45\n",
            "         Культура       0.54      0.16      0.24        45\n",
            "              Мир       0.35      0.86      0.50       158\n",
            "  Наука и техника       0.83      0.14      0.23        37\n",
            "       Нацпроекты       1.00      0.26      0.41        23\n",
            "      Путешествия       1.00      0.02      0.05        42\n",
            "           Россия       0.44      0.78      0.56       166\n",
            "Силовые структуры       1.00      0.13      0.23        54\n",
            "            Спорт       1.00      0.89      0.94       122\n",
            "         Ценности       1.00      0.49      0.66        45\n",
            "        Экономика       0.83      0.42      0.56        72\n",
            "\n",
            "         accuracy                           0.55      1001\n",
            "        macro avg       0.55      0.31      0.32      1001\n",
            "     weighted avg       0.63      0.55      0.50      1001\n",
            "\n"
          ],
          "name": "stdout"
        },
        {
          "output_type": "stream",
          "text": [
            "/usr/local/lib/python3.7/dist-packages/sklearn/metrics/_classification.py:1272: UndefinedMetricWarning: Precision and F-score are ill-defined and being set to 0.0 in labels with no predicted samples. Use `zero_division` parameter to control this behavior.\n",
            "  _warn_prf(average, modifier, msg_start, len(result))\n"
          ],
          "name": "stderr"
        },
        {
          "output_type": "stream",
          "text": [
            "При n= 3 , max_dif= 0.75 , min_dif= 4\n",
            "                   precision    recall  f1-score   support\n",
            "\n",
            "   69-я параллель       0.00      0.00      0.00         2\n",
            "          Nothing       0.00      0.00      0.00         1\n",
            "      Бывший СССР       0.82      0.80      0.81       121\n",
            "              Дом       0.00      0.00      0.00        26\n",
            "         Из жизни       1.00      0.02      0.05        42\n",
            "   Интернет и СМИ       0.00      0.00      0.00        45\n",
            "         Культура       0.54      0.16      0.24        45\n",
            "              Мир       0.38      0.85      0.53       158\n",
            "  Наука и техника       0.86      0.16      0.27        37\n",
            "       Нацпроекты       1.00      0.09      0.16        23\n",
            "      Путешествия       1.00      0.05      0.09        42\n",
            "           Россия       0.42      0.78      0.55       166\n",
            "Силовые структуры       0.92      0.22      0.36        54\n",
            "            Спорт       1.00      0.91      0.95       122\n",
            "         Ценности       0.96      0.53      0.69        45\n",
            "        Экономика       0.81      0.54      0.65        72\n",
            "\n",
            "         accuracy                           0.56      1001\n",
            "        macro avg       0.61      0.32      0.33      1001\n",
            "     weighted avg       0.67      0.56      0.52      1001\n",
            "\n"
          ],
          "name": "stdout"
        },
        {
          "output_type": "stream",
          "text": [
            "/usr/local/lib/python3.7/dist-packages/sklearn/metrics/_classification.py:1272: UndefinedMetricWarning: Precision and F-score are ill-defined and being set to 0.0 in labels with no predicted samples. Use `zero_division` parameter to control this behavior.\n",
            "  _warn_prf(average, modifier, msg_start, len(result))\n"
          ],
          "name": "stderr"
        },
        {
          "output_type": "stream",
          "text": [
            "При n= 4 , max_dif= 0.95 , min_dif= 2\n",
            "                   precision    recall  f1-score   support\n",
            "\n",
            "   69-я параллель       0.00      0.00      0.00         2\n",
            "          Nothing       0.00      0.00      0.00         1\n",
            "      Бывший СССР       0.84      0.77      0.80       121\n",
            "              Дом       0.00      0.00      0.00        26\n",
            "         Из жизни       0.00      0.00      0.00        42\n",
            "   Интернет и СМИ       0.00      0.00      0.00        45\n",
            "         Культура       0.58      0.16      0.25        45\n",
            "              Мир       0.33      0.87      0.48       158\n",
            "  Наука и техника       0.75      0.08      0.15        37\n",
            "       Нацпроекты       1.00      0.13      0.23        23\n",
            "      Путешествия       1.00      0.02      0.05        42\n",
            "           Россия       0.43      0.78      0.55       166\n",
            "Силовые структуры       0.75      0.06      0.10        54\n",
            "            Спорт       1.00      0.85      0.92       122\n",
            "         Ценности       1.00      0.38      0.55        45\n",
            "        Экономика       0.89      0.35      0.50        72\n",
            "\n",
            "         accuracy                           0.52      1001\n",
            "        macro avg       0.54      0.28      0.29      1001\n",
            "     weighted avg       0.61      0.52      0.47      1001\n",
            "\n"
          ],
          "name": "stdout"
        },
        {
          "output_type": "stream",
          "text": [
            "/usr/local/lib/python3.7/dist-packages/sklearn/metrics/_classification.py:1272: UndefinedMetricWarning: Precision and F-score are ill-defined and being set to 0.0 in labels with no predicted samples. Use `zero_division` parameter to control this behavior.\n",
            "  _warn_prf(average, modifier, msg_start, len(result))\n"
          ],
          "name": "stderr"
        },
        {
          "output_type": "stream",
          "text": [
            "При n= 4 , max_dif= 0.95 , min_dif= 3\n",
            "                   precision    recall  f1-score   support\n",
            "\n",
            "   69-я параллель       0.00      0.00      0.00         2\n",
            "          Nothing       0.00      0.00      0.00         1\n",
            "      Бывший СССР       0.84      0.79      0.81       121\n",
            "              Дом       0.00      0.00      0.00        26\n",
            "         Из жизни       1.00      0.02      0.05        42\n",
            "   Интернет и СМИ       0.00      0.00      0.00        45\n",
            "         Культура       0.57      0.18      0.27        45\n",
            "              Мир       0.35      0.87      0.50       158\n",
            "  Наука и техника       0.83      0.14      0.23        37\n",
            "       Нацпроекты       1.00      0.26      0.41        23\n",
            "      Путешествия       1.00      0.02      0.05        42\n",
            "           Россия       0.44      0.78      0.57       166\n",
            "Силовые структуры       1.00      0.13      0.23        54\n",
            "            Спорт       1.00      0.88      0.93       122\n",
            "         Ценности       1.00      0.49      0.66        45\n",
            "        Экономика       0.83      0.42      0.56        72\n",
            "\n",
            "         accuracy                           0.55      1001\n",
            "        macro avg       0.62      0.31      0.33      1001\n",
            "     weighted avg       0.67      0.55      0.50      1001\n",
            "\n"
          ],
          "name": "stdout"
        },
        {
          "output_type": "stream",
          "text": [
            "/usr/local/lib/python3.7/dist-packages/sklearn/metrics/_classification.py:1272: UndefinedMetricWarning: Precision and F-score are ill-defined and being set to 0.0 in labels with no predicted samples. Use `zero_division` parameter to control this behavior.\n",
            "  _warn_prf(average, modifier, msg_start, len(result))\n"
          ],
          "name": "stderr"
        },
        {
          "output_type": "stream",
          "text": [
            "При n= 4 , max_dif= 0.95 , min_dif= 4\n",
            "                   precision    recall  f1-score   support\n",
            "\n",
            "   69-я параллель       0.00      0.00      0.00         2\n",
            "          Nothing       0.00      0.00      0.00         1\n",
            "      Бывший СССР       0.82      0.79      0.81       121\n",
            "              Дом       0.00      0.00      0.00        26\n",
            "         Из жизни       1.00      0.05      0.09        42\n",
            "   Интернет и СМИ       0.00      0.00      0.00        45\n",
            "         Культура       0.54      0.16      0.24        45\n",
            "              Мир       0.38      0.87      0.52       158\n",
            "  Наука и техника       0.86      0.16      0.27        37\n",
            "       Нацпроекты       1.00      0.09      0.16        23\n",
            "      Путешествия       1.00      0.07      0.13        42\n",
            "           Россия       0.43      0.77      0.55       166\n",
            "Силовые структуры       0.83      0.19      0.30        54\n",
            "            Спорт       1.00      0.91      0.95       122\n",
            "         Ценности       0.96      0.53      0.69        45\n",
            "        Экономика       0.81      0.54      0.65        72\n",
            "\n",
            "         accuracy                           0.56      1001\n",
            "        macro avg       0.60      0.32      0.34      1001\n",
            "     weighted avg       0.66      0.56      0.52      1001\n",
            "\n"
          ],
          "name": "stdout"
        },
        {
          "output_type": "stream",
          "text": [
            "/usr/local/lib/python3.7/dist-packages/sklearn/metrics/_classification.py:1272: UndefinedMetricWarning: Precision and F-score are ill-defined and being set to 0.0 in labels with no predicted samples. Use `zero_division` parameter to control this behavior.\n",
            "  _warn_prf(average, modifier, msg_start, len(result))\n"
          ],
          "name": "stderr"
        },
        {
          "output_type": "stream",
          "text": [
            "При n= 4 , max_dif= 0.9 , min_dif= 2\n",
            "                   precision    recall  f1-score   support\n",
            "\n",
            "   69-я параллель       0.00      0.00      0.00         2\n",
            "          Nothing       0.00      0.00      0.00         1\n",
            "      Бывший СССР       0.84      0.77      0.80       121\n",
            "              Дом       0.00      0.00      0.00        26\n",
            "         Из жизни       0.00      0.00      0.00        42\n",
            "   Интернет и СМИ       0.00      0.00      0.00        45\n",
            "         Культура       0.58      0.16      0.25        45\n",
            "              Мир       0.33      0.87      0.48       158\n",
            "  Наука и техника       0.75      0.08      0.15        37\n",
            "       Нацпроекты       1.00      0.13      0.23        23\n",
            "      Путешествия       1.00      0.02      0.05        42\n",
            "           Россия       0.43      0.78      0.55       166\n",
            "Силовые структуры       0.75      0.06      0.10        54\n",
            "            Спорт       1.00      0.85      0.92       122\n",
            "         Ценности       1.00      0.38      0.55        45\n",
            "        Экономика       0.89      0.35      0.50        72\n",
            "\n",
            "         accuracy                           0.52      1001\n",
            "        macro avg       0.54      0.28      0.29      1001\n",
            "     weighted avg       0.61      0.52      0.47      1001\n",
            "\n"
          ],
          "name": "stdout"
        },
        {
          "output_type": "stream",
          "text": [
            "/usr/local/lib/python3.7/dist-packages/sklearn/metrics/_classification.py:1272: UndefinedMetricWarning: Precision and F-score are ill-defined and being set to 0.0 in labels with no predicted samples. Use `zero_division` parameter to control this behavior.\n",
            "  _warn_prf(average, modifier, msg_start, len(result))\n"
          ],
          "name": "stderr"
        },
        {
          "output_type": "stream",
          "text": [
            "При n= 4 , max_dif= 0.9 , min_dif= 3\n",
            "                   precision    recall  f1-score   support\n",
            "\n",
            "   69-я параллель       0.00      0.00      0.00         2\n",
            "          Nothing       0.00      0.00      0.00         1\n",
            "      Бывший СССР       0.84      0.79      0.81       121\n",
            "              Дом       0.00      0.00      0.00        26\n",
            "         Из жизни       1.00      0.02      0.05        42\n",
            "   Интернет и СМИ       0.00      0.00      0.00        45\n",
            "         Культура       0.57      0.18      0.27        45\n",
            "              Мир       0.35      0.87      0.50       158\n",
            "  Наука и техника       0.83      0.14      0.23        37\n",
            "       Нацпроекты       1.00      0.26      0.41        23\n",
            "      Путешествия       1.00      0.02      0.05        42\n",
            "           Россия       0.44      0.78      0.57       166\n",
            "Силовые структуры       1.00      0.13      0.23        54\n",
            "            Спорт       1.00      0.88      0.93       122\n",
            "         Ценности       1.00      0.49      0.66        45\n",
            "        Экономика       0.83      0.42      0.56        72\n",
            "\n",
            "         accuracy                           0.55      1001\n",
            "        macro avg       0.62      0.31      0.33      1001\n",
            "     weighted avg       0.67      0.55      0.50      1001\n",
            "\n"
          ],
          "name": "stdout"
        },
        {
          "output_type": "stream",
          "text": [
            "/usr/local/lib/python3.7/dist-packages/sklearn/metrics/_classification.py:1272: UndefinedMetricWarning: Precision and F-score are ill-defined and being set to 0.0 in labels with no predicted samples. Use `zero_division` parameter to control this behavior.\n",
            "  _warn_prf(average, modifier, msg_start, len(result))\n"
          ],
          "name": "stderr"
        },
        {
          "output_type": "stream",
          "text": [
            "При n= 4 , max_dif= 0.9 , min_dif= 4\n",
            "                   precision    recall  f1-score   support\n",
            "\n",
            "   69-я параллель       0.00      0.00      0.00         2\n",
            "          Nothing       0.00      0.00      0.00         1\n",
            "      Бывший СССР       0.82      0.79      0.81       121\n",
            "              Дом       0.00      0.00      0.00        26\n",
            "         Из жизни       1.00      0.05      0.09        42\n",
            "   Интернет и СМИ       0.00      0.00      0.00        45\n",
            "         Культура       0.54      0.16      0.24        45\n",
            "              Мир       0.38      0.87      0.52       158\n",
            "  Наука и техника       0.86      0.16      0.27        37\n",
            "       Нацпроекты       1.00      0.09      0.16        23\n",
            "      Путешествия       1.00      0.07      0.13        42\n",
            "           Россия       0.43      0.77      0.55       166\n",
            "Силовые структуры       0.83      0.19      0.30        54\n",
            "            Спорт       1.00      0.91      0.95       122\n",
            "         Ценности       0.96      0.53      0.69        45\n",
            "        Экономика       0.81      0.54      0.65        72\n",
            "\n",
            "         accuracy                           0.56      1001\n",
            "        macro avg       0.60      0.32      0.34      1001\n",
            "     weighted avg       0.66      0.56      0.52      1001\n",
            "\n"
          ],
          "name": "stdout"
        },
        {
          "output_type": "stream",
          "text": [
            "/usr/local/lib/python3.7/dist-packages/sklearn/metrics/_classification.py:1272: UndefinedMetricWarning: Precision and F-score are ill-defined and being set to 0.0 in labels with no predicted samples. Use `zero_division` parameter to control this behavior.\n",
            "  _warn_prf(average, modifier, msg_start, len(result))\n"
          ],
          "name": "stderr"
        },
        {
          "output_type": "stream",
          "text": [
            "При n= 4 , max_dif= 0.85 , min_dif= 2\n",
            "                   precision    recall  f1-score   support\n",
            "\n",
            "   69-я параллель       0.00      0.00      0.00         2\n",
            "          Nothing       0.00      0.00      0.00         1\n",
            "      Бывший СССР       0.84      0.77      0.80       121\n",
            "              Дом       0.00      0.00      0.00        26\n",
            "         Из жизни       0.00      0.00      0.00        42\n",
            "   Интернет и СМИ       0.00      0.00      0.00        45\n",
            "         Культура       0.58      0.16      0.25        45\n",
            "              Мир       0.33      0.87      0.48       158\n",
            "  Наука и техника       0.75      0.08      0.15        37\n",
            "       Нацпроекты       1.00      0.13      0.23        23\n",
            "      Путешествия       1.00      0.02      0.05        42\n",
            "           Россия       0.43      0.78      0.55       166\n",
            "Силовые структуры       0.75      0.06      0.10        54\n",
            "            Спорт       1.00      0.85      0.92       122\n",
            "         Ценности       1.00      0.38      0.55        45\n",
            "        Экономика       0.89      0.35      0.50        72\n",
            "\n",
            "         accuracy                           0.52      1001\n",
            "        macro avg       0.54      0.28      0.29      1001\n",
            "     weighted avg       0.61      0.52      0.47      1001\n",
            "\n"
          ],
          "name": "stdout"
        },
        {
          "output_type": "stream",
          "text": [
            "/usr/local/lib/python3.7/dist-packages/sklearn/metrics/_classification.py:1272: UndefinedMetricWarning: Precision and F-score are ill-defined and being set to 0.0 in labels with no predicted samples. Use `zero_division` parameter to control this behavior.\n",
            "  _warn_prf(average, modifier, msg_start, len(result))\n"
          ],
          "name": "stderr"
        },
        {
          "output_type": "stream",
          "text": [
            "При n= 4 , max_dif= 0.85 , min_dif= 3\n",
            "                   precision    recall  f1-score   support\n",
            "\n",
            "   69-я параллель       0.00      0.00      0.00         2\n",
            "          Nothing       0.00      0.00      0.00         1\n",
            "      Бывший СССР       0.84      0.79      0.81       121\n",
            "              Дом       0.00      0.00      0.00        26\n",
            "         Из жизни       1.00      0.02      0.05        42\n",
            "   Интернет и СМИ       0.00      0.00      0.00        45\n",
            "         Культура       0.57      0.18      0.27        45\n",
            "              Мир       0.35      0.87      0.50       158\n",
            "  Наука и техника       0.83      0.14      0.23        37\n",
            "       Нацпроекты       1.00      0.26      0.41        23\n",
            "      Путешествия       1.00      0.02      0.05        42\n",
            "           Россия       0.44      0.78      0.57       166\n",
            "Силовые структуры       1.00      0.13      0.23        54\n",
            "            Спорт       1.00      0.88      0.93       122\n",
            "         Ценности       1.00      0.49      0.66        45\n",
            "        Экономика       0.83      0.42      0.56        72\n",
            "\n",
            "         accuracy                           0.55      1001\n",
            "        macro avg       0.62      0.31      0.33      1001\n",
            "     weighted avg       0.67      0.55      0.50      1001\n",
            "\n"
          ],
          "name": "stdout"
        },
        {
          "output_type": "stream",
          "text": [
            "/usr/local/lib/python3.7/dist-packages/sklearn/metrics/_classification.py:1272: UndefinedMetricWarning: Precision and F-score are ill-defined and being set to 0.0 in labels with no predicted samples. Use `zero_division` parameter to control this behavior.\n",
            "  _warn_prf(average, modifier, msg_start, len(result))\n"
          ],
          "name": "stderr"
        },
        {
          "output_type": "stream",
          "text": [
            "При n= 4 , max_dif= 0.85 , min_dif= 4\n",
            "                   precision    recall  f1-score   support\n",
            "\n",
            "   69-я параллель       0.00      0.00      0.00         2\n",
            "          Nothing       0.00      0.00      0.00         1\n",
            "      Бывший СССР       0.82      0.79      0.81       121\n",
            "              Дом       0.00      0.00      0.00        26\n",
            "         Из жизни       1.00      0.05      0.09        42\n",
            "   Интернет и СМИ       0.00      0.00      0.00        45\n",
            "         Культура       0.54      0.16      0.24        45\n",
            "              Мир       0.38      0.87      0.52       158\n",
            "  Наука и техника       0.86      0.16      0.27        37\n",
            "       Нацпроекты       1.00      0.09      0.16        23\n",
            "      Путешествия       1.00      0.07      0.13        42\n",
            "           Россия       0.43      0.77      0.55       166\n",
            "Силовые структуры       0.83      0.19      0.30        54\n",
            "            Спорт       1.00      0.91      0.95       122\n",
            "         Ценности       0.96      0.53      0.69        45\n",
            "        Экономика       0.81      0.54      0.65        72\n",
            "\n",
            "         accuracy                           0.56      1001\n",
            "        macro avg       0.60      0.32      0.34      1001\n",
            "     weighted avg       0.66      0.56      0.52      1001\n",
            "\n"
          ],
          "name": "stdout"
        },
        {
          "output_type": "stream",
          "text": [
            "/usr/local/lib/python3.7/dist-packages/sklearn/metrics/_classification.py:1272: UndefinedMetricWarning: Precision and F-score are ill-defined and being set to 0.0 in labels with no predicted samples. Use `zero_division` parameter to control this behavior.\n",
            "  _warn_prf(average, modifier, msg_start, len(result))\n"
          ],
          "name": "stderr"
        },
        {
          "output_type": "stream",
          "text": [
            "При n= 4 , max_dif= 0.8 , min_dif= 2\n",
            "                   precision    recall  f1-score   support\n",
            "\n",
            "   69-я параллель       0.00      0.00      0.00         2\n",
            "          Nothing       0.00      0.00      0.00         1\n",
            "      Бывший СССР       0.84      0.77      0.80       121\n",
            "              Дом       0.00      0.00      0.00        26\n",
            "         Из жизни       0.00      0.00      0.00        42\n",
            "   Интернет и СМИ       0.00      0.00      0.00        45\n",
            "         Культура       0.58      0.16      0.25        45\n",
            "              Мир       0.33      0.87      0.48       158\n",
            "  Наука и техника       0.75      0.08      0.15        37\n",
            "       Нацпроекты       1.00      0.13      0.23        23\n",
            "      Путешествия       1.00      0.02      0.05        42\n",
            "           Россия       0.43      0.78      0.55       166\n",
            "Силовые структуры       0.75      0.06      0.10        54\n",
            "            Спорт       1.00      0.85      0.92       122\n",
            "         Ценности       1.00      0.38      0.55        45\n",
            "        Экономика       0.89      0.35      0.50        72\n",
            "\n",
            "         accuracy                           0.52      1001\n",
            "        macro avg       0.54      0.28      0.29      1001\n",
            "     weighted avg       0.61      0.52      0.47      1001\n",
            "\n"
          ],
          "name": "stdout"
        },
        {
          "output_type": "stream",
          "text": [
            "/usr/local/lib/python3.7/dist-packages/sklearn/metrics/_classification.py:1272: UndefinedMetricWarning: Precision and F-score are ill-defined and being set to 0.0 in labels with no predicted samples. Use `zero_division` parameter to control this behavior.\n",
            "  _warn_prf(average, modifier, msg_start, len(result))\n"
          ],
          "name": "stderr"
        },
        {
          "output_type": "stream",
          "text": [
            "При n= 4 , max_dif= 0.8 , min_dif= 3\n",
            "                   precision    recall  f1-score   support\n",
            "\n",
            "   69-я параллель       0.00      0.00      0.00         2\n",
            "          Nothing       0.00      0.00      0.00         1\n",
            "      Бывший СССР       0.84      0.79      0.81       121\n",
            "              Дом       0.00      0.00      0.00        26\n",
            "         Из жизни       1.00      0.02      0.05        42\n",
            "   Интернет и СМИ       0.00      0.00      0.00        45\n",
            "         Культура       0.57      0.18      0.27        45\n",
            "              Мир       0.35      0.87      0.50       158\n",
            "  Наука и техника       0.83      0.14      0.23        37\n",
            "       Нацпроекты       1.00      0.26      0.41        23\n",
            "      Путешествия       1.00      0.02      0.05        42\n",
            "           Россия       0.44      0.78      0.57       166\n",
            "Силовые структуры       1.00      0.13      0.23        54\n",
            "            Спорт       1.00      0.88      0.93       122\n",
            "         Ценности       1.00      0.49      0.66        45\n",
            "        Экономика       0.83      0.42      0.56        72\n",
            "\n",
            "         accuracy                           0.55      1001\n",
            "        macro avg       0.62      0.31      0.33      1001\n",
            "     weighted avg       0.67      0.55      0.50      1001\n",
            "\n"
          ],
          "name": "stdout"
        },
        {
          "output_type": "stream",
          "text": [
            "/usr/local/lib/python3.7/dist-packages/sklearn/metrics/_classification.py:1272: UndefinedMetricWarning: Precision and F-score are ill-defined and being set to 0.0 in labels with no predicted samples. Use `zero_division` parameter to control this behavior.\n",
            "  _warn_prf(average, modifier, msg_start, len(result))\n"
          ],
          "name": "stderr"
        },
        {
          "output_type": "stream",
          "text": [
            "При n= 4 , max_dif= 0.8 , min_dif= 4\n",
            "                   precision    recall  f1-score   support\n",
            "\n",
            "   69-я параллель       0.00      0.00      0.00         2\n",
            "          Nothing       0.00      0.00      0.00         1\n",
            "      Бывший СССР       0.82      0.79      0.81       121\n",
            "              Дом       0.00      0.00      0.00        26\n",
            "         Из жизни       1.00      0.05      0.09        42\n",
            "   Интернет и СМИ       0.00      0.00      0.00        45\n",
            "         Культура       0.54      0.16      0.24        45\n",
            "              Мир       0.38      0.87      0.52       158\n",
            "  Наука и техника       0.86      0.16      0.27        37\n",
            "       Нацпроекты       1.00      0.09      0.16        23\n",
            "      Путешествия       1.00      0.07      0.13        42\n",
            "           Россия       0.43      0.77      0.55       166\n",
            "Силовые структуры       0.83      0.19      0.30        54\n",
            "            Спорт       1.00      0.91      0.95       122\n",
            "         Ценности       0.96      0.53      0.69        45\n",
            "        Экономика       0.81      0.54      0.65        72\n",
            "\n",
            "         accuracy                           0.56      1001\n",
            "        macro avg       0.60      0.32      0.34      1001\n",
            "     weighted avg       0.66      0.56      0.52      1001\n",
            "\n"
          ],
          "name": "stdout"
        },
        {
          "output_type": "stream",
          "text": [
            "/usr/local/lib/python3.7/dist-packages/sklearn/metrics/_classification.py:1272: UndefinedMetricWarning: Precision and F-score are ill-defined and being set to 0.0 in labels with no predicted samples. Use `zero_division` parameter to control this behavior.\n",
            "  _warn_prf(average, modifier, msg_start, len(result))\n"
          ],
          "name": "stderr"
        },
        {
          "output_type": "stream",
          "text": [
            "При n= 4 , max_dif= 0.75 , min_dif= 2\n",
            "                   precision    recall  f1-score   support\n",
            "\n",
            "   69-я параллель       0.00      0.00      0.00         2\n",
            "          Nothing       0.00      0.00      0.00         1\n",
            "      Бывший СССР       0.84      0.77      0.80       121\n",
            "              Дом       0.00      0.00      0.00        26\n",
            "         Из жизни       0.00      0.00      0.00        42\n",
            "   Интернет и СМИ       0.00      0.00      0.00        45\n",
            "         Культура       0.58      0.16      0.25        45\n",
            "              Мир       0.33      0.87      0.48       158\n",
            "  Наука и техника       0.75      0.08      0.15        37\n",
            "       Нацпроекты       1.00      0.13      0.23        23\n",
            "      Путешествия       1.00      0.02      0.05        42\n",
            "           Россия       0.43      0.78      0.55       166\n",
            "Силовые структуры       0.75      0.06      0.10        54\n",
            "            Спорт       1.00      0.85      0.92       122\n",
            "         Ценности       1.00      0.38      0.55        45\n",
            "        Экономика       0.89      0.35      0.50        72\n",
            "\n",
            "         accuracy                           0.52      1001\n",
            "        macro avg       0.54      0.28      0.29      1001\n",
            "     weighted avg       0.61      0.52      0.47      1001\n",
            "\n"
          ],
          "name": "stdout"
        },
        {
          "output_type": "stream",
          "text": [
            "/usr/local/lib/python3.7/dist-packages/sklearn/metrics/_classification.py:1272: UndefinedMetricWarning: Precision and F-score are ill-defined and being set to 0.0 in labels with no predicted samples. Use `zero_division` parameter to control this behavior.\n",
            "  _warn_prf(average, modifier, msg_start, len(result))\n"
          ],
          "name": "stderr"
        },
        {
          "output_type": "stream",
          "text": [
            "При n= 4 , max_dif= 0.75 , min_dif= 3\n",
            "                   precision    recall  f1-score   support\n",
            "\n",
            "   69-я параллель       0.00      0.00      0.00         2\n",
            "          Nothing       0.00      0.00      0.00         1\n",
            "      Бывший СССР       0.84      0.79      0.81       121\n",
            "              Дом       0.00      0.00      0.00        26\n",
            "         Из жизни       1.00      0.02      0.05        42\n",
            "   Интернет и СМИ       0.00      0.00      0.00        45\n",
            "         Культура       0.57      0.18      0.27        45\n",
            "              Мир       0.35      0.87      0.50       158\n",
            "  Наука и техника       0.83      0.14      0.23        37\n",
            "       Нацпроекты       1.00      0.26      0.41        23\n",
            "      Путешествия       1.00      0.02      0.05        42\n",
            "           Россия       0.44      0.78      0.57       166\n",
            "Силовые структуры       1.00      0.13      0.23        54\n",
            "            Спорт       1.00      0.88      0.93       122\n",
            "         Ценности       1.00      0.49      0.66        45\n",
            "        Экономика       0.83      0.42      0.56        72\n",
            "\n",
            "         accuracy                           0.55      1001\n",
            "        macro avg       0.62      0.31      0.33      1001\n",
            "     weighted avg       0.67      0.55      0.50      1001\n",
            "\n"
          ],
          "name": "stdout"
        },
        {
          "output_type": "stream",
          "text": [
            "/usr/local/lib/python3.7/dist-packages/sklearn/metrics/_classification.py:1272: UndefinedMetricWarning: Precision and F-score are ill-defined and being set to 0.0 in labels with no predicted samples. Use `zero_division` parameter to control this behavior.\n",
            "  _warn_prf(average, modifier, msg_start, len(result))\n"
          ],
          "name": "stderr"
        },
        {
          "output_type": "stream",
          "text": [
            "При n= 4 , max_dif= 0.75 , min_dif= 4\n",
            "                   precision    recall  f1-score   support\n",
            "\n",
            "   69-я параллель       0.00      0.00      0.00         2\n",
            "          Nothing       0.00      0.00      0.00         1\n",
            "      Бывший СССР       0.82      0.79      0.81       121\n",
            "              Дом       0.00      0.00      0.00        26\n",
            "         Из жизни       1.00      0.05      0.09        42\n",
            "   Интернет и СМИ       0.00      0.00      0.00        45\n",
            "         Культура       0.54      0.16      0.24        45\n",
            "              Мир       0.38      0.87      0.52       158\n",
            "  Наука и техника       0.86      0.16      0.27        37\n",
            "       Нацпроекты       1.00      0.09      0.16        23\n",
            "      Путешествия       1.00      0.07      0.13        42\n",
            "           Россия       0.43      0.77      0.55       166\n",
            "Силовые структуры       0.83      0.19      0.30        54\n",
            "            Спорт       1.00      0.91      0.95       122\n",
            "         Ценности       0.96      0.53      0.69        45\n",
            "        Экономика       0.81      0.54      0.65        72\n",
            "\n",
            "         accuracy                           0.56      1001\n",
            "        macro avg       0.60      0.32      0.34      1001\n",
            "     weighted avg       0.66      0.56      0.52      1001\n",
            "\n"
          ],
          "name": "stdout"
        },
        {
          "output_type": "stream",
          "text": [
            "/usr/local/lib/python3.7/dist-packages/sklearn/metrics/_classification.py:1272: UndefinedMetricWarning: Precision and F-score are ill-defined and being set to 0.0 in labels with no predicted samples. Use `zero_division` parameter to control this behavior.\n",
            "  _warn_prf(average, modifier, msg_start, len(result))\n"
          ],
          "name": "stderr"
        },
        {
          "output_type": "stream",
          "text": [
            "При n= 5 , max_dif= 0.95 , min_dif= 2\n",
            "                   precision    recall  f1-score   support\n",
            "\n",
            "   69-я параллель       0.00      0.00      0.00         2\n",
            "          Nothing       0.00      0.00      0.00         1\n",
            "      Бывший СССР       0.84      0.77      0.80       121\n",
            "              Дом       0.00      0.00      0.00        26\n",
            "         Из жизни       0.00      0.00      0.00        42\n",
            "   Интернет и СМИ       0.00      0.00      0.00        45\n",
            "         Культура       0.58      0.16      0.25        45\n",
            "              Мир       0.33      0.87      0.48       158\n",
            "  Наука и техника       0.75      0.08      0.15        37\n",
            "       Нацпроекты       1.00      0.26      0.41        23\n",
            "      Путешествия       1.00      0.02      0.05        42\n",
            "           Россия       0.43      0.78      0.56       166\n",
            "Силовые структуры       0.75      0.06      0.10        54\n",
            "            Спорт       1.00      0.85      0.92       122\n",
            "         Ценности       1.00      0.38      0.55        45\n",
            "        Экономика       0.90      0.36      0.51        72\n",
            "\n",
            "         accuracy                           0.53      1001\n",
            "        macro avg       0.54      0.29      0.30      1001\n",
            "     weighted avg       0.62      0.53      0.47      1001\n",
            "\n"
          ],
          "name": "stdout"
        },
        {
          "output_type": "stream",
          "text": [
            "/usr/local/lib/python3.7/dist-packages/sklearn/metrics/_classification.py:1272: UndefinedMetricWarning: Precision and F-score are ill-defined and being set to 0.0 in labels with no predicted samples. Use `zero_division` parameter to control this behavior.\n",
            "  _warn_prf(average, modifier, msg_start, len(result))\n"
          ],
          "name": "stderr"
        },
        {
          "output_type": "stream",
          "text": [
            "При n= 5 , max_dif= 0.95 , min_dif= 3\n",
            "                   precision    recall  f1-score   support\n",
            "\n",
            "   69-я параллель       0.00      0.00      0.00         2\n",
            "          Nothing       0.00      0.00      0.00         1\n",
            "      Бывший СССР       0.84      0.77      0.80       121\n",
            "              Дом       0.00      0.00      0.00        26\n",
            "         Из жизни       1.00      0.02      0.05        42\n",
            "   Интернет и СМИ       0.00      0.00      0.00        45\n",
            "         Культура       0.57      0.18      0.27        45\n",
            "              Мир       0.34      0.87      0.49       158\n",
            "  Наука и техника       0.83      0.14      0.23        37\n",
            "       Нацпроекты       1.00      0.26      0.41        23\n",
            "      Путешествия       1.00      0.02      0.05        42\n",
            "           Россия       0.45      0.78      0.57       166\n",
            "Силовые структуры       1.00      0.13      0.23        54\n",
            "            Спорт       1.00      0.87      0.93       122\n",
            "         Ценности       1.00      0.49      0.66        45\n",
            "        Экономика       0.83      0.40      0.54        72\n",
            "\n",
            "         accuracy                           0.54      1001\n",
            "        macro avg       0.62      0.31      0.33      1001\n",
            "     weighted avg       0.67      0.54      0.50      1001\n",
            "\n"
          ],
          "name": "stdout"
        },
        {
          "output_type": "stream",
          "text": [
            "/usr/local/lib/python3.7/dist-packages/sklearn/metrics/_classification.py:1272: UndefinedMetricWarning: Precision and F-score are ill-defined and being set to 0.0 in labels with no predicted samples. Use `zero_division` parameter to control this behavior.\n",
            "  _warn_prf(average, modifier, msg_start, len(result))\n"
          ],
          "name": "stderr"
        },
        {
          "output_type": "stream",
          "text": [
            "При n= 5 , max_dif= 0.95 , min_dif= 4\n",
            "                   precision    recall  f1-score   support\n",
            "\n",
            "   69-я параллель       0.00      0.00      0.00         2\n",
            "          Nothing       0.00      0.00      0.00         1\n",
            "      Бывший СССР       0.82      0.79      0.81       121\n",
            "              Дом       0.00      0.00      0.00        26\n",
            "         Из жизни       1.00      0.05      0.09        42\n",
            "   Интернет и СМИ       0.00      0.00      0.00        45\n",
            "         Культура       0.54      0.16      0.24        45\n",
            "              Мир       0.37      0.87      0.52       158\n",
            "  Наука и техника       0.86      0.16      0.27        37\n",
            "       Нацпроекты       1.00      0.17      0.30        23\n",
            "      Путешествия       1.00      0.05      0.09        42\n",
            "           Россия       0.43      0.77      0.55       166\n",
            "Силовые структуры       0.82      0.17      0.28        54\n",
            "            Спорт       1.00      0.90      0.95       122\n",
            "         Ценности       0.96      0.53      0.69        45\n",
            "        Экономика       0.80      0.51      0.63        72\n",
            "\n",
            "         accuracy                           0.56      1001\n",
            "        macro avg       0.60      0.32      0.34      1001\n",
            "     weighted avg       0.66      0.56      0.51      1001\n",
            "\n"
          ],
          "name": "stdout"
        },
        {
          "output_type": "stream",
          "text": [
            "/usr/local/lib/python3.7/dist-packages/sklearn/metrics/_classification.py:1272: UndefinedMetricWarning: Precision and F-score are ill-defined and being set to 0.0 in labels with no predicted samples. Use `zero_division` parameter to control this behavior.\n",
            "  _warn_prf(average, modifier, msg_start, len(result))\n"
          ],
          "name": "stderr"
        },
        {
          "output_type": "stream",
          "text": [
            "При n= 5 , max_dif= 0.9 , min_dif= 2\n",
            "                   precision    recall  f1-score   support\n",
            "\n",
            "   69-я параллель       0.00      0.00      0.00         2\n",
            "          Nothing       0.00      0.00      0.00         1\n",
            "      Бывший СССР       0.84      0.77      0.80       121\n",
            "              Дом       0.00      0.00      0.00        26\n",
            "         Из жизни       0.00      0.00      0.00        42\n",
            "   Интернет и СМИ       0.00      0.00      0.00        45\n",
            "         Культура       0.58      0.16      0.25        45\n",
            "              Мир       0.33      0.87      0.48       158\n",
            "  Наука и техника       0.75      0.08      0.15        37\n",
            "       Нацпроекты       1.00      0.26      0.41        23\n",
            "      Путешествия       1.00      0.02      0.05        42\n",
            "           Россия       0.43      0.78      0.56       166\n",
            "Силовые структуры       0.75      0.06      0.10        54\n",
            "            Спорт       1.00      0.85      0.92       122\n",
            "         Ценности       1.00      0.38      0.55        45\n",
            "        Экономика       0.90      0.36      0.51        72\n",
            "\n",
            "         accuracy                           0.53      1001\n",
            "        macro avg       0.54      0.29      0.30      1001\n",
            "     weighted avg       0.62      0.53      0.47      1001\n",
            "\n"
          ],
          "name": "stdout"
        },
        {
          "output_type": "stream",
          "text": [
            "/usr/local/lib/python3.7/dist-packages/sklearn/metrics/_classification.py:1272: UndefinedMetricWarning: Precision and F-score are ill-defined and being set to 0.0 in labels with no predicted samples. Use `zero_division` parameter to control this behavior.\n",
            "  _warn_prf(average, modifier, msg_start, len(result))\n"
          ],
          "name": "stderr"
        },
        {
          "output_type": "stream",
          "text": [
            "При n= 5 , max_dif= 0.9 , min_dif= 3\n",
            "                   precision    recall  f1-score   support\n",
            "\n",
            "   69-я параллель       0.00      0.00      0.00         2\n",
            "          Nothing       0.00      0.00      0.00         1\n",
            "      Бывший СССР       0.84      0.77      0.80       121\n",
            "              Дом       0.00      0.00      0.00        26\n",
            "         Из жизни       1.00      0.02      0.05        42\n",
            "   Интернет и СМИ       0.00      0.00      0.00        45\n",
            "         Культура       0.57      0.18      0.27        45\n",
            "              Мир       0.34      0.87      0.49       158\n",
            "  Наука и техника       0.83      0.14      0.23        37\n",
            "       Нацпроекты       1.00      0.26      0.41        23\n",
            "      Путешествия       1.00      0.02      0.05        42\n",
            "           Россия       0.45      0.78      0.57       166\n",
            "Силовые структуры       1.00      0.13      0.23        54\n",
            "            Спорт       1.00      0.87      0.93       122\n",
            "         Ценности       1.00      0.49      0.66        45\n",
            "        Экономика       0.83      0.40      0.54        72\n",
            "\n",
            "         accuracy                           0.54      1001\n",
            "        macro avg       0.62      0.31      0.33      1001\n",
            "     weighted avg       0.67      0.54      0.50      1001\n",
            "\n"
          ],
          "name": "stdout"
        },
        {
          "output_type": "stream",
          "text": [
            "/usr/local/lib/python3.7/dist-packages/sklearn/metrics/_classification.py:1272: UndefinedMetricWarning: Precision and F-score are ill-defined and being set to 0.0 in labels with no predicted samples. Use `zero_division` parameter to control this behavior.\n",
            "  _warn_prf(average, modifier, msg_start, len(result))\n"
          ],
          "name": "stderr"
        },
        {
          "output_type": "stream",
          "text": [
            "При n= 5 , max_dif= 0.9 , min_dif= 4\n",
            "                   precision    recall  f1-score   support\n",
            "\n",
            "   69-я параллель       0.00      0.00      0.00         2\n",
            "          Nothing       0.00      0.00      0.00         1\n",
            "      Бывший СССР       0.82      0.79      0.81       121\n",
            "              Дом       0.00      0.00      0.00        26\n",
            "         Из жизни       1.00      0.05      0.09        42\n",
            "   Интернет и СМИ       0.00      0.00      0.00        45\n",
            "         Культура       0.54      0.16      0.24        45\n",
            "              Мир       0.37      0.87      0.52       158\n",
            "  Наука и техника       0.86      0.16      0.27        37\n",
            "       Нацпроекты       1.00      0.17      0.30        23\n",
            "      Путешествия       1.00      0.05      0.09        42\n",
            "           Россия       0.43      0.77      0.55       166\n",
            "Силовые структуры       0.82      0.17      0.28        54\n",
            "            Спорт       1.00      0.90      0.95       122\n",
            "         Ценности       0.96      0.53      0.69        45\n",
            "        Экономика       0.80      0.51      0.63        72\n",
            "\n",
            "         accuracy                           0.56      1001\n",
            "        macro avg       0.60      0.32      0.34      1001\n",
            "     weighted avg       0.66      0.56      0.51      1001\n",
            "\n"
          ],
          "name": "stdout"
        },
        {
          "output_type": "stream",
          "text": [
            "/usr/local/lib/python3.7/dist-packages/sklearn/metrics/_classification.py:1272: UndefinedMetricWarning: Precision and F-score are ill-defined and being set to 0.0 in labels with no predicted samples. Use `zero_division` parameter to control this behavior.\n",
            "  _warn_prf(average, modifier, msg_start, len(result))\n"
          ],
          "name": "stderr"
        },
        {
          "output_type": "stream",
          "text": [
            "При n= 5 , max_dif= 0.85 , min_dif= 2\n",
            "                   precision    recall  f1-score   support\n",
            "\n",
            "   69-я параллель       0.00      0.00      0.00         2\n",
            "          Nothing       0.00      0.00      0.00         1\n",
            "      Бывший СССР       0.84      0.77      0.80       121\n",
            "              Дом       0.00      0.00      0.00        26\n",
            "         Из жизни       0.00      0.00      0.00        42\n",
            "   Интернет и СМИ       0.00      0.00      0.00        45\n",
            "         Культура       0.58      0.16      0.25        45\n",
            "              Мир       0.33      0.87      0.48       158\n",
            "  Наука и техника       0.75      0.08      0.15        37\n",
            "       Нацпроекты       1.00      0.26      0.41        23\n",
            "      Путешествия       1.00      0.02      0.05        42\n",
            "           Россия       0.43      0.78      0.56       166\n",
            "Силовые структуры       0.75      0.06      0.10        54\n",
            "            Спорт       1.00      0.85      0.92       122\n",
            "         Ценности       1.00      0.38      0.55        45\n",
            "        Экономика       0.90      0.36      0.51        72\n",
            "\n",
            "         accuracy                           0.53      1001\n",
            "        macro avg       0.54      0.29      0.30      1001\n",
            "     weighted avg       0.62      0.53      0.47      1001\n",
            "\n"
          ],
          "name": "stdout"
        },
        {
          "output_type": "stream",
          "text": [
            "/usr/local/lib/python3.7/dist-packages/sklearn/metrics/_classification.py:1272: UndefinedMetricWarning: Precision and F-score are ill-defined and being set to 0.0 in labels with no predicted samples. Use `zero_division` parameter to control this behavior.\n",
            "  _warn_prf(average, modifier, msg_start, len(result))\n"
          ],
          "name": "stderr"
        },
        {
          "output_type": "stream",
          "text": [
            "При n= 5 , max_dif= 0.85 , min_dif= 3\n",
            "                   precision    recall  f1-score   support\n",
            "\n",
            "   69-я параллель       0.00      0.00      0.00         2\n",
            "          Nothing       0.00      0.00      0.00         1\n",
            "      Бывший СССР       0.84      0.77      0.80       121\n",
            "              Дом       0.00      0.00      0.00        26\n",
            "         Из жизни       1.00      0.02      0.05        42\n",
            "   Интернет и СМИ       0.00      0.00      0.00        45\n",
            "         Культура       0.57      0.18      0.27        45\n",
            "              Мир       0.34      0.87      0.49       158\n",
            "  Наука и техника       0.83      0.14      0.23        37\n",
            "       Нацпроекты       1.00      0.26      0.41        23\n",
            "      Путешествия       1.00      0.02      0.05        42\n",
            "           Россия       0.45      0.78      0.57       166\n",
            "Силовые структуры       1.00      0.13      0.23        54\n",
            "            Спорт       1.00      0.87      0.93       122\n",
            "         Ценности       1.00      0.49      0.66        45\n",
            "        Экономика       0.83      0.40      0.54        72\n",
            "\n",
            "         accuracy                           0.54      1001\n",
            "        macro avg       0.62      0.31      0.33      1001\n",
            "     weighted avg       0.67      0.54      0.50      1001\n",
            "\n"
          ],
          "name": "stdout"
        },
        {
          "output_type": "stream",
          "text": [
            "/usr/local/lib/python3.7/dist-packages/sklearn/metrics/_classification.py:1272: UndefinedMetricWarning: Precision and F-score are ill-defined and being set to 0.0 in labels with no predicted samples. Use `zero_division` parameter to control this behavior.\n",
            "  _warn_prf(average, modifier, msg_start, len(result))\n"
          ],
          "name": "stderr"
        },
        {
          "output_type": "stream",
          "text": [
            "При n= 5 , max_dif= 0.85 , min_dif= 4\n",
            "                   precision    recall  f1-score   support\n",
            "\n",
            "   69-я параллель       0.00      0.00      0.00         2\n",
            "          Nothing       0.00      0.00      0.00         1\n",
            "      Бывший СССР       0.82      0.79      0.81       121\n",
            "              Дом       0.00      0.00      0.00        26\n",
            "         Из жизни       1.00      0.05      0.09        42\n",
            "   Интернет и СМИ       0.00      0.00      0.00        45\n",
            "         Культура       0.54      0.16      0.24        45\n",
            "              Мир       0.37      0.87      0.52       158\n",
            "  Наука и техника       0.86      0.16      0.27        37\n",
            "       Нацпроекты       1.00      0.17      0.30        23\n",
            "      Путешествия       1.00      0.05      0.09        42\n",
            "           Россия       0.43      0.77      0.55       166\n",
            "Силовые структуры       0.82      0.17      0.28        54\n",
            "            Спорт       1.00      0.90      0.95       122\n",
            "         Ценности       0.96      0.53      0.69        45\n",
            "        Экономика       0.80      0.51      0.63        72\n",
            "\n",
            "         accuracy                           0.56      1001\n",
            "        macro avg       0.60      0.32      0.34      1001\n",
            "     weighted avg       0.66      0.56      0.51      1001\n",
            "\n"
          ],
          "name": "stdout"
        },
        {
          "output_type": "stream",
          "text": [
            "/usr/local/lib/python3.7/dist-packages/sklearn/metrics/_classification.py:1272: UndefinedMetricWarning: Precision and F-score are ill-defined and being set to 0.0 in labels with no predicted samples. Use `zero_division` parameter to control this behavior.\n",
            "  _warn_prf(average, modifier, msg_start, len(result))\n"
          ],
          "name": "stderr"
        },
        {
          "output_type": "stream",
          "text": [
            "При n= 5 , max_dif= 0.8 , min_dif= 2\n",
            "                   precision    recall  f1-score   support\n",
            "\n",
            "   69-я параллель       0.00      0.00      0.00         2\n",
            "          Nothing       0.00      0.00      0.00         1\n",
            "      Бывший СССР       0.84      0.77      0.80       121\n",
            "              Дом       0.00      0.00      0.00        26\n",
            "         Из жизни       0.00      0.00      0.00        42\n",
            "   Интернет и СМИ       0.00      0.00      0.00        45\n",
            "         Культура       0.58      0.16      0.25        45\n",
            "              Мир       0.33      0.87      0.48       158\n",
            "  Наука и техника       0.75      0.08      0.15        37\n",
            "       Нацпроекты       1.00      0.26      0.41        23\n",
            "      Путешествия       1.00      0.02      0.05        42\n",
            "           Россия       0.43      0.78      0.56       166\n",
            "Силовые структуры       0.75      0.06      0.10        54\n",
            "            Спорт       1.00      0.85      0.92       122\n",
            "         Ценности       1.00      0.38      0.55        45\n",
            "        Экономика       0.90      0.36      0.51        72\n",
            "\n",
            "         accuracy                           0.53      1001\n",
            "        macro avg       0.54      0.29      0.30      1001\n",
            "     weighted avg       0.62      0.53      0.47      1001\n",
            "\n"
          ],
          "name": "stdout"
        },
        {
          "output_type": "stream",
          "text": [
            "/usr/local/lib/python3.7/dist-packages/sklearn/metrics/_classification.py:1272: UndefinedMetricWarning: Precision and F-score are ill-defined and being set to 0.0 in labels with no predicted samples. Use `zero_division` parameter to control this behavior.\n",
            "  _warn_prf(average, modifier, msg_start, len(result))\n"
          ],
          "name": "stderr"
        },
        {
          "output_type": "stream",
          "text": [
            "При n= 5 , max_dif= 0.8 , min_dif= 3\n",
            "                   precision    recall  f1-score   support\n",
            "\n",
            "   69-я параллель       0.00      0.00      0.00         2\n",
            "          Nothing       0.00      0.00      0.00         1\n",
            "      Бывший СССР       0.84      0.77      0.80       121\n",
            "              Дом       0.00      0.00      0.00        26\n",
            "         Из жизни       1.00      0.02      0.05        42\n",
            "   Интернет и СМИ       0.00      0.00      0.00        45\n",
            "         Культура       0.57      0.18      0.27        45\n",
            "              Мир       0.34      0.87      0.49       158\n",
            "  Наука и техника       0.83      0.14      0.23        37\n",
            "       Нацпроекты       1.00      0.26      0.41        23\n",
            "      Путешествия       1.00      0.02      0.05        42\n",
            "           Россия       0.45      0.78      0.57       166\n",
            "Силовые структуры       1.00      0.13      0.23        54\n",
            "            Спорт       1.00      0.87      0.93       122\n",
            "         Ценности       1.00      0.49      0.66        45\n",
            "        Экономика       0.83      0.40      0.54        72\n",
            "\n",
            "         accuracy                           0.54      1001\n",
            "        macro avg       0.62      0.31      0.33      1001\n",
            "     weighted avg       0.67      0.54      0.50      1001\n",
            "\n"
          ],
          "name": "stdout"
        },
        {
          "output_type": "stream",
          "text": [
            "/usr/local/lib/python3.7/dist-packages/sklearn/metrics/_classification.py:1272: UndefinedMetricWarning: Precision and F-score are ill-defined and being set to 0.0 in labels with no predicted samples. Use `zero_division` parameter to control this behavior.\n",
            "  _warn_prf(average, modifier, msg_start, len(result))\n"
          ],
          "name": "stderr"
        },
        {
          "output_type": "stream",
          "text": [
            "При n= 5 , max_dif= 0.8 , min_dif= 4\n",
            "                   precision    recall  f1-score   support\n",
            "\n",
            "   69-я параллель       0.00      0.00      0.00         2\n",
            "          Nothing       0.00      0.00      0.00         1\n",
            "      Бывший СССР       0.82      0.79      0.81       121\n",
            "              Дом       0.00      0.00      0.00        26\n",
            "         Из жизни       1.00      0.05      0.09        42\n",
            "   Интернет и СМИ       0.00      0.00      0.00        45\n",
            "         Культура       0.54      0.16      0.24        45\n",
            "              Мир       0.37      0.87      0.52       158\n",
            "  Наука и техника       0.86      0.16      0.27        37\n",
            "       Нацпроекты       1.00      0.17      0.30        23\n",
            "      Путешествия       1.00      0.05      0.09        42\n",
            "           Россия       0.43      0.77      0.55       166\n",
            "Силовые структуры       0.82      0.17      0.28        54\n",
            "            Спорт       1.00      0.90      0.95       122\n",
            "         Ценности       0.96      0.53      0.69        45\n",
            "        Экономика       0.80      0.51      0.63        72\n",
            "\n",
            "         accuracy                           0.56      1001\n",
            "        macro avg       0.60      0.32      0.34      1001\n",
            "     weighted avg       0.66      0.56      0.51      1001\n",
            "\n"
          ],
          "name": "stdout"
        },
        {
          "output_type": "stream",
          "text": [
            "/usr/local/lib/python3.7/dist-packages/sklearn/metrics/_classification.py:1272: UndefinedMetricWarning: Precision and F-score are ill-defined and being set to 0.0 in labels with no predicted samples. Use `zero_division` parameter to control this behavior.\n",
            "  _warn_prf(average, modifier, msg_start, len(result))\n"
          ],
          "name": "stderr"
        },
        {
          "output_type": "stream",
          "text": [
            "При n= 5 , max_dif= 0.75 , min_dif= 2\n",
            "                   precision    recall  f1-score   support\n",
            "\n",
            "   69-я параллель       0.00      0.00      0.00         2\n",
            "          Nothing       0.00      0.00      0.00         1\n",
            "      Бывший СССР       0.84      0.77      0.80       121\n",
            "              Дом       0.00      0.00      0.00        26\n",
            "         Из жизни       0.00      0.00      0.00        42\n",
            "   Интернет и СМИ       0.00      0.00      0.00        45\n",
            "         Культура       0.58      0.16      0.25        45\n",
            "              Мир       0.33      0.87      0.48       158\n",
            "  Наука и техника       0.75      0.08      0.15        37\n",
            "       Нацпроекты       1.00      0.26      0.41        23\n",
            "      Путешествия       1.00      0.02      0.05        42\n",
            "           Россия       0.43      0.78      0.56       166\n",
            "Силовые структуры       0.75      0.06      0.10        54\n",
            "            Спорт       1.00      0.85      0.92       122\n",
            "         Ценности       1.00      0.38      0.55        45\n",
            "        Экономика       0.90      0.36      0.51        72\n",
            "\n",
            "         accuracy                           0.53      1001\n",
            "        macro avg       0.54      0.29      0.30      1001\n",
            "     weighted avg       0.62      0.53      0.47      1001\n",
            "\n"
          ],
          "name": "stdout"
        },
        {
          "output_type": "stream",
          "text": [
            "/usr/local/lib/python3.7/dist-packages/sklearn/metrics/_classification.py:1272: UndefinedMetricWarning: Precision and F-score are ill-defined and being set to 0.0 in labels with no predicted samples. Use `zero_division` parameter to control this behavior.\n",
            "  _warn_prf(average, modifier, msg_start, len(result))\n"
          ],
          "name": "stderr"
        },
        {
          "output_type": "stream",
          "text": [
            "При n= 5 , max_dif= 0.75 , min_dif= 3\n",
            "                   precision    recall  f1-score   support\n",
            "\n",
            "   69-я параллель       0.00      0.00      0.00         2\n",
            "          Nothing       0.00      0.00      0.00         1\n",
            "      Бывший СССР       0.84      0.77      0.80       121\n",
            "              Дом       0.00      0.00      0.00        26\n",
            "         Из жизни       1.00      0.02      0.05        42\n",
            "   Интернет и СМИ       0.00      0.00      0.00        45\n",
            "         Культура       0.57      0.18      0.27        45\n",
            "              Мир       0.34      0.87      0.49       158\n",
            "  Наука и техника       0.83      0.14      0.23        37\n",
            "       Нацпроекты       1.00      0.26      0.41        23\n",
            "      Путешествия       1.00      0.02      0.05        42\n",
            "           Россия       0.45      0.78      0.57       166\n",
            "Силовые структуры       1.00      0.13      0.23        54\n",
            "            Спорт       1.00      0.87      0.93       122\n",
            "         Ценности       1.00      0.49      0.66        45\n",
            "        Экономика       0.83      0.40      0.54        72\n",
            "\n",
            "         accuracy                           0.54      1001\n",
            "        macro avg       0.62      0.31      0.33      1001\n",
            "     weighted avg       0.67      0.54      0.50      1001\n",
            "\n"
          ],
          "name": "stdout"
        },
        {
          "output_type": "stream",
          "text": [
            "/usr/local/lib/python3.7/dist-packages/sklearn/metrics/_classification.py:1272: UndefinedMetricWarning: Precision and F-score are ill-defined and being set to 0.0 in labels with no predicted samples. Use `zero_division` parameter to control this behavior.\n",
            "  _warn_prf(average, modifier, msg_start, len(result))\n"
          ],
          "name": "stderr"
        },
        {
          "output_type": "stream",
          "text": [
            "При n= 5 , max_dif= 0.75 , min_dif= 4\n",
            "                   precision    recall  f1-score   support\n",
            "\n",
            "   69-я параллель       0.00      0.00      0.00         2\n",
            "          Nothing       0.00      0.00      0.00         1\n",
            "      Бывший СССР       0.82      0.79      0.81       121\n",
            "              Дом       0.00      0.00      0.00        26\n",
            "         Из жизни       1.00      0.05      0.09        42\n",
            "   Интернет и СМИ       0.00      0.00      0.00        45\n",
            "         Культура       0.54      0.16      0.24        45\n",
            "              Мир       0.37      0.87      0.52       158\n",
            "  Наука и техника       0.86      0.16      0.27        37\n",
            "       Нацпроекты       1.00      0.17      0.30        23\n",
            "      Путешествия       1.00      0.05      0.09        42\n",
            "           Россия       0.43      0.77      0.55       166\n",
            "Силовые структуры       0.82      0.17      0.28        54\n",
            "            Спорт       1.00      0.90      0.95       122\n",
            "         Ценности       0.96      0.53      0.69        45\n",
            "        Экономика       0.80      0.51      0.63        72\n",
            "\n",
            "         accuracy                           0.56      1001\n",
            "        macro avg       0.60      0.32      0.34      1001\n",
            "     weighted avg       0.66      0.56      0.51      1001\n",
            "\n"
          ],
          "name": "stdout"
        },
        {
          "output_type": "stream",
          "text": [
            "/usr/local/lib/python3.7/dist-packages/sklearn/metrics/_classification.py:1272: UndefinedMetricWarning: Precision and F-score are ill-defined and being set to 0.0 in labels with no predicted samples. Use `zero_division` parameter to control this behavior.\n",
            "  _warn_prf(average, modifier, msg_start, len(result))\n"
          ],
          "name": "stderr"
        },
        {
          "output_type": "stream",
          "text": [
            "При n= 6 , max_dif= 0.95 , min_dif= 2\n",
            "                   precision    recall  f1-score   support\n",
            "\n",
            "   69-я параллель       0.00      0.00      0.00         2\n",
            "          Nothing       0.00      0.00      0.00         1\n",
            "      Бывший СССР       0.84      0.77      0.80       121\n",
            "              Дом       0.00      0.00      0.00        26\n",
            "         Из жизни       0.00      0.00      0.00        42\n",
            "   Интернет и СМИ       0.00      0.00      0.00        45\n",
            "         Культура       0.62      0.18      0.28        45\n",
            "              Мир       0.33      0.87      0.48       158\n",
            "  Наука и техника       0.75      0.08      0.15        37\n",
            "       Нацпроекты       1.00      0.26      0.41        23\n",
            "      Путешествия       1.00      0.02      0.05        42\n",
            "           Россия       0.43      0.78      0.55       166\n",
            "Силовые структуры       0.75      0.06      0.10        54\n",
            "            Спорт       1.00      0.85      0.92       122\n",
            "         Ценности       1.00      0.36      0.52        45\n",
            "        Экономика       0.90      0.36      0.51        72\n",
            "\n",
            "         accuracy                           0.53      1001\n",
            "        macro avg       0.54      0.29      0.30      1001\n",
            "     weighted avg       0.62      0.53      0.47      1001\n",
            "\n"
          ],
          "name": "stdout"
        },
        {
          "output_type": "stream",
          "text": [
            "/usr/local/lib/python3.7/dist-packages/sklearn/metrics/_classification.py:1272: UndefinedMetricWarning: Precision and F-score are ill-defined and being set to 0.0 in labels with no predicted samples. Use `zero_division` parameter to control this behavior.\n",
            "  _warn_prf(average, modifier, msg_start, len(result))\n"
          ],
          "name": "stderr"
        },
        {
          "output_type": "stream",
          "text": [
            "При n= 6 , max_dif= 0.95 , min_dif= 3\n",
            "                   precision    recall  f1-score   support\n",
            "\n",
            "   69-я параллель       0.00      0.00      0.00         2\n",
            "          Nothing       0.00      0.00      0.00         1\n",
            "      Бывший СССР       0.84      0.77      0.80       121\n",
            "              Дом       0.00      0.00      0.00        26\n",
            "         Из жизни       1.00      0.02      0.05        42\n",
            "   Интернет и СМИ       0.00      0.00      0.00        45\n",
            "         Культура       0.62      0.18      0.28        45\n",
            "              Мир       0.34      0.87      0.49       158\n",
            "  Наука и техника       0.83      0.14      0.23        37\n",
            "       Нацпроекты       1.00      0.26      0.41        23\n",
            "      Путешествия       1.00      0.02      0.05        42\n",
            "           Россия       0.45      0.78      0.57       166\n",
            "Силовые структуры       1.00      0.13      0.23        54\n",
            "            Спорт       1.00      0.87      0.93       122\n",
            "         Ценности       1.00      0.49      0.66        45\n",
            "        Экономика       0.83      0.40      0.54        72\n",
            "\n",
            "         accuracy                           0.54      1001\n",
            "        macro avg       0.62      0.31      0.33      1001\n",
            "     weighted avg       0.67      0.54      0.50      1001\n",
            "\n"
          ],
          "name": "stdout"
        },
        {
          "output_type": "stream",
          "text": [
            "/usr/local/lib/python3.7/dist-packages/sklearn/metrics/_classification.py:1272: UndefinedMetricWarning: Precision and F-score are ill-defined and being set to 0.0 in labels with no predicted samples. Use `zero_division` parameter to control this behavior.\n",
            "  _warn_prf(average, modifier, msg_start, len(result))\n"
          ],
          "name": "stderr"
        },
        {
          "output_type": "stream",
          "text": [
            "При n= 6 , max_dif= 0.95 , min_dif= 4\n",
            "                   precision    recall  f1-score   support\n",
            "\n",
            "   69-я параллель       0.00      0.00      0.00         2\n",
            "          Nothing       0.00      0.00      0.00         1\n",
            "      Бывший СССР       0.83      0.79      0.81       121\n",
            "              Дом       0.00      0.00      0.00        26\n",
            "         Из жизни       1.00      0.05      0.09        42\n",
            "   Интернет и СМИ       0.00      0.00      0.00        45\n",
            "         Культура       0.54      0.16      0.24        45\n",
            "              Мир       0.37      0.87      0.52       158\n",
            "  Наука и техника       0.86      0.16      0.27        37\n",
            "       Нацпроекты       1.00      0.17      0.30        23\n",
            "      Путешествия       1.00      0.05      0.09        42\n",
            "           Россия       0.43      0.77      0.55       166\n",
            "Силовые структуры       0.82      0.17      0.28        54\n",
            "            Спорт       1.00      0.90      0.95       122\n",
            "         Ценности       0.96      0.53      0.69        45\n",
            "        Экономика       0.80      0.51      0.63        72\n",
            "\n",
            "         accuracy                           0.56      1001\n",
            "        macro avg       0.60      0.32      0.34      1001\n",
            "     weighted avg       0.66      0.56      0.51      1001\n",
            "\n"
          ],
          "name": "stdout"
        },
        {
          "output_type": "stream",
          "text": [
            "/usr/local/lib/python3.7/dist-packages/sklearn/metrics/_classification.py:1272: UndefinedMetricWarning: Precision and F-score are ill-defined and being set to 0.0 in labels with no predicted samples. Use `zero_division` parameter to control this behavior.\n",
            "  _warn_prf(average, modifier, msg_start, len(result))\n"
          ],
          "name": "stderr"
        },
        {
          "output_type": "stream",
          "text": [
            "При n= 6 , max_dif= 0.9 , min_dif= 2\n",
            "                   precision    recall  f1-score   support\n",
            "\n",
            "   69-я параллель       0.00      0.00      0.00         2\n",
            "          Nothing       0.00      0.00      0.00         1\n",
            "      Бывший СССР       0.84      0.77      0.80       121\n",
            "              Дом       0.00      0.00      0.00        26\n",
            "         Из жизни       0.00      0.00      0.00        42\n",
            "   Интернет и СМИ       0.00      0.00      0.00        45\n",
            "         Культура       0.62      0.18      0.28        45\n",
            "              Мир       0.33      0.87      0.48       158\n",
            "  Наука и техника       0.75      0.08      0.15        37\n",
            "       Нацпроекты       1.00      0.26      0.41        23\n",
            "      Путешествия       1.00      0.02      0.05        42\n",
            "           Россия       0.43      0.78      0.55       166\n",
            "Силовые структуры       0.75      0.06      0.10        54\n",
            "            Спорт       1.00      0.85      0.92       122\n",
            "         Ценности       1.00      0.36      0.52        45\n",
            "        Экономика       0.90      0.36      0.51        72\n",
            "\n",
            "         accuracy                           0.53      1001\n",
            "        macro avg       0.54      0.29      0.30      1001\n",
            "     weighted avg       0.62      0.53      0.47      1001\n",
            "\n"
          ],
          "name": "stdout"
        },
        {
          "output_type": "stream",
          "text": [
            "/usr/local/lib/python3.7/dist-packages/sklearn/metrics/_classification.py:1272: UndefinedMetricWarning: Precision and F-score are ill-defined and being set to 0.0 in labels with no predicted samples. Use `zero_division` parameter to control this behavior.\n",
            "  _warn_prf(average, modifier, msg_start, len(result))\n"
          ],
          "name": "stderr"
        },
        {
          "output_type": "stream",
          "text": [
            "При n= 6 , max_dif= 0.9 , min_dif= 3\n",
            "                   precision    recall  f1-score   support\n",
            "\n",
            "   69-я параллель       0.00      0.00      0.00         2\n",
            "          Nothing       0.00      0.00      0.00         1\n",
            "      Бывший СССР       0.84      0.77      0.80       121\n",
            "              Дом       0.00      0.00      0.00        26\n",
            "         Из жизни       1.00      0.02      0.05        42\n",
            "   Интернет и СМИ       0.00      0.00      0.00        45\n",
            "         Культура       0.62      0.18      0.28        45\n",
            "              Мир       0.34      0.87      0.49       158\n",
            "  Наука и техника       0.83      0.14      0.23        37\n",
            "       Нацпроекты       1.00      0.26      0.41        23\n",
            "      Путешествия       1.00      0.02      0.05        42\n",
            "           Россия       0.45      0.78      0.57       166\n",
            "Силовые структуры       1.00      0.13      0.23        54\n",
            "            Спорт       1.00      0.87      0.93       122\n",
            "         Ценности       1.00      0.49      0.66        45\n",
            "        Экономика       0.83      0.40      0.54        72\n",
            "\n",
            "         accuracy                           0.54      1001\n",
            "        macro avg       0.62      0.31      0.33      1001\n",
            "     weighted avg       0.67      0.54      0.50      1001\n",
            "\n"
          ],
          "name": "stdout"
        },
        {
          "output_type": "stream",
          "text": [
            "/usr/local/lib/python3.7/dist-packages/sklearn/metrics/_classification.py:1272: UndefinedMetricWarning: Precision and F-score are ill-defined and being set to 0.0 in labels with no predicted samples. Use `zero_division` parameter to control this behavior.\n",
            "  _warn_prf(average, modifier, msg_start, len(result))\n"
          ],
          "name": "stderr"
        },
        {
          "output_type": "stream",
          "text": [
            "При n= 6 , max_dif= 0.9 , min_dif= 4\n",
            "                   precision    recall  f1-score   support\n",
            "\n",
            "   69-я параллель       0.00      0.00      0.00         2\n",
            "          Nothing       0.00      0.00      0.00         1\n",
            "      Бывший СССР       0.83      0.79      0.81       121\n",
            "              Дом       0.00      0.00      0.00        26\n",
            "         Из жизни       1.00      0.05      0.09        42\n",
            "   Интернет и СМИ       0.00      0.00      0.00        45\n",
            "         Культура       0.54      0.16      0.24        45\n",
            "              Мир       0.37      0.87      0.52       158\n",
            "  Наука и техника       0.86      0.16      0.27        37\n",
            "       Нацпроекты       1.00      0.17      0.30        23\n",
            "      Путешествия       1.00      0.05      0.09        42\n",
            "           Россия       0.43      0.77      0.55       166\n",
            "Силовые структуры       0.82      0.17      0.28        54\n",
            "            Спорт       1.00      0.90      0.95       122\n",
            "         Ценности       0.96      0.53      0.69        45\n",
            "        Экономика       0.80      0.51      0.63        72\n",
            "\n",
            "         accuracy                           0.56      1001\n",
            "        macro avg       0.60      0.32      0.34      1001\n",
            "     weighted avg       0.66      0.56      0.51      1001\n",
            "\n"
          ],
          "name": "stdout"
        },
        {
          "output_type": "stream",
          "text": [
            "/usr/local/lib/python3.7/dist-packages/sklearn/metrics/_classification.py:1272: UndefinedMetricWarning: Precision and F-score are ill-defined and being set to 0.0 in labels with no predicted samples. Use `zero_division` parameter to control this behavior.\n",
            "  _warn_prf(average, modifier, msg_start, len(result))\n"
          ],
          "name": "stderr"
        },
        {
          "output_type": "stream",
          "text": [
            "При n= 6 , max_dif= 0.85 , min_dif= 2\n",
            "                   precision    recall  f1-score   support\n",
            "\n",
            "   69-я параллель       0.00      0.00      0.00         2\n",
            "          Nothing       0.00      0.00      0.00         1\n",
            "      Бывший СССР       0.84      0.77      0.80       121\n",
            "              Дом       0.00      0.00      0.00        26\n",
            "         Из жизни       0.00      0.00      0.00        42\n",
            "   Интернет и СМИ       0.00      0.00      0.00        45\n",
            "         Культура       0.62      0.18      0.28        45\n",
            "              Мир       0.33      0.87      0.48       158\n",
            "  Наука и техника       0.75      0.08      0.15        37\n",
            "       Нацпроекты       1.00      0.26      0.41        23\n",
            "      Путешествия       1.00      0.02      0.05        42\n",
            "           Россия       0.43      0.78      0.55       166\n",
            "Силовые структуры       0.75      0.06      0.10        54\n",
            "            Спорт       1.00      0.85      0.92       122\n",
            "         Ценности       1.00      0.36      0.52        45\n",
            "        Экономика       0.90      0.36      0.51        72\n",
            "\n",
            "         accuracy                           0.53      1001\n",
            "        macro avg       0.54      0.29      0.30      1001\n",
            "     weighted avg       0.62      0.53      0.47      1001\n",
            "\n"
          ],
          "name": "stdout"
        },
        {
          "output_type": "stream",
          "text": [
            "/usr/local/lib/python3.7/dist-packages/sklearn/metrics/_classification.py:1272: UndefinedMetricWarning: Precision and F-score are ill-defined and being set to 0.0 in labels with no predicted samples. Use `zero_division` parameter to control this behavior.\n",
            "  _warn_prf(average, modifier, msg_start, len(result))\n"
          ],
          "name": "stderr"
        },
        {
          "output_type": "stream",
          "text": [
            "При n= 6 , max_dif= 0.85 , min_dif= 3\n",
            "                   precision    recall  f1-score   support\n",
            "\n",
            "   69-я параллель       0.00      0.00      0.00         2\n",
            "          Nothing       0.00      0.00      0.00         1\n",
            "      Бывший СССР       0.84      0.77      0.80       121\n",
            "              Дом       0.00      0.00      0.00        26\n",
            "         Из жизни       1.00      0.02      0.05        42\n",
            "   Интернет и СМИ       0.00      0.00      0.00        45\n",
            "         Культура       0.62      0.18      0.28        45\n",
            "              Мир       0.34      0.87      0.49       158\n",
            "  Наука и техника       0.83      0.14      0.23        37\n",
            "       Нацпроекты       1.00      0.26      0.41        23\n",
            "      Путешествия       1.00      0.02      0.05        42\n",
            "           Россия       0.45      0.78      0.57       166\n",
            "Силовые структуры       1.00      0.13      0.23        54\n",
            "            Спорт       1.00      0.87      0.93       122\n",
            "         Ценности       1.00      0.49      0.66        45\n",
            "        Экономика       0.83      0.40      0.54        72\n",
            "\n",
            "         accuracy                           0.54      1001\n",
            "        macro avg       0.62      0.31      0.33      1001\n",
            "     weighted avg       0.67      0.54      0.50      1001\n",
            "\n"
          ],
          "name": "stdout"
        },
        {
          "output_type": "stream",
          "text": [
            "/usr/local/lib/python3.7/dist-packages/sklearn/metrics/_classification.py:1272: UndefinedMetricWarning: Precision and F-score are ill-defined and being set to 0.0 in labels with no predicted samples. Use `zero_division` parameter to control this behavior.\n",
            "  _warn_prf(average, modifier, msg_start, len(result))\n"
          ],
          "name": "stderr"
        },
        {
          "output_type": "stream",
          "text": [
            "При n= 6 , max_dif= 0.85 , min_dif= 4\n",
            "                   precision    recall  f1-score   support\n",
            "\n",
            "   69-я параллель       0.00      0.00      0.00         2\n",
            "          Nothing       0.00      0.00      0.00         1\n",
            "      Бывший СССР       0.83      0.79      0.81       121\n",
            "              Дом       0.00      0.00      0.00        26\n",
            "         Из жизни       1.00      0.05      0.09        42\n",
            "   Интернет и СМИ       0.00      0.00      0.00        45\n",
            "         Культура       0.54      0.16      0.24        45\n",
            "              Мир       0.37      0.87      0.52       158\n",
            "  Наука и техника       0.86      0.16      0.27        37\n",
            "       Нацпроекты       1.00      0.17      0.30        23\n",
            "      Путешествия       1.00      0.05      0.09        42\n",
            "           Россия       0.43      0.77      0.55       166\n",
            "Силовые структуры       0.82      0.17      0.28        54\n",
            "            Спорт       1.00      0.90      0.95       122\n",
            "         Ценности       0.96      0.53      0.69        45\n",
            "        Экономика       0.80      0.51      0.63        72\n",
            "\n",
            "         accuracy                           0.56      1001\n",
            "        macro avg       0.60      0.32      0.34      1001\n",
            "     weighted avg       0.66      0.56      0.51      1001\n",
            "\n"
          ],
          "name": "stdout"
        },
        {
          "output_type": "stream",
          "text": [
            "/usr/local/lib/python3.7/dist-packages/sklearn/metrics/_classification.py:1272: UndefinedMetricWarning: Precision and F-score are ill-defined and being set to 0.0 in labels with no predicted samples. Use `zero_division` parameter to control this behavior.\n",
            "  _warn_prf(average, modifier, msg_start, len(result))\n"
          ],
          "name": "stderr"
        },
        {
          "output_type": "stream",
          "text": [
            "При n= 6 , max_dif= 0.8 , min_dif= 2\n",
            "                   precision    recall  f1-score   support\n",
            "\n",
            "   69-я параллель       0.00      0.00      0.00         2\n",
            "          Nothing       0.00      0.00      0.00         1\n",
            "      Бывший СССР       0.84      0.77      0.80       121\n",
            "              Дом       0.00      0.00      0.00        26\n",
            "         Из жизни       0.00      0.00      0.00        42\n",
            "   Интернет и СМИ       0.00      0.00      0.00        45\n",
            "         Культура       0.62      0.18      0.28        45\n",
            "              Мир       0.33      0.87      0.48       158\n",
            "  Наука и техника       0.75      0.08      0.15        37\n",
            "       Нацпроекты       1.00      0.26      0.41        23\n",
            "      Путешествия       1.00      0.02      0.05        42\n",
            "           Россия       0.43      0.78      0.55       166\n",
            "Силовые структуры       0.75      0.06      0.10        54\n",
            "            Спорт       1.00      0.85      0.92       122\n",
            "         Ценности       1.00      0.36      0.52        45\n",
            "        Экономика       0.90      0.36      0.51        72\n",
            "\n",
            "         accuracy                           0.53      1001\n",
            "        macro avg       0.54      0.29      0.30      1001\n",
            "     weighted avg       0.62      0.53      0.47      1001\n",
            "\n"
          ],
          "name": "stdout"
        },
        {
          "output_type": "stream",
          "text": [
            "/usr/local/lib/python3.7/dist-packages/sklearn/metrics/_classification.py:1272: UndefinedMetricWarning: Precision and F-score are ill-defined and being set to 0.0 in labels with no predicted samples. Use `zero_division` parameter to control this behavior.\n",
            "  _warn_prf(average, modifier, msg_start, len(result))\n"
          ],
          "name": "stderr"
        },
        {
          "output_type": "stream",
          "text": [
            "При n= 6 , max_dif= 0.8 , min_dif= 3\n",
            "                   precision    recall  f1-score   support\n",
            "\n",
            "   69-я параллель       0.00      0.00      0.00         2\n",
            "          Nothing       0.00      0.00      0.00         1\n",
            "      Бывший СССР       0.84      0.77      0.80       121\n",
            "              Дом       0.00      0.00      0.00        26\n",
            "         Из жизни       1.00      0.02      0.05        42\n",
            "   Интернет и СМИ       0.00      0.00      0.00        45\n",
            "         Культура       0.62      0.18      0.28        45\n",
            "              Мир       0.34      0.87      0.49       158\n",
            "  Наука и техника       0.83      0.14      0.23        37\n",
            "       Нацпроекты       1.00      0.26      0.41        23\n",
            "      Путешествия       1.00      0.02      0.05        42\n",
            "           Россия       0.45      0.78      0.57       166\n",
            "Силовые структуры       1.00      0.13      0.23        54\n",
            "            Спорт       1.00      0.87      0.93       122\n",
            "         Ценности       1.00      0.49      0.66        45\n",
            "        Экономика       0.83      0.40      0.54        72\n",
            "\n",
            "         accuracy                           0.54      1001\n",
            "        macro avg       0.62      0.31      0.33      1001\n",
            "     weighted avg       0.67      0.54      0.50      1001\n",
            "\n"
          ],
          "name": "stdout"
        },
        {
          "output_type": "stream",
          "text": [
            "/usr/local/lib/python3.7/dist-packages/sklearn/metrics/_classification.py:1272: UndefinedMetricWarning: Precision and F-score are ill-defined and being set to 0.0 in labels with no predicted samples. Use `zero_division` parameter to control this behavior.\n",
            "  _warn_prf(average, modifier, msg_start, len(result))\n"
          ],
          "name": "stderr"
        },
        {
          "output_type": "stream",
          "text": [
            "При n= 6 , max_dif= 0.8 , min_dif= 4\n",
            "                   precision    recall  f1-score   support\n",
            "\n",
            "   69-я параллель       0.00      0.00      0.00         2\n",
            "          Nothing       0.00      0.00      0.00         1\n",
            "      Бывший СССР       0.83      0.79      0.81       121\n",
            "              Дом       0.00      0.00      0.00        26\n",
            "         Из жизни       1.00      0.05      0.09        42\n",
            "   Интернет и СМИ       0.00      0.00      0.00        45\n",
            "         Культура       0.54      0.16      0.24        45\n",
            "              Мир       0.37      0.87      0.52       158\n",
            "  Наука и техника       0.86      0.16      0.27        37\n",
            "       Нацпроекты       1.00      0.17      0.30        23\n",
            "      Путешествия       1.00      0.05      0.09        42\n",
            "           Россия       0.43      0.77      0.55       166\n",
            "Силовые структуры       0.82      0.17      0.28        54\n",
            "            Спорт       1.00      0.90      0.95       122\n",
            "         Ценности       0.96      0.53      0.69        45\n",
            "        Экономика       0.80      0.51      0.63        72\n",
            "\n",
            "         accuracy                           0.56      1001\n",
            "        macro avg       0.60      0.32      0.34      1001\n",
            "     weighted avg       0.66      0.56      0.51      1001\n",
            "\n"
          ],
          "name": "stdout"
        },
        {
          "output_type": "stream",
          "text": [
            "/usr/local/lib/python3.7/dist-packages/sklearn/metrics/_classification.py:1272: UndefinedMetricWarning: Precision and F-score are ill-defined and being set to 0.0 in labels with no predicted samples. Use `zero_division` parameter to control this behavior.\n",
            "  _warn_prf(average, modifier, msg_start, len(result))\n"
          ],
          "name": "stderr"
        },
        {
          "output_type": "stream",
          "text": [
            "При n= 6 , max_dif= 0.75 , min_dif= 2\n",
            "                   precision    recall  f1-score   support\n",
            "\n",
            "   69-я параллель       0.00      0.00      0.00         2\n",
            "          Nothing       0.00      0.00      0.00         1\n",
            "      Бывший СССР       0.84      0.77      0.80       121\n",
            "              Дом       0.00      0.00      0.00        26\n",
            "         Из жизни       0.00      0.00      0.00        42\n",
            "   Интернет и СМИ       0.00      0.00      0.00        45\n",
            "         Культура       0.62      0.18      0.28        45\n",
            "              Мир       0.33      0.87      0.48       158\n",
            "  Наука и техника       0.75      0.08      0.15        37\n",
            "       Нацпроекты       1.00      0.26      0.41        23\n",
            "      Путешествия       1.00      0.02      0.05        42\n",
            "           Россия       0.43      0.78      0.55       166\n",
            "Силовые структуры       0.75      0.06      0.10        54\n",
            "            Спорт       1.00      0.85      0.92       122\n",
            "         Ценности       1.00      0.36      0.52        45\n",
            "        Экономика       0.90      0.36      0.51        72\n",
            "\n",
            "         accuracy                           0.53      1001\n",
            "        macro avg       0.54      0.29      0.30      1001\n",
            "     weighted avg       0.62      0.53      0.47      1001\n",
            "\n"
          ],
          "name": "stdout"
        },
        {
          "output_type": "stream",
          "text": [
            "/usr/local/lib/python3.7/dist-packages/sklearn/metrics/_classification.py:1272: UndefinedMetricWarning: Precision and F-score are ill-defined and being set to 0.0 in labels with no predicted samples. Use `zero_division` parameter to control this behavior.\n",
            "  _warn_prf(average, modifier, msg_start, len(result))\n"
          ],
          "name": "stderr"
        },
        {
          "output_type": "stream",
          "text": [
            "При n= 6 , max_dif= 0.75 , min_dif= 3\n",
            "                   precision    recall  f1-score   support\n",
            "\n",
            "   69-я параллель       0.00      0.00      0.00         2\n",
            "          Nothing       0.00      0.00      0.00         1\n",
            "      Бывший СССР       0.84      0.77      0.80       121\n",
            "              Дом       0.00      0.00      0.00        26\n",
            "         Из жизни       1.00      0.02      0.05        42\n",
            "   Интернет и СМИ       0.00      0.00      0.00        45\n",
            "         Культура       0.62      0.18      0.28        45\n",
            "              Мир       0.34      0.87      0.49       158\n",
            "  Наука и техника       0.83      0.14      0.23        37\n",
            "       Нацпроекты       1.00      0.26      0.41        23\n",
            "      Путешествия       1.00      0.02      0.05        42\n",
            "           Россия       0.45      0.78      0.57       166\n",
            "Силовые структуры       1.00      0.13      0.23        54\n",
            "            Спорт       1.00      0.87      0.93       122\n",
            "         Ценности       1.00      0.49      0.66        45\n",
            "        Экономика       0.83      0.40      0.54        72\n",
            "\n",
            "         accuracy                           0.54      1001\n",
            "        macro avg       0.62      0.31      0.33      1001\n",
            "     weighted avg       0.67      0.54      0.50      1001\n",
            "\n"
          ],
          "name": "stdout"
        },
        {
          "output_type": "stream",
          "text": [
            "/usr/local/lib/python3.7/dist-packages/sklearn/metrics/_classification.py:1272: UndefinedMetricWarning: Precision and F-score are ill-defined and being set to 0.0 in labels with no predicted samples. Use `zero_division` parameter to control this behavior.\n",
            "  _warn_prf(average, modifier, msg_start, len(result))\n"
          ],
          "name": "stderr"
        },
        {
          "output_type": "stream",
          "text": [
            "При n= 6 , max_dif= 0.75 , min_dif= 4\n",
            "                   precision    recall  f1-score   support\n",
            "\n",
            "   69-я параллель       0.00      0.00      0.00         2\n",
            "          Nothing       0.00      0.00      0.00         1\n",
            "      Бывший СССР       0.83      0.79      0.81       121\n",
            "              Дом       0.00      0.00      0.00        26\n",
            "         Из жизни       1.00      0.05      0.09        42\n",
            "   Интернет и СМИ       0.00      0.00      0.00        45\n",
            "         Культура       0.54      0.16      0.24        45\n",
            "              Мир       0.37      0.87      0.52       158\n",
            "  Наука и техника       0.86      0.16      0.27        37\n",
            "       Нацпроекты       1.00      0.17      0.30        23\n",
            "      Путешествия       1.00      0.05      0.09        42\n",
            "           Россия       0.43      0.77      0.55       166\n",
            "Силовые структуры       0.82      0.17      0.28        54\n",
            "            Спорт       1.00      0.90      0.95       122\n",
            "         Ценности       0.96      0.53      0.69        45\n",
            "        Экономика       0.80      0.51      0.63        72\n",
            "\n",
            "         accuracy                           0.56      1001\n",
            "        macro avg       0.60      0.32      0.34      1001\n",
            "     weighted avg       0.66      0.56      0.51      1001\n",
            "\n"
          ],
          "name": "stdout"
        },
        {
          "output_type": "stream",
          "text": [
            "/usr/local/lib/python3.7/dist-packages/sklearn/metrics/_classification.py:1272: UndefinedMetricWarning: Precision and F-score are ill-defined and being set to 0.0 in labels with no predicted samples. Use `zero_division` parameter to control this behavior.\n",
            "  _warn_prf(average, modifier, msg_start, len(result))\n"
          ],
          "name": "stderr"
        },
        {
          "output_type": "stream",
          "text": [
            "При n= 7 , max_dif= 0.95 , min_dif= 2\n",
            "                   precision    recall  f1-score   support\n",
            "\n",
            "   69-я параллель       0.00      0.00      0.00         2\n",
            "          Nothing       0.00      0.00      0.00         1\n",
            "      Бывший СССР       0.84      0.77      0.80       121\n",
            "              Дом       0.00      0.00      0.00        26\n",
            "         Из жизни       0.00      0.00      0.00        42\n",
            "   Интернет и СМИ       0.00      0.00      0.00        45\n",
            "         Культура       0.62      0.18      0.28        45\n",
            "              Мир       0.33      0.87      0.48       158\n",
            "  Наука и техника       0.75      0.08      0.15        37\n",
            "       Нацпроекты       1.00      0.26      0.41        23\n",
            "      Путешествия       1.00      0.02      0.05        42\n",
            "           Россия       0.43      0.78      0.55       166\n",
            "Силовые структуры       0.75      0.06      0.10        54\n",
            "            Спорт       1.00      0.84      0.92       122\n",
            "         Ценности       1.00      0.33      0.50        45\n",
            "        Экономика       0.90      0.36      0.51        72\n",
            "\n",
            "         accuracy                           0.52      1001\n",
            "        macro avg       0.54      0.28      0.30      1001\n",
            "     weighted avg       0.62      0.52      0.47      1001\n",
            "\n"
          ],
          "name": "stdout"
        },
        {
          "output_type": "stream",
          "text": [
            "/usr/local/lib/python3.7/dist-packages/sklearn/metrics/_classification.py:1272: UndefinedMetricWarning: Precision and F-score are ill-defined and being set to 0.0 in labels with no predicted samples. Use `zero_division` parameter to control this behavior.\n",
            "  _warn_prf(average, modifier, msg_start, len(result))\n"
          ],
          "name": "stderr"
        },
        {
          "output_type": "stream",
          "text": [
            "При n= 7 , max_dif= 0.95 , min_dif= 3\n",
            "                   precision    recall  f1-score   support\n",
            "\n",
            "   69-я параллель       0.00      0.00      0.00         2\n",
            "          Nothing       0.00      0.00      0.00         1\n",
            "      Бывший СССР       0.84      0.76      0.80       121\n",
            "              Дом       0.00      0.00      0.00        26\n",
            "         Из жизни       1.00      0.02      0.05        42\n",
            "   Интернет и СМИ       0.00      0.00      0.00        45\n",
            "         Культура       0.62      0.18      0.28        45\n",
            "              Мир       0.34      0.87      0.49       158\n",
            "  Наука и техника       0.83      0.14      0.23        37\n",
            "       Нацпроекты       1.00      0.26      0.41        23\n",
            "      Путешествия       1.00      0.02      0.05        42\n",
            "           Россия       0.45      0.78      0.57       166\n",
            "Силовые структуры       1.00      0.13      0.23        54\n",
            "            Спорт       1.00      0.87      0.93       122\n",
            "         Ценности       1.00      0.49      0.66        45\n",
            "        Экономика       0.83      0.40      0.54        72\n",
            "\n",
            "         accuracy                           0.54      1001\n",
            "        macro avg       0.62      0.31      0.33      1001\n",
            "     weighted avg       0.67      0.54      0.50      1001\n",
            "\n"
          ],
          "name": "stdout"
        },
        {
          "output_type": "stream",
          "text": [
            "/usr/local/lib/python3.7/dist-packages/sklearn/metrics/_classification.py:1272: UndefinedMetricWarning: Precision and F-score are ill-defined and being set to 0.0 in labels with no predicted samples. Use `zero_division` parameter to control this behavior.\n",
            "  _warn_prf(average, modifier, msg_start, len(result))\n"
          ],
          "name": "stderr"
        },
        {
          "output_type": "stream",
          "text": [
            "При n= 7 , max_dif= 0.95 , min_dif= 4\n",
            "                   precision    recall  f1-score   support\n",
            "\n",
            "   69-я параллель       0.00      0.00      0.00         2\n",
            "          Nothing       0.00      0.00      0.00         1\n",
            "      Бывший СССР       0.83      0.79      0.81       121\n",
            "              Дом       0.00      0.00      0.00        26\n",
            "         Из жизни       1.00      0.05      0.09        42\n",
            "   Интернет и СМИ       0.00      0.00      0.00        45\n",
            "         Культура       0.54      0.16      0.24        45\n",
            "              Мир       0.37      0.87      0.52       158\n",
            "  Наука и техника       0.83      0.14      0.23        37\n",
            "       Нацпроекты       1.00      0.17      0.30        23\n",
            "      Путешествия       1.00      0.05      0.09        42\n",
            "           Россия       0.43      0.77      0.55       166\n",
            "Силовые структуры       0.82      0.17      0.28        54\n",
            "            Спорт       1.00      0.90      0.95       122\n",
            "         Ценности       0.96      0.53      0.69        45\n",
            "        Экономика       0.80      0.51      0.63        72\n",
            "\n",
            "         accuracy                           0.56      1001\n",
            "        macro avg       0.60      0.32      0.34      1001\n",
            "     weighted avg       0.66      0.56      0.51      1001\n",
            "\n"
          ],
          "name": "stdout"
        },
        {
          "output_type": "stream",
          "text": [
            "/usr/local/lib/python3.7/dist-packages/sklearn/metrics/_classification.py:1272: UndefinedMetricWarning: Precision and F-score are ill-defined and being set to 0.0 in labels with no predicted samples. Use `zero_division` parameter to control this behavior.\n",
            "  _warn_prf(average, modifier, msg_start, len(result))\n"
          ],
          "name": "stderr"
        },
        {
          "output_type": "stream",
          "text": [
            "При n= 7 , max_dif= 0.9 , min_dif= 2\n",
            "                   precision    recall  f1-score   support\n",
            "\n",
            "   69-я параллель       0.00      0.00      0.00         2\n",
            "          Nothing       0.00      0.00      0.00         1\n",
            "      Бывший СССР       0.84      0.77      0.80       121\n",
            "              Дом       0.00      0.00      0.00        26\n",
            "         Из жизни       0.00      0.00      0.00        42\n",
            "   Интернет и СМИ       0.00      0.00      0.00        45\n",
            "         Культура       0.62      0.18      0.28        45\n",
            "              Мир       0.33      0.87      0.48       158\n",
            "  Наука и техника       0.75      0.08      0.15        37\n",
            "       Нацпроекты       1.00      0.26      0.41        23\n",
            "      Путешествия       1.00      0.02      0.05        42\n",
            "           Россия       0.43      0.78      0.55       166\n",
            "Силовые структуры       0.75      0.06      0.10        54\n",
            "            Спорт       1.00      0.84      0.92       122\n",
            "         Ценности       1.00      0.33      0.50        45\n",
            "        Экономика       0.90      0.36      0.51        72\n",
            "\n",
            "         accuracy                           0.52      1001\n",
            "        macro avg       0.54      0.28      0.30      1001\n",
            "     weighted avg       0.62      0.52      0.47      1001\n",
            "\n"
          ],
          "name": "stdout"
        },
        {
          "output_type": "stream",
          "text": [
            "/usr/local/lib/python3.7/dist-packages/sklearn/metrics/_classification.py:1272: UndefinedMetricWarning: Precision and F-score are ill-defined and being set to 0.0 in labels with no predicted samples. Use `zero_division` parameter to control this behavior.\n",
            "  _warn_prf(average, modifier, msg_start, len(result))\n"
          ],
          "name": "stderr"
        },
        {
          "output_type": "stream",
          "text": [
            "При n= 7 , max_dif= 0.9 , min_dif= 3\n",
            "                   precision    recall  f1-score   support\n",
            "\n",
            "   69-я параллель       0.00      0.00      0.00         2\n",
            "          Nothing       0.00      0.00      0.00         1\n",
            "      Бывший СССР       0.84      0.76      0.80       121\n",
            "              Дом       0.00      0.00      0.00        26\n",
            "         Из жизни       1.00      0.02      0.05        42\n",
            "   Интернет и СМИ       0.00      0.00      0.00        45\n",
            "         Культура       0.62      0.18      0.28        45\n",
            "              Мир       0.34      0.87      0.49       158\n",
            "  Наука и техника       0.83      0.14      0.23        37\n",
            "       Нацпроекты       1.00      0.26      0.41        23\n",
            "      Путешествия       1.00      0.02      0.05        42\n",
            "           Россия       0.45      0.78      0.57       166\n",
            "Силовые структуры       1.00      0.13      0.23        54\n",
            "            Спорт       1.00      0.87      0.93       122\n",
            "         Ценности       1.00      0.49      0.66        45\n",
            "        Экономика       0.83      0.40      0.54        72\n",
            "\n",
            "         accuracy                           0.54      1001\n",
            "        macro avg       0.62      0.31      0.33      1001\n",
            "     weighted avg       0.67      0.54      0.50      1001\n",
            "\n"
          ],
          "name": "stdout"
        },
        {
          "output_type": "stream",
          "text": [
            "/usr/local/lib/python3.7/dist-packages/sklearn/metrics/_classification.py:1272: UndefinedMetricWarning: Precision and F-score are ill-defined and being set to 0.0 in labels with no predicted samples. Use `zero_division` parameter to control this behavior.\n",
            "  _warn_prf(average, modifier, msg_start, len(result))\n"
          ],
          "name": "stderr"
        },
        {
          "output_type": "stream",
          "text": [
            "При n= 7 , max_dif= 0.9 , min_dif= 4\n",
            "                   precision    recall  f1-score   support\n",
            "\n",
            "   69-я параллель       0.00      0.00      0.00         2\n",
            "          Nothing       0.00      0.00      0.00         1\n",
            "      Бывший СССР       0.83      0.79      0.81       121\n",
            "              Дом       0.00      0.00      0.00        26\n",
            "         Из жизни       1.00      0.05      0.09        42\n",
            "   Интернет и СМИ       0.00      0.00      0.00        45\n",
            "         Культура       0.54      0.16      0.24        45\n",
            "              Мир       0.37      0.87      0.52       158\n",
            "  Наука и техника       0.83      0.14      0.23        37\n",
            "       Нацпроекты       1.00      0.17      0.30        23\n",
            "      Путешествия       1.00      0.05      0.09        42\n",
            "           Россия       0.43      0.77      0.55       166\n",
            "Силовые структуры       0.82      0.17      0.28        54\n",
            "            Спорт       1.00      0.90      0.95       122\n",
            "         Ценности       0.96      0.53      0.69        45\n",
            "        Экономика       0.80      0.51      0.63        72\n",
            "\n",
            "         accuracy                           0.56      1001\n",
            "        macro avg       0.60      0.32      0.34      1001\n",
            "     weighted avg       0.66      0.56      0.51      1001\n",
            "\n"
          ],
          "name": "stdout"
        },
        {
          "output_type": "stream",
          "text": [
            "/usr/local/lib/python3.7/dist-packages/sklearn/metrics/_classification.py:1272: UndefinedMetricWarning: Precision and F-score are ill-defined and being set to 0.0 in labels with no predicted samples. Use `zero_division` parameter to control this behavior.\n",
            "  _warn_prf(average, modifier, msg_start, len(result))\n"
          ],
          "name": "stderr"
        },
        {
          "output_type": "stream",
          "text": [
            "При n= 7 , max_dif= 0.85 , min_dif= 2\n",
            "                   precision    recall  f1-score   support\n",
            "\n",
            "   69-я параллель       0.00      0.00      0.00         2\n",
            "          Nothing       0.00      0.00      0.00         1\n",
            "      Бывший СССР       0.84      0.77      0.80       121\n",
            "              Дом       0.00      0.00      0.00        26\n",
            "         Из жизни       0.00      0.00      0.00        42\n",
            "   Интернет и СМИ       0.00      0.00      0.00        45\n",
            "         Культура       0.62      0.18      0.28        45\n",
            "              Мир       0.33      0.87      0.48       158\n",
            "  Наука и техника       0.75      0.08      0.15        37\n",
            "       Нацпроекты       1.00      0.26      0.41        23\n",
            "      Путешествия       1.00      0.02      0.05        42\n",
            "           Россия       0.43      0.78      0.55       166\n",
            "Силовые структуры       0.75      0.06      0.10        54\n",
            "            Спорт       1.00      0.84      0.92       122\n",
            "         Ценности       1.00      0.33      0.50        45\n",
            "        Экономика       0.90      0.36      0.51        72\n",
            "\n",
            "         accuracy                           0.52      1001\n",
            "        macro avg       0.54      0.28      0.30      1001\n",
            "     weighted avg       0.62      0.52      0.47      1001\n",
            "\n"
          ],
          "name": "stdout"
        },
        {
          "output_type": "stream",
          "text": [
            "/usr/local/lib/python3.7/dist-packages/sklearn/metrics/_classification.py:1272: UndefinedMetricWarning: Precision and F-score are ill-defined and being set to 0.0 in labels with no predicted samples. Use `zero_division` parameter to control this behavior.\n",
            "  _warn_prf(average, modifier, msg_start, len(result))\n"
          ],
          "name": "stderr"
        },
        {
          "output_type": "stream",
          "text": [
            "При n= 7 , max_dif= 0.85 , min_dif= 3\n",
            "                   precision    recall  f1-score   support\n",
            "\n",
            "   69-я параллель       0.00      0.00      0.00         2\n",
            "          Nothing       0.00      0.00      0.00         1\n",
            "      Бывший СССР       0.84      0.76      0.80       121\n",
            "              Дом       0.00      0.00      0.00        26\n",
            "         Из жизни       1.00      0.02      0.05        42\n",
            "   Интернет и СМИ       0.00      0.00      0.00        45\n",
            "         Культура       0.62      0.18      0.28        45\n",
            "              Мир       0.34      0.87      0.49       158\n",
            "  Наука и техника       0.83      0.14      0.23        37\n",
            "       Нацпроекты       1.00      0.26      0.41        23\n",
            "      Путешествия       1.00      0.02      0.05        42\n",
            "           Россия       0.45      0.78      0.57       166\n",
            "Силовые структуры       1.00      0.13      0.23        54\n",
            "            Спорт       1.00      0.87      0.93       122\n",
            "         Ценности       1.00      0.49      0.66        45\n",
            "        Экономика       0.83      0.40      0.54        72\n",
            "\n",
            "         accuracy                           0.54      1001\n",
            "        macro avg       0.62      0.31      0.33      1001\n",
            "     weighted avg       0.67      0.54      0.50      1001\n",
            "\n"
          ],
          "name": "stdout"
        },
        {
          "output_type": "stream",
          "text": [
            "/usr/local/lib/python3.7/dist-packages/sklearn/metrics/_classification.py:1272: UndefinedMetricWarning: Precision and F-score are ill-defined and being set to 0.0 in labels with no predicted samples. Use `zero_division` parameter to control this behavior.\n",
            "  _warn_prf(average, modifier, msg_start, len(result))\n"
          ],
          "name": "stderr"
        },
        {
          "output_type": "stream",
          "text": [
            "При n= 7 , max_dif= 0.85 , min_dif= 4\n",
            "                   precision    recall  f1-score   support\n",
            "\n",
            "   69-я параллель       0.00      0.00      0.00         2\n",
            "          Nothing       0.00      0.00      0.00         1\n",
            "      Бывший СССР       0.83      0.79      0.81       121\n",
            "              Дом       0.00      0.00      0.00        26\n",
            "         Из жизни       1.00      0.05      0.09        42\n",
            "   Интернет и СМИ       0.00      0.00      0.00        45\n",
            "         Культура       0.54      0.16      0.24        45\n",
            "              Мир       0.37      0.87      0.52       158\n",
            "  Наука и техника       0.83      0.14      0.23        37\n",
            "       Нацпроекты       1.00      0.17      0.30        23\n",
            "      Путешествия       1.00      0.05      0.09        42\n",
            "           Россия       0.43      0.77      0.55       166\n",
            "Силовые структуры       0.82      0.17      0.28        54\n",
            "            Спорт       1.00      0.90      0.95       122\n",
            "         Ценности       0.96      0.53      0.69        45\n",
            "        Экономика       0.80      0.51      0.63        72\n",
            "\n",
            "         accuracy                           0.56      1001\n",
            "        macro avg       0.60      0.32      0.34      1001\n",
            "     weighted avg       0.66      0.56      0.51      1001\n",
            "\n"
          ],
          "name": "stdout"
        },
        {
          "output_type": "stream",
          "text": [
            "/usr/local/lib/python3.7/dist-packages/sklearn/metrics/_classification.py:1272: UndefinedMetricWarning: Precision and F-score are ill-defined and being set to 0.0 in labels with no predicted samples. Use `zero_division` parameter to control this behavior.\n",
            "  _warn_prf(average, modifier, msg_start, len(result))\n"
          ],
          "name": "stderr"
        },
        {
          "output_type": "stream",
          "text": [
            "При n= 7 , max_dif= 0.8 , min_dif= 2\n",
            "                   precision    recall  f1-score   support\n",
            "\n",
            "   69-я параллель       0.00      0.00      0.00         2\n",
            "          Nothing       0.00      0.00      0.00         1\n",
            "      Бывший СССР       0.84      0.77      0.80       121\n",
            "              Дом       0.00      0.00      0.00        26\n",
            "         Из жизни       0.00      0.00      0.00        42\n",
            "   Интернет и СМИ       0.00      0.00      0.00        45\n",
            "         Культура       0.62      0.18      0.28        45\n",
            "              Мир       0.33      0.87      0.48       158\n",
            "  Наука и техника       0.75      0.08      0.15        37\n",
            "       Нацпроекты       1.00      0.26      0.41        23\n",
            "      Путешествия       1.00      0.02      0.05        42\n",
            "           Россия       0.43      0.78      0.55       166\n",
            "Силовые структуры       0.75      0.06      0.10        54\n",
            "            Спорт       1.00      0.84      0.92       122\n",
            "         Ценности       1.00      0.33      0.50        45\n",
            "        Экономика       0.90      0.36      0.51        72\n",
            "\n",
            "         accuracy                           0.52      1001\n",
            "        macro avg       0.54      0.28      0.30      1001\n",
            "     weighted avg       0.62      0.52      0.47      1001\n",
            "\n"
          ],
          "name": "stdout"
        },
        {
          "output_type": "stream",
          "text": [
            "/usr/local/lib/python3.7/dist-packages/sklearn/metrics/_classification.py:1272: UndefinedMetricWarning: Precision and F-score are ill-defined and being set to 0.0 in labels with no predicted samples. Use `zero_division` parameter to control this behavior.\n",
            "  _warn_prf(average, modifier, msg_start, len(result))\n"
          ],
          "name": "stderr"
        },
        {
          "output_type": "stream",
          "text": [
            "При n= 7 , max_dif= 0.8 , min_dif= 3\n",
            "                   precision    recall  f1-score   support\n",
            "\n",
            "   69-я параллель       0.00      0.00      0.00         2\n",
            "          Nothing       0.00      0.00      0.00         1\n",
            "      Бывший СССР       0.84      0.76      0.80       121\n",
            "              Дом       0.00      0.00      0.00        26\n",
            "         Из жизни       1.00      0.02      0.05        42\n",
            "   Интернет и СМИ       0.00      0.00      0.00        45\n",
            "         Культура       0.62      0.18      0.28        45\n",
            "              Мир       0.34      0.87      0.49       158\n",
            "  Наука и техника       0.83      0.14      0.23        37\n",
            "       Нацпроекты       1.00      0.26      0.41        23\n",
            "      Путешествия       1.00      0.02      0.05        42\n",
            "           Россия       0.45      0.78      0.57       166\n",
            "Силовые структуры       1.00      0.13      0.23        54\n",
            "            Спорт       1.00      0.87      0.93       122\n",
            "         Ценности       1.00      0.49      0.66        45\n",
            "        Экономика       0.83      0.40      0.54        72\n",
            "\n",
            "         accuracy                           0.54      1001\n",
            "        macro avg       0.62      0.31      0.33      1001\n",
            "     weighted avg       0.67      0.54      0.50      1001\n",
            "\n"
          ],
          "name": "stdout"
        },
        {
          "output_type": "stream",
          "text": [
            "/usr/local/lib/python3.7/dist-packages/sklearn/metrics/_classification.py:1272: UndefinedMetricWarning: Precision and F-score are ill-defined and being set to 0.0 in labels with no predicted samples. Use `zero_division` parameter to control this behavior.\n",
            "  _warn_prf(average, modifier, msg_start, len(result))\n"
          ],
          "name": "stderr"
        },
        {
          "output_type": "stream",
          "text": [
            "При n= 7 , max_dif= 0.8 , min_dif= 4\n",
            "                   precision    recall  f1-score   support\n",
            "\n",
            "   69-я параллель       0.00      0.00      0.00         2\n",
            "          Nothing       0.00      0.00      0.00         1\n",
            "      Бывший СССР       0.83      0.79      0.81       121\n",
            "              Дом       0.00      0.00      0.00        26\n",
            "         Из жизни       1.00      0.05      0.09        42\n",
            "   Интернет и СМИ       0.00      0.00      0.00        45\n",
            "         Культура       0.54      0.16      0.24        45\n",
            "              Мир       0.37      0.87      0.52       158\n",
            "  Наука и техника       0.83      0.14      0.23        37\n",
            "       Нацпроекты       1.00      0.17      0.30        23\n",
            "      Путешествия       1.00      0.05      0.09        42\n",
            "           Россия       0.43      0.77      0.55       166\n",
            "Силовые структуры       0.82      0.17      0.28        54\n",
            "            Спорт       1.00      0.90      0.95       122\n",
            "         Ценности       0.96      0.53      0.69        45\n",
            "        Экономика       0.80      0.51      0.63        72\n",
            "\n",
            "         accuracy                           0.56      1001\n",
            "        macro avg       0.60      0.32      0.34      1001\n",
            "     weighted avg       0.66      0.56      0.51      1001\n",
            "\n"
          ],
          "name": "stdout"
        },
        {
          "output_type": "stream",
          "text": [
            "/usr/local/lib/python3.7/dist-packages/sklearn/metrics/_classification.py:1272: UndefinedMetricWarning: Precision and F-score are ill-defined and being set to 0.0 in labels with no predicted samples. Use `zero_division` parameter to control this behavior.\n",
            "  _warn_prf(average, modifier, msg_start, len(result))\n"
          ],
          "name": "stderr"
        },
        {
          "output_type": "stream",
          "text": [
            "При n= 7 , max_dif= 0.75 , min_dif= 2\n",
            "                   precision    recall  f1-score   support\n",
            "\n",
            "   69-я параллель       0.00      0.00      0.00         2\n",
            "          Nothing       0.00      0.00      0.00         1\n",
            "      Бывший СССР       0.84      0.77      0.80       121\n",
            "              Дом       0.00      0.00      0.00        26\n",
            "         Из жизни       0.00      0.00      0.00        42\n",
            "   Интернет и СМИ       0.00      0.00      0.00        45\n",
            "         Культура       0.62      0.18      0.28        45\n",
            "              Мир       0.33      0.87      0.48       158\n",
            "  Наука и техника       0.75      0.08      0.15        37\n",
            "       Нацпроекты       1.00      0.26      0.41        23\n",
            "      Путешествия       1.00      0.02      0.05        42\n",
            "           Россия       0.43      0.78      0.55       166\n",
            "Силовые структуры       0.75      0.06      0.10        54\n",
            "            Спорт       1.00      0.84      0.92       122\n",
            "         Ценности       1.00      0.33      0.50        45\n",
            "        Экономика       0.90      0.36      0.51        72\n",
            "\n",
            "         accuracy                           0.52      1001\n",
            "        macro avg       0.54      0.28      0.30      1001\n",
            "     weighted avg       0.62      0.52      0.47      1001\n",
            "\n"
          ],
          "name": "stdout"
        },
        {
          "output_type": "stream",
          "text": [
            "/usr/local/lib/python3.7/dist-packages/sklearn/metrics/_classification.py:1272: UndefinedMetricWarning: Precision and F-score are ill-defined and being set to 0.0 in labels with no predicted samples. Use `zero_division` parameter to control this behavior.\n",
            "  _warn_prf(average, modifier, msg_start, len(result))\n"
          ],
          "name": "stderr"
        },
        {
          "output_type": "stream",
          "text": [
            "При n= 7 , max_dif= 0.75 , min_dif= 3\n",
            "                   precision    recall  f1-score   support\n",
            "\n",
            "   69-я параллель       0.00      0.00      0.00         2\n",
            "          Nothing       0.00      0.00      0.00         1\n",
            "      Бывший СССР       0.84      0.76      0.80       121\n",
            "              Дом       0.00      0.00      0.00        26\n",
            "         Из жизни       1.00      0.02      0.05        42\n",
            "   Интернет и СМИ       0.00      0.00      0.00        45\n",
            "         Культура       0.62      0.18      0.28        45\n",
            "              Мир       0.34      0.87      0.49       158\n",
            "  Наука и техника       0.83      0.14      0.23        37\n",
            "       Нацпроекты       1.00      0.26      0.41        23\n",
            "      Путешествия       1.00      0.02      0.05        42\n",
            "           Россия       0.45      0.78      0.57       166\n",
            "Силовые структуры       1.00      0.13      0.23        54\n",
            "            Спорт       1.00      0.87      0.93       122\n",
            "         Ценности       1.00      0.49      0.66        45\n",
            "        Экономика       0.83      0.40      0.54        72\n",
            "\n",
            "         accuracy                           0.54      1001\n",
            "        macro avg       0.62      0.31      0.33      1001\n",
            "     weighted avg       0.67      0.54      0.50      1001\n",
            "\n"
          ],
          "name": "stdout"
        },
        {
          "output_type": "stream",
          "text": [
            "/usr/local/lib/python3.7/dist-packages/sklearn/metrics/_classification.py:1272: UndefinedMetricWarning: Precision and F-score are ill-defined and being set to 0.0 in labels with no predicted samples. Use `zero_division` parameter to control this behavior.\n",
            "  _warn_prf(average, modifier, msg_start, len(result))\n"
          ],
          "name": "stderr"
        },
        {
          "output_type": "stream",
          "text": [
            "При n= 7 , max_dif= 0.75 , min_dif= 4\n",
            "                   precision    recall  f1-score   support\n",
            "\n",
            "   69-я параллель       0.00      0.00      0.00         2\n",
            "          Nothing       0.00      0.00      0.00         1\n",
            "      Бывший СССР       0.83      0.79      0.81       121\n",
            "              Дом       0.00      0.00      0.00        26\n",
            "         Из жизни       1.00      0.05      0.09        42\n",
            "   Интернет и СМИ       0.00      0.00      0.00        45\n",
            "         Культура       0.54      0.16      0.24        45\n",
            "              Мир       0.37      0.87      0.52       158\n",
            "  Наука и техника       0.83      0.14      0.23        37\n",
            "       Нацпроекты       1.00      0.17      0.30        23\n",
            "      Путешествия       1.00      0.05      0.09        42\n",
            "           Россия       0.43      0.77      0.55       166\n",
            "Силовые структуры       0.82      0.17      0.28        54\n",
            "            Спорт       1.00      0.90      0.95       122\n",
            "         Ценности       0.96      0.53      0.69        45\n",
            "        Экономика       0.80      0.51      0.63        72\n",
            "\n",
            "         accuracy                           0.56      1001\n",
            "        macro avg       0.60      0.32      0.34      1001\n",
            "     weighted avg       0.66      0.56      0.51      1001\n",
            "\n"
          ],
          "name": "stdout"
        },
        {
          "output_type": "stream",
          "text": [
            "/usr/local/lib/python3.7/dist-packages/sklearn/metrics/_classification.py:1272: UndefinedMetricWarning: Precision and F-score are ill-defined and being set to 0.0 in labels with no predicted samples. Use `zero_division` parameter to control this behavior.\n",
            "  _warn_prf(average, modifier, msg_start, len(result))\n"
          ],
          "name": "stderr"
        },
        {
          "output_type": "stream",
          "text": [
            "При n= 8 , max_dif= 0.95 , min_dif= 2\n",
            "                   precision    recall  f1-score   support\n",
            "\n",
            "   69-я параллель       0.00      0.00      0.00         2\n",
            "          Nothing       0.00      0.00      0.00         1\n",
            "      Бывший СССР       0.84      0.77      0.80       121\n",
            "              Дом       0.00      0.00      0.00        26\n",
            "         Из жизни       0.00      0.00      0.00        42\n",
            "   Интернет и СМИ       0.00      0.00      0.00        45\n",
            "         Культура       0.62      0.18      0.28        45\n",
            "              Мир       0.33      0.87      0.48       158\n",
            "  Наука и техника       0.75      0.08      0.15        37\n",
            "       Нацпроекты       1.00      0.26      0.41        23\n",
            "      Путешествия       1.00      0.02      0.05        42\n",
            "           Россия       0.43      0.78      0.56       166\n",
            "Силовые структуры       0.75      0.06      0.10        54\n",
            "            Спорт       1.00      0.84      0.92       122\n",
            "         Ценности       1.00      0.33      0.50        45\n",
            "        Экономика       0.90      0.36      0.51        72\n",
            "\n",
            "         accuracy                           0.53      1001\n",
            "        macro avg       0.54      0.29      0.30      1001\n",
            "     weighted avg       0.62      0.53      0.47      1001\n",
            "\n"
          ],
          "name": "stdout"
        },
        {
          "output_type": "stream",
          "text": [
            "/usr/local/lib/python3.7/dist-packages/sklearn/metrics/_classification.py:1272: UndefinedMetricWarning: Precision and F-score are ill-defined and being set to 0.0 in labels with no predicted samples. Use `zero_division` parameter to control this behavior.\n",
            "  _warn_prf(average, modifier, msg_start, len(result))\n"
          ],
          "name": "stderr"
        },
        {
          "output_type": "stream",
          "text": [
            "При n= 8 , max_dif= 0.95 , min_dif= 3\n",
            "                   precision    recall  f1-score   support\n",
            "\n",
            "   69-я параллель       0.00      0.00      0.00         2\n",
            "          Nothing       0.00      0.00      0.00         1\n",
            "      Бывший СССР       0.84      0.76      0.80       121\n",
            "              Дом       0.00      0.00      0.00        26\n",
            "         Из жизни       1.00      0.02      0.05        42\n",
            "   Интернет и СМИ       0.00      0.00      0.00        45\n",
            "         Культура       0.62      0.18      0.28        45\n",
            "              Мир       0.34      0.87      0.49       158\n",
            "  Наука и техника       0.83      0.14      0.23        37\n",
            "       Нацпроекты       1.00      0.26      0.41        23\n",
            "      Путешествия       1.00      0.02      0.05        42\n",
            "           Россия       0.45      0.78      0.57       166\n",
            "Силовые структуры       1.00      0.13      0.23        54\n",
            "            Спорт       1.00      0.87      0.93       122\n",
            "         Ценности       1.00      0.49      0.66        45\n",
            "        Экономика       0.83      0.40      0.54        72\n",
            "\n",
            "         accuracy                           0.54      1001\n",
            "        macro avg       0.62      0.31      0.33      1001\n",
            "     weighted avg       0.67      0.54      0.50      1001\n",
            "\n"
          ],
          "name": "stdout"
        },
        {
          "output_type": "stream",
          "text": [
            "/usr/local/lib/python3.7/dist-packages/sklearn/metrics/_classification.py:1272: UndefinedMetricWarning: Precision and F-score are ill-defined and being set to 0.0 in labels with no predicted samples. Use `zero_division` parameter to control this behavior.\n",
            "  _warn_prf(average, modifier, msg_start, len(result))\n"
          ],
          "name": "stderr"
        },
        {
          "output_type": "stream",
          "text": [
            "При n= 8 , max_dif= 0.95 , min_dif= 4\n",
            "                   precision    recall  f1-score   support\n",
            "\n",
            "   69-я параллель       0.00      0.00      0.00         2\n",
            "          Nothing       0.00      0.00      0.00         1\n",
            "      Бывший СССР       0.83      0.79      0.81       121\n",
            "              Дом       0.00      0.00      0.00        26\n",
            "         Из жизни       1.00      0.05      0.09        42\n",
            "   Интернет и СМИ       0.00      0.00      0.00        45\n",
            "         Культура       0.54      0.16      0.24        45\n",
            "              Мир       0.37      0.87      0.52       158\n",
            "  Наука и техника       0.83      0.14      0.23        37\n",
            "       Нацпроекты       1.00      0.17      0.30        23\n",
            "      Путешествия       1.00      0.05      0.09        42\n",
            "           Россия       0.43      0.77      0.56       166\n",
            "Силовые структуры       0.82      0.17      0.28        54\n",
            "            Спорт       1.00      0.89      0.94       122\n",
            "         Ценности       0.96      0.53      0.69        45\n",
            "        Экономика       0.80      0.49      0.60        72\n",
            "\n",
            "         accuracy                           0.56      1001\n",
            "        macro avg       0.60      0.32      0.33      1001\n",
            "     weighted avg       0.66      0.56      0.51      1001\n",
            "\n"
          ],
          "name": "stdout"
        },
        {
          "output_type": "stream",
          "text": [
            "/usr/local/lib/python3.7/dist-packages/sklearn/metrics/_classification.py:1272: UndefinedMetricWarning: Precision and F-score are ill-defined and being set to 0.0 in labels with no predicted samples. Use `zero_division` parameter to control this behavior.\n",
            "  _warn_prf(average, modifier, msg_start, len(result))\n"
          ],
          "name": "stderr"
        },
        {
          "output_type": "stream",
          "text": [
            "При n= 8 , max_dif= 0.9 , min_dif= 2\n",
            "                   precision    recall  f1-score   support\n",
            "\n",
            "   69-я параллель       0.00      0.00      0.00         2\n",
            "          Nothing       0.00      0.00      0.00         1\n",
            "      Бывший СССР       0.84      0.77      0.80       121\n",
            "              Дом       0.00      0.00      0.00        26\n",
            "         Из жизни       0.00      0.00      0.00        42\n",
            "   Интернет и СМИ       0.00      0.00      0.00        45\n",
            "         Культура       0.62      0.18      0.28        45\n",
            "              Мир       0.33      0.87      0.48       158\n",
            "  Наука и техника       0.75      0.08      0.15        37\n",
            "       Нацпроекты       1.00      0.26      0.41        23\n",
            "      Путешествия       1.00      0.02      0.05        42\n",
            "           Россия       0.43      0.78      0.56       166\n",
            "Силовые структуры       0.75      0.06      0.10        54\n",
            "            Спорт       1.00      0.84      0.92       122\n",
            "         Ценности       1.00      0.33      0.50        45\n",
            "        Экономика       0.90      0.36      0.51        72\n",
            "\n",
            "         accuracy                           0.53      1001\n",
            "        macro avg       0.54      0.29      0.30      1001\n",
            "     weighted avg       0.62      0.53      0.47      1001\n",
            "\n"
          ],
          "name": "stdout"
        },
        {
          "output_type": "stream",
          "text": [
            "/usr/local/lib/python3.7/dist-packages/sklearn/metrics/_classification.py:1272: UndefinedMetricWarning: Precision and F-score are ill-defined and being set to 0.0 in labels with no predicted samples. Use `zero_division` parameter to control this behavior.\n",
            "  _warn_prf(average, modifier, msg_start, len(result))\n"
          ],
          "name": "stderr"
        },
        {
          "output_type": "stream",
          "text": [
            "При n= 8 , max_dif= 0.9 , min_dif= 3\n",
            "                   precision    recall  f1-score   support\n",
            "\n",
            "   69-я параллель       0.00      0.00      0.00         2\n",
            "          Nothing       0.00      0.00      0.00         1\n",
            "      Бывший СССР       0.84      0.76      0.80       121\n",
            "              Дом       0.00      0.00      0.00        26\n",
            "         Из жизни       1.00      0.02      0.05        42\n",
            "   Интернет и СМИ       0.00      0.00      0.00        45\n",
            "         Культура       0.62      0.18      0.28        45\n",
            "              Мир       0.34      0.87      0.49       158\n",
            "  Наука и техника       0.83      0.14      0.23        37\n",
            "       Нацпроекты       1.00      0.26      0.41        23\n",
            "      Путешествия       1.00      0.02      0.05        42\n",
            "           Россия       0.45      0.78      0.57       166\n",
            "Силовые структуры       1.00      0.13      0.23        54\n",
            "            Спорт       1.00      0.87      0.93       122\n",
            "         Ценности       1.00      0.49      0.66        45\n",
            "        Экономика       0.83      0.40      0.54        72\n",
            "\n",
            "         accuracy                           0.54      1001\n",
            "        macro avg       0.62      0.31      0.33      1001\n",
            "     weighted avg       0.67      0.54      0.50      1001\n",
            "\n"
          ],
          "name": "stdout"
        },
        {
          "output_type": "stream",
          "text": [
            "/usr/local/lib/python3.7/dist-packages/sklearn/metrics/_classification.py:1272: UndefinedMetricWarning: Precision and F-score are ill-defined and being set to 0.0 in labels with no predicted samples. Use `zero_division` parameter to control this behavior.\n",
            "  _warn_prf(average, modifier, msg_start, len(result))\n"
          ],
          "name": "stderr"
        },
        {
          "output_type": "stream",
          "text": [
            "При n= 8 , max_dif= 0.9 , min_dif= 4\n",
            "                   precision    recall  f1-score   support\n",
            "\n",
            "   69-я параллель       0.00      0.00      0.00         2\n",
            "          Nothing       0.00      0.00      0.00         1\n",
            "      Бывший СССР       0.83      0.79      0.81       121\n",
            "              Дом       0.00      0.00      0.00        26\n",
            "         Из жизни       1.00      0.05      0.09        42\n",
            "   Интернет и СМИ       0.00      0.00      0.00        45\n",
            "         Культура       0.54      0.16      0.24        45\n",
            "              Мир       0.37      0.87      0.52       158\n",
            "  Наука и техника       0.83      0.14      0.23        37\n",
            "       Нацпроекты       1.00      0.17      0.30        23\n",
            "      Путешествия       1.00      0.05      0.09        42\n",
            "           Россия       0.43      0.77      0.56       166\n",
            "Силовые структуры       0.82      0.17      0.28        54\n",
            "            Спорт       1.00      0.89      0.94       122\n",
            "         Ценности       0.96      0.53      0.69        45\n",
            "        Экономика       0.80      0.49      0.60        72\n",
            "\n",
            "         accuracy                           0.56      1001\n",
            "        macro avg       0.60      0.32      0.33      1001\n",
            "     weighted avg       0.66      0.56      0.51      1001\n",
            "\n"
          ],
          "name": "stdout"
        },
        {
          "output_type": "stream",
          "text": [
            "/usr/local/lib/python3.7/dist-packages/sklearn/metrics/_classification.py:1272: UndefinedMetricWarning: Precision and F-score are ill-defined and being set to 0.0 in labels with no predicted samples. Use `zero_division` parameter to control this behavior.\n",
            "  _warn_prf(average, modifier, msg_start, len(result))\n"
          ],
          "name": "stderr"
        },
        {
          "output_type": "stream",
          "text": [
            "При n= 8 , max_dif= 0.85 , min_dif= 2\n",
            "                   precision    recall  f1-score   support\n",
            "\n",
            "   69-я параллель       0.00      0.00      0.00         2\n",
            "          Nothing       0.00      0.00      0.00         1\n",
            "      Бывший СССР       0.84      0.77      0.80       121\n",
            "              Дом       0.00      0.00      0.00        26\n",
            "         Из жизни       0.00      0.00      0.00        42\n",
            "   Интернет и СМИ       0.00      0.00      0.00        45\n",
            "         Культура       0.62      0.18      0.28        45\n",
            "              Мир       0.33      0.87      0.48       158\n",
            "  Наука и техника       0.75      0.08      0.15        37\n",
            "       Нацпроекты       1.00      0.26      0.41        23\n",
            "      Путешествия       1.00      0.02      0.05        42\n",
            "           Россия       0.43      0.78      0.56       166\n",
            "Силовые структуры       0.75      0.06      0.10        54\n",
            "            Спорт       1.00      0.84      0.92       122\n",
            "         Ценности       1.00      0.33      0.50        45\n",
            "        Экономика       0.90      0.36      0.51        72\n",
            "\n",
            "         accuracy                           0.53      1001\n",
            "        macro avg       0.54      0.29      0.30      1001\n",
            "     weighted avg       0.62      0.53      0.47      1001\n",
            "\n"
          ],
          "name": "stdout"
        },
        {
          "output_type": "stream",
          "text": [
            "/usr/local/lib/python3.7/dist-packages/sklearn/metrics/_classification.py:1272: UndefinedMetricWarning: Precision and F-score are ill-defined and being set to 0.0 in labels with no predicted samples. Use `zero_division` parameter to control this behavior.\n",
            "  _warn_prf(average, modifier, msg_start, len(result))\n"
          ],
          "name": "stderr"
        },
        {
          "output_type": "stream",
          "text": [
            "При n= 8 , max_dif= 0.85 , min_dif= 3\n",
            "                   precision    recall  f1-score   support\n",
            "\n",
            "   69-я параллель       0.00      0.00      0.00         2\n",
            "          Nothing       0.00      0.00      0.00         1\n",
            "      Бывший СССР       0.84      0.76      0.80       121\n",
            "              Дом       0.00      0.00      0.00        26\n",
            "         Из жизни       1.00      0.02      0.05        42\n",
            "   Интернет и СМИ       0.00      0.00      0.00        45\n",
            "         Культура       0.62      0.18      0.28        45\n",
            "              Мир       0.34      0.87      0.49       158\n",
            "  Наука и техника       0.83      0.14      0.23        37\n",
            "       Нацпроекты       1.00      0.26      0.41        23\n",
            "      Путешествия       1.00      0.02      0.05        42\n",
            "           Россия       0.45      0.78      0.57       166\n",
            "Силовые структуры       1.00      0.13      0.23        54\n",
            "            Спорт       1.00      0.87      0.93       122\n",
            "         Ценности       1.00      0.49      0.66        45\n",
            "        Экономика       0.83      0.40      0.54        72\n",
            "\n",
            "         accuracy                           0.54      1001\n",
            "        macro avg       0.62      0.31      0.33      1001\n",
            "     weighted avg       0.67      0.54      0.50      1001\n",
            "\n"
          ],
          "name": "stdout"
        },
        {
          "output_type": "stream",
          "text": [
            "/usr/local/lib/python3.7/dist-packages/sklearn/metrics/_classification.py:1272: UndefinedMetricWarning: Precision and F-score are ill-defined and being set to 0.0 in labels with no predicted samples. Use `zero_division` parameter to control this behavior.\n",
            "  _warn_prf(average, modifier, msg_start, len(result))\n"
          ],
          "name": "stderr"
        },
        {
          "output_type": "stream",
          "text": [
            "При n= 8 , max_dif= 0.85 , min_dif= 4\n",
            "                   precision    recall  f1-score   support\n",
            "\n",
            "   69-я параллель       0.00      0.00      0.00         2\n",
            "          Nothing       0.00      0.00      0.00         1\n",
            "      Бывший СССР       0.83      0.79      0.81       121\n",
            "              Дом       0.00      0.00      0.00        26\n",
            "         Из жизни       1.00      0.05      0.09        42\n",
            "   Интернет и СМИ       0.00      0.00      0.00        45\n",
            "         Культура       0.54      0.16      0.24        45\n",
            "              Мир       0.37      0.87      0.52       158\n",
            "  Наука и техника       0.83      0.14      0.23        37\n",
            "       Нацпроекты       1.00      0.17      0.30        23\n",
            "      Путешествия       1.00      0.05      0.09        42\n",
            "           Россия       0.43      0.77      0.56       166\n",
            "Силовые структуры       0.82      0.17      0.28        54\n",
            "            Спорт       1.00      0.89      0.94       122\n",
            "         Ценности       0.96      0.53      0.69        45\n",
            "        Экономика       0.80      0.49      0.60        72\n",
            "\n",
            "         accuracy                           0.56      1001\n",
            "        macro avg       0.60      0.32      0.33      1001\n",
            "     weighted avg       0.66      0.56      0.51      1001\n",
            "\n"
          ],
          "name": "stdout"
        },
        {
          "output_type": "stream",
          "text": [
            "/usr/local/lib/python3.7/dist-packages/sklearn/metrics/_classification.py:1272: UndefinedMetricWarning: Precision and F-score are ill-defined and being set to 0.0 in labels with no predicted samples. Use `zero_division` parameter to control this behavior.\n",
            "  _warn_prf(average, modifier, msg_start, len(result))\n"
          ],
          "name": "stderr"
        },
        {
          "output_type": "stream",
          "text": [
            "При n= 8 , max_dif= 0.8 , min_dif= 2\n",
            "                   precision    recall  f1-score   support\n",
            "\n",
            "   69-я параллель       0.00      0.00      0.00         2\n",
            "          Nothing       0.00      0.00      0.00         1\n",
            "      Бывший СССР       0.84      0.77      0.80       121\n",
            "              Дом       0.00      0.00      0.00        26\n",
            "         Из жизни       0.00      0.00      0.00        42\n",
            "   Интернет и СМИ       0.00      0.00      0.00        45\n",
            "         Культура       0.62      0.18      0.28        45\n",
            "              Мир       0.33      0.87      0.48       158\n",
            "  Наука и техника       0.75      0.08      0.15        37\n",
            "       Нацпроекты       1.00      0.26      0.41        23\n",
            "      Путешествия       1.00      0.02      0.05        42\n",
            "           Россия       0.43      0.78      0.56       166\n",
            "Силовые структуры       0.75      0.06      0.10        54\n",
            "            Спорт       1.00      0.84      0.92       122\n",
            "         Ценности       1.00      0.33      0.50        45\n",
            "        Экономика       0.90      0.36      0.51        72\n",
            "\n",
            "         accuracy                           0.53      1001\n",
            "        macro avg       0.54      0.29      0.30      1001\n",
            "     weighted avg       0.62      0.53      0.47      1001\n",
            "\n"
          ],
          "name": "stdout"
        },
        {
          "output_type": "stream",
          "text": [
            "/usr/local/lib/python3.7/dist-packages/sklearn/metrics/_classification.py:1272: UndefinedMetricWarning: Precision and F-score are ill-defined and being set to 0.0 in labels with no predicted samples. Use `zero_division` parameter to control this behavior.\n",
            "  _warn_prf(average, modifier, msg_start, len(result))\n"
          ],
          "name": "stderr"
        },
        {
          "output_type": "stream",
          "text": [
            "При n= 8 , max_dif= 0.8 , min_dif= 3\n",
            "                   precision    recall  f1-score   support\n",
            "\n",
            "   69-я параллель       0.00      0.00      0.00         2\n",
            "          Nothing       0.00      0.00      0.00         1\n",
            "      Бывший СССР       0.84      0.76      0.80       121\n",
            "              Дом       0.00      0.00      0.00        26\n",
            "         Из жизни       1.00      0.02      0.05        42\n",
            "   Интернет и СМИ       0.00      0.00      0.00        45\n",
            "         Культура       0.62      0.18      0.28        45\n",
            "              Мир       0.34      0.87      0.49       158\n",
            "  Наука и техника       0.83      0.14      0.23        37\n",
            "       Нацпроекты       1.00      0.26      0.41        23\n",
            "      Путешествия       1.00      0.02      0.05        42\n",
            "           Россия       0.45      0.78      0.57       166\n",
            "Силовые структуры       1.00      0.13      0.23        54\n",
            "            Спорт       1.00      0.87      0.93       122\n",
            "         Ценности       1.00      0.49      0.66        45\n",
            "        Экономика       0.83      0.40      0.54        72\n",
            "\n",
            "         accuracy                           0.54      1001\n",
            "        macro avg       0.62      0.31      0.33      1001\n",
            "     weighted avg       0.67      0.54      0.50      1001\n",
            "\n"
          ],
          "name": "stdout"
        },
        {
          "output_type": "stream",
          "text": [
            "/usr/local/lib/python3.7/dist-packages/sklearn/metrics/_classification.py:1272: UndefinedMetricWarning: Precision and F-score are ill-defined and being set to 0.0 in labels with no predicted samples. Use `zero_division` parameter to control this behavior.\n",
            "  _warn_prf(average, modifier, msg_start, len(result))\n"
          ],
          "name": "stderr"
        },
        {
          "output_type": "stream",
          "text": [
            "При n= 8 , max_dif= 0.8 , min_dif= 4\n",
            "                   precision    recall  f1-score   support\n",
            "\n",
            "   69-я параллель       0.00      0.00      0.00         2\n",
            "          Nothing       0.00      0.00      0.00         1\n",
            "      Бывший СССР       0.83      0.79      0.81       121\n",
            "              Дом       0.00      0.00      0.00        26\n",
            "         Из жизни       1.00      0.05      0.09        42\n",
            "   Интернет и СМИ       0.00      0.00      0.00        45\n",
            "         Культура       0.54      0.16      0.24        45\n",
            "              Мир       0.37      0.87      0.52       158\n",
            "  Наука и техника       0.83      0.14      0.23        37\n",
            "       Нацпроекты       1.00      0.17      0.30        23\n",
            "      Путешествия       1.00      0.05      0.09        42\n",
            "           Россия       0.43      0.77      0.56       166\n",
            "Силовые структуры       0.82      0.17      0.28        54\n",
            "            Спорт       1.00      0.89      0.94       122\n",
            "         Ценности       0.96      0.53      0.69        45\n",
            "        Экономика       0.80      0.49      0.60        72\n",
            "\n",
            "         accuracy                           0.56      1001\n",
            "        macro avg       0.60      0.32      0.33      1001\n",
            "     weighted avg       0.66      0.56      0.51      1001\n",
            "\n"
          ],
          "name": "stdout"
        },
        {
          "output_type": "stream",
          "text": [
            "/usr/local/lib/python3.7/dist-packages/sklearn/metrics/_classification.py:1272: UndefinedMetricWarning: Precision and F-score are ill-defined and being set to 0.0 in labels with no predicted samples. Use `zero_division` parameter to control this behavior.\n",
            "  _warn_prf(average, modifier, msg_start, len(result))\n"
          ],
          "name": "stderr"
        },
        {
          "output_type": "stream",
          "text": [
            "При n= 8 , max_dif= 0.75 , min_dif= 2\n",
            "                   precision    recall  f1-score   support\n",
            "\n",
            "   69-я параллель       0.00      0.00      0.00         2\n",
            "          Nothing       0.00      0.00      0.00         1\n",
            "      Бывший СССР       0.84      0.77      0.80       121\n",
            "              Дом       0.00      0.00      0.00        26\n",
            "         Из жизни       0.00      0.00      0.00        42\n",
            "   Интернет и СМИ       0.00      0.00      0.00        45\n",
            "         Культура       0.62      0.18      0.28        45\n",
            "              Мир       0.33      0.87      0.48       158\n",
            "  Наука и техника       0.75      0.08      0.15        37\n",
            "       Нацпроекты       1.00      0.26      0.41        23\n",
            "      Путешествия       1.00      0.02      0.05        42\n",
            "           Россия       0.43      0.78      0.56       166\n",
            "Силовые структуры       0.75      0.06      0.10        54\n",
            "            Спорт       1.00      0.84      0.92       122\n",
            "         Ценности       1.00      0.33      0.50        45\n",
            "        Экономика       0.90      0.36      0.51        72\n",
            "\n",
            "         accuracy                           0.53      1001\n",
            "        macro avg       0.54      0.29      0.30      1001\n",
            "     weighted avg       0.62      0.53      0.47      1001\n",
            "\n"
          ],
          "name": "stdout"
        },
        {
          "output_type": "stream",
          "text": [
            "/usr/local/lib/python3.7/dist-packages/sklearn/metrics/_classification.py:1272: UndefinedMetricWarning: Precision and F-score are ill-defined and being set to 0.0 in labels with no predicted samples. Use `zero_division` parameter to control this behavior.\n",
            "  _warn_prf(average, modifier, msg_start, len(result))\n"
          ],
          "name": "stderr"
        },
        {
          "output_type": "stream",
          "text": [
            "При n= 8 , max_dif= 0.75 , min_dif= 3\n",
            "                   precision    recall  f1-score   support\n",
            "\n",
            "   69-я параллель       0.00      0.00      0.00         2\n",
            "          Nothing       0.00      0.00      0.00         1\n",
            "      Бывший СССР       0.84      0.76      0.80       121\n",
            "              Дом       0.00      0.00      0.00        26\n",
            "         Из жизни       1.00      0.02      0.05        42\n",
            "   Интернет и СМИ       0.00      0.00      0.00        45\n",
            "         Культура       0.62      0.18      0.28        45\n",
            "              Мир       0.34      0.87      0.49       158\n",
            "  Наука и техника       0.83      0.14      0.23        37\n",
            "       Нацпроекты       1.00      0.26      0.41        23\n",
            "      Путешествия       1.00      0.02      0.05        42\n",
            "           Россия       0.45      0.78      0.57       166\n",
            "Силовые структуры       1.00      0.13      0.23        54\n",
            "            Спорт       1.00      0.87      0.93       122\n",
            "         Ценности       1.00      0.49      0.66        45\n",
            "        Экономика       0.83      0.40      0.54        72\n",
            "\n",
            "         accuracy                           0.54      1001\n",
            "        macro avg       0.62      0.31      0.33      1001\n",
            "     weighted avg       0.67      0.54      0.50      1001\n",
            "\n"
          ],
          "name": "stdout"
        },
        {
          "output_type": "stream",
          "text": [
            "/usr/local/lib/python3.7/dist-packages/sklearn/metrics/_classification.py:1272: UndefinedMetricWarning: Precision and F-score are ill-defined and being set to 0.0 in labels with no predicted samples. Use `zero_division` parameter to control this behavior.\n",
            "  _warn_prf(average, modifier, msg_start, len(result))\n"
          ],
          "name": "stderr"
        },
        {
          "output_type": "stream",
          "text": [
            "При n= 8 , max_dif= 0.75 , min_dif= 4\n",
            "                   precision    recall  f1-score   support\n",
            "\n",
            "   69-я параллель       0.00      0.00      0.00         2\n",
            "          Nothing       0.00      0.00      0.00         1\n",
            "      Бывший СССР       0.83      0.79      0.81       121\n",
            "              Дом       0.00      0.00      0.00        26\n",
            "         Из жизни       1.00      0.05      0.09        42\n",
            "   Интернет и СМИ       0.00      0.00      0.00        45\n",
            "         Культура       0.54      0.16      0.24        45\n",
            "              Мир       0.37      0.87      0.52       158\n",
            "  Наука и техника       0.83      0.14      0.23        37\n",
            "       Нацпроекты       1.00      0.17      0.30        23\n",
            "      Путешествия       1.00      0.05      0.09        42\n",
            "           Россия       0.43      0.77      0.56       166\n",
            "Силовые структуры       0.82      0.17      0.28        54\n",
            "            Спорт       1.00      0.89      0.94       122\n",
            "         Ценности       0.96      0.53      0.69        45\n",
            "        Экономика       0.80      0.49      0.60        72\n",
            "\n",
            "         accuracy                           0.56      1001\n",
            "        macro avg       0.60      0.32      0.33      1001\n",
            "     weighted avg       0.66      0.56      0.51      1001\n",
            "\n"
          ],
          "name": "stdout"
        },
        {
          "output_type": "stream",
          "text": [
            "/usr/local/lib/python3.7/dist-packages/sklearn/metrics/_classification.py:1272: UndefinedMetricWarning: Precision and F-score are ill-defined and being set to 0.0 in labels with no predicted samples. Use `zero_division` parameter to control this behavior.\n",
            "  _warn_prf(average, modifier, msg_start, len(result))\n"
          ],
          "name": "stderr"
        },
        {
          "output_type": "stream",
          "text": [
            "При n= 9 , max_dif= 0.95 , min_dif= 2\n",
            "                   precision    recall  f1-score   support\n",
            "\n",
            "   69-я параллель       0.00      0.00      0.00         2\n",
            "          Nothing       0.00      0.00      0.00         1\n",
            "      Бывший СССР       0.84      0.76      0.80       121\n",
            "              Дом       0.00      0.00      0.00        26\n",
            "         Из жизни       0.00      0.00      0.00        42\n",
            "   Интернет и СМИ       0.00      0.00      0.00        45\n",
            "         Культура       0.62      0.18      0.28        45\n",
            "              Мир       0.33      0.87      0.48       158\n",
            "  Наука и техника       0.75      0.08      0.15        37\n",
            "       Нацпроекты       1.00      0.26      0.41        23\n",
            "      Путешествия       1.00      0.02      0.05        42\n",
            "           Россия       0.43      0.78      0.56       166\n",
            "Силовые структуры       0.75      0.06      0.10        54\n",
            "            Спорт       1.00      0.84      0.92       122\n",
            "         Ценности       1.00      0.33      0.50        45\n",
            "        Экономика       0.90      0.36      0.51        72\n",
            "\n",
            "         accuracy                           0.52      1001\n",
            "        macro avg       0.54      0.28      0.30      1001\n",
            "     weighted avg       0.62      0.52      0.47      1001\n",
            "\n"
          ],
          "name": "stdout"
        },
        {
          "output_type": "stream",
          "text": [
            "/usr/local/lib/python3.7/dist-packages/sklearn/metrics/_classification.py:1272: UndefinedMetricWarning: Precision and F-score are ill-defined and being set to 0.0 in labels with no predicted samples. Use `zero_division` parameter to control this behavior.\n",
            "  _warn_prf(average, modifier, msg_start, len(result))\n"
          ],
          "name": "stderr"
        },
        {
          "output_type": "stream",
          "text": [
            "При n= 9 , max_dif= 0.95 , min_dif= 3\n",
            "                   precision    recall  f1-score   support\n",
            "\n",
            "   69-я параллель       0.00      0.00      0.00         2\n",
            "          Nothing       0.00      0.00      0.00         1\n",
            "      Бывший СССР       0.84      0.76      0.80       121\n",
            "              Дом       0.00      0.00      0.00        26\n",
            "         Из жизни       1.00      0.02      0.05        42\n",
            "   Интернет и СМИ       0.00      0.00      0.00        45\n",
            "         Культура       0.62      0.18      0.28        45\n",
            "              Мир       0.34      0.87      0.48       158\n",
            "  Наука и техника       0.83      0.14      0.23        37\n",
            "       Нацпроекты       1.00      0.26      0.41        23\n",
            "      Путешествия       1.00      0.02      0.05        42\n",
            "           Россия       0.45      0.78      0.57       166\n",
            "Силовые структуры       1.00      0.13      0.23        54\n",
            "            Спорт       1.00      0.87      0.93       122\n",
            "         Ценности       1.00      0.49      0.66        45\n",
            "        Экономика       0.85      0.40      0.55        72\n",
            "\n",
            "         accuracy                           0.54      1001\n",
            "        macro avg       0.62      0.31      0.33      1001\n",
            "     weighted avg       0.68      0.54      0.50      1001\n",
            "\n"
          ],
          "name": "stdout"
        },
        {
          "output_type": "stream",
          "text": [
            "/usr/local/lib/python3.7/dist-packages/sklearn/metrics/_classification.py:1272: UndefinedMetricWarning: Precision and F-score are ill-defined and being set to 0.0 in labels with no predicted samples. Use `zero_division` parameter to control this behavior.\n",
            "  _warn_prf(average, modifier, msg_start, len(result))\n"
          ],
          "name": "stderr"
        },
        {
          "output_type": "stream",
          "text": [
            "При n= 9 , max_dif= 0.95 , min_dif= 4\n",
            "                   precision    recall  f1-score   support\n",
            "\n",
            "   69-я параллель       0.00      0.00      0.00         2\n",
            "          Nothing       0.00      0.00      0.00         1\n",
            "      Бывший СССР       0.83      0.79      0.81       121\n",
            "              Дом       0.00      0.00      0.00        26\n",
            "         Из жизни       1.00      0.05      0.09        42\n",
            "   Интернет и СМИ       0.00      0.00      0.00        45\n",
            "         Культура       0.54      0.16      0.24        45\n",
            "              Мир       0.37      0.87      0.52       158\n",
            "  Наука и техника       0.83      0.14      0.23        37\n",
            "       Нацпроекты       1.00      0.13      0.23        23\n",
            "      Путешествия       1.00      0.05      0.09        42\n",
            "           Россия       0.43      0.77      0.56       166\n",
            "Силовые структуры       0.82      0.17      0.28        54\n",
            "            Спорт       1.00      0.89      0.94       122\n",
            "         Ценности       0.96      0.53      0.69        45\n",
            "        Экономика       0.80      0.49      0.60        72\n",
            "\n",
            "         accuracy                           0.56      1001\n",
            "        macro avg       0.60      0.31      0.33      1001\n",
            "     weighted avg       0.66      0.56      0.51      1001\n",
            "\n"
          ],
          "name": "stdout"
        },
        {
          "output_type": "stream",
          "text": [
            "/usr/local/lib/python3.7/dist-packages/sklearn/metrics/_classification.py:1272: UndefinedMetricWarning: Precision and F-score are ill-defined and being set to 0.0 in labels with no predicted samples. Use `zero_division` parameter to control this behavior.\n",
            "  _warn_prf(average, modifier, msg_start, len(result))\n"
          ],
          "name": "stderr"
        },
        {
          "output_type": "stream",
          "text": [
            "При n= 9 , max_dif= 0.9 , min_dif= 2\n",
            "                   precision    recall  f1-score   support\n",
            "\n",
            "   69-я параллель       0.00      0.00      0.00         2\n",
            "          Nothing       0.00      0.00      0.00         1\n",
            "      Бывший СССР       0.84      0.76      0.80       121\n",
            "              Дом       0.00      0.00      0.00        26\n",
            "         Из жизни       0.00      0.00      0.00        42\n",
            "   Интернет и СМИ       0.00      0.00      0.00        45\n",
            "         Культура       0.62      0.18      0.28        45\n",
            "              Мир       0.33      0.87      0.48       158\n",
            "  Наука и техника       0.75      0.08      0.15        37\n",
            "       Нацпроекты       1.00      0.26      0.41        23\n",
            "      Путешествия       1.00      0.02      0.05        42\n",
            "           Россия       0.43      0.78      0.56       166\n",
            "Силовые структуры       0.75      0.06      0.10        54\n",
            "            Спорт       1.00      0.84      0.92       122\n",
            "         Ценности       1.00      0.33      0.50        45\n",
            "        Экономика       0.90      0.36      0.51        72\n",
            "\n",
            "         accuracy                           0.52      1001\n",
            "        macro avg       0.54      0.28      0.30      1001\n",
            "     weighted avg       0.62      0.52      0.47      1001\n",
            "\n"
          ],
          "name": "stdout"
        },
        {
          "output_type": "stream",
          "text": [
            "/usr/local/lib/python3.7/dist-packages/sklearn/metrics/_classification.py:1272: UndefinedMetricWarning: Precision and F-score are ill-defined and being set to 0.0 in labels with no predicted samples. Use `zero_division` parameter to control this behavior.\n",
            "  _warn_prf(average, modifier, msg_start, len(result))\n"
          ],
          "name": "stderr"
        },
        {
          "output_type": "stream",
          "text": [
            "При n= 9 , max_dif= 0.9 , min_dif= 3\n",
            "                   precision    recall  f1-score   support\n",
            "\n",
            "   69-я параллель       0.00      0.00      0.00         2\n",
            "          Nothing       0.00      0.00      0.00         1\n",
            "      Бывший СССР       0.84      0.76      0.80       121\n",
            "              Дом       0.00      0.00      0.00        26\n",
            "         Из жизни       1.00      0.02      0.05        42\n",
            "   Интернет и СМИ       0.00      0.00      0.00        45\n",
            "         Культура       0.62      0.18      0.28        45\n",
            "              Мир       0.34      0.87      0.48       158\n",
            "  Наука и техника       0.83      0.14      0.23        37\n",
            "       Нацпроекты       1.00      0.26      0.41        23\n",
            "      Путешествия       1.00      0.02      0.05        42\n",
            "           Россия       0.45      0.78      0.57       166\n",
            "Силовые структуры       1.00      0.13      0.23        54\n",
            "            Спорт       1.00      0.87      0.93       122\n",
            "         Ценности       1.00      0.49      0.66        45\n",
            "        Экономика       0.85      0.40      0.55        72\n",
            "\n",
            "         accuracy                           0.54      1001\n",
            "        macro avg       0.62      0.31      0.33      1001\n",
            "     weighted avg       0.68      0.54      0.50      1001\n",
            "\n"
          ],
          "name": "stdout"
        },
        {
          "output_type": "stream",
          "text": [
            "/usr/local/lib/python3.7/dist-packages/sklearn/metrics/_classification.py:1272: UndefinedMetricWarning: Precision and F-score are ill-defined and being set to 0.0 in labels with no predicted samples. Use `zero_division` parameter to control this behavior.\n",
            "  _warn_prf(average, modifier, msg_start, len(result))\n"
          ],
          "name": "stderr"
        },
        {
          "output_type": "stream",
          "text": [
            "При n= 9 , max_dif= 0.9 , min_dif= 4\n",
            "                   precision    recall  f1-score   support\n",
            "\n",
            "   69-я параллель       0.00      0.00      0.00         2\n",
            "          Nothing       0.00      0.00      0.00         1\n",
            "      Бывший СССР       0.83      0.79      0.81       121\n",
            "              Дом       0.00      0.00      0.00        26\n",
            "         Из жизни       1.00      0.05      0.09        42\n",
            "   Интернет и СМИ       0.00      0.00      0.00        45\n",
            "         Культура       0.54      0.16      0.24        45\n",
            "              Мир       0.37      0.87      0.52       158\n",
            "  Наука и техника       0.83      0.14      0.23        37\n",
            "       Нацпроекты       1.00      0.13      0.23        23\n",
            "      Путешествия       1.00      0.05      0.09        42\n",
            "           Россия       0.43      0.77      0.56       166\n",
            "Силовые структуры       0.82      0.17      0.28        54\n",
            "            Спорт       1.00      0.89      0.94       122\n",
            "         Ценности       0.96      0.53      0.69        45\n",
            "        Экономика       0.80      0.49      0.60        72\n",
            "\n",
            "         accuracy                           0.56      1001\n",
            "        macro avg       0.60      0.31      0.33      1001\n",
            "     weighted avg       0.66      0.56      0.51      1001\n",
            "\n"
          ],
          "name": "stdout"
        },
        {
          "output_type": "stream",
          "text": [
            "/usr/local/lib/python3.7/dist-packages/sklearn/metrics/_classification.py:1272: UndefinedMetricWarning: Precision and F-score are ill-defined and being set to 0.0 in labels with no predicted samples. Use `zero_division` parameter to control this behavior.\n",
            "  _warn_prf(average, modifier, msg_start, len(result))\n"
          ],
          "name": "stderr"
        },
        {
          "output_type": "stream",
          "text": [
            "При n= 9 , max_dif= 0.85 , min_dif= 2\n",
            "                   precision    recall  f1-score   support\n",
            "\n",
            "   69-я параллель       0.00      0.00      0.00         2\n",
            "          Nothing       0.00      0.00      0.00         1\n",
            "      Бывший СССР       0.84      0.76      0.80       121\n",
            "              Дом       0.00      0.00      0.00        26\n",
            "         Из жизни       0.00      0.00      0.00        42\n",
            "   Интернет и СМИ       0.00      0.00      0.00        45\n",
            "         Культура       0.62      0.18      0.28        45\n",
            "              Мир       0.33      0.87      0.48       158\n",
            "  Наука и техника       0.75      0.08      0.15        37\n",
            "       Нацпроекты       1.00      0.26      0.41        23\n",
            "      Путешествия       1.00      0.02      0.05        42\n",
            "           Россия       0.43      0.78      0.56       166\n",
            "Силовые структуры       0.75      0.06      0.10        54\n",
            "            Спорт       1.00      0.84      0.92       122\n",
            "         Ценности       1.00      0.33      0.50        45\n",
            "        Экономика       0.90      0.36      0.51        72\n",
            "\n",
            "         accuracy                           0.52      1001\n",
            "        macro avg       0.54      0.28      0.30      1001\n",
            "     weighted avg       0.62      0.52      0.47      1001\n",
            "\n"
          ],
          "name": "stdout"
        },
        {
          "output_type": "stream",
          "text": [
            "/usr/local/lib/python3.7/dist-packages/sklearn/metrics/_classification.py:1272: UndefinedMetricWarning: Precision and F-score are ill-defined and being set to 0.0 in labels with no predicted samples. Use `zero_division` parameter to control this behavior.\n",
            "  _warn_prf(average, modifier, msg_start, len(result))\n"
          ],
          "name": "stderr"
        },
        {
          "output_type": "stream",
          "text": [
            "При n= 9 , max_dif= 0.85 , min_dif= 3\n",
            "                   precision    recall  f1-score   support\n",
            "\n",
            "   69-я параллель       0.00      0.00      0.00         2\n",
            "          Nothing       0.00      0.00      0.00         1\n",
            "      Бывший СССР       0.84      0.76      0.80       121\n",
            "              Дом       0.00      0.00      0.00        26\n",
            "         Из жизни       1.00      0.02      0.05        42\n",
            "   Интернет и СМИ       0.00      0.00      0.00        45\n",
            "         Культура       0.62      0.18      0.28        45\n",
            "              Мир       0.34      0.87      0.48       158\n",
            "  Наука и техника       0.83      0.14      0.23        37\n",
            "       Нацпроекты       1.00      0.26      0.41        23\n",
            "      Путешествия       1.00      0.02      0.05        42\n",
            "           Россия       0.45      0.78      0.57       166\n",
            "Силовые структуры       1.00      0.13      0.23        54\n",
            "            Спорт       1.00      0.87      0.93       122\n",
            "         Ценности       1.00      0.49      0.66        45\n",
            "        Экономика       0.85      0.40      0.55        72\n",
            "\n",
            "         accuracy                           0.54      1001\n",
            "        macro avg       0.62      0.31      0.33      1001\n",
            "     weighted avg       0.68      0.54      0.50      1001\n",
            "\n"
          ],
          "name": "stdout"
        },
        {
          "output_type": "stream",
          "text": [
            "/usr/local/lib/python3.7/dist-packages/sklearn/metrics/_classification.py:1272: UndefinedMetricWarning: Precision and F-score are ill-defined and being set to 0.0 in labels with no predicted samples. Use `zero_division` parameter to control this behavior.\n",
            "  _warn_prf(average, modifier, msg_start, len(result))\n"
          ],
          "name": "stderr"
        },
        {
          "output_type": "stream",
          "text": [
            "При n= 9 , max_dif= 0.85 , min_dif= 4\n",
            "                   precision    recall  f1-score   support\n",
            "\n",
            "   69-я параллель       0.00      0.00      0.00         2\n",
            "          Nothing       0.00      0.00      0.00         1\n",
            "      Бывший СССР       0.83      0.79      0.81       121\n",
            "              Дом       0.00      0.00      0.00        26\n",
            "         Из жизни       1.00      0.05      0.09        42\n",
            "   Интернет и СМИ       0.00      0.00      0.00        45\n",
            "         Культура       0.54      0.16      0.24        45\n",
            "              Мир       0.37      0.87      0.52       158\n",
            "  Наука и техника       0.83      0.14      0.23        37\n",
            "       Нацпроекты       1.00      0.13      0.23        23\n",
            "      Путешествия       1.00      0.05      0.09        42\n",
            "           Россия       0.43      0.77      0.56       166\n",
            "Силовые структуры       0.82      0.17      0.28        54\n",
            "            Спорт       1.00      0.89      0.94       122\n",
            "         Ценности       0.96      0.53      0.69        45\n",
            "        Экономика       0.80      0.49      0.60        72\n",
            "\n",
            "         accuracy                           0.56      1001\n",
            "        macro avg       0.60      0.31      0.33      1001\n",
            "     weighted avg       0.66      0.56      0.51      1001\n",
            "\n"
          ],
          "name": "stdout"
        },
        {
          "output_type": "stream",
          "text": [
            "/usr/local/lib/python3.7/dist-packages/sklearn/metrics/_classification.py:1272: UndefinedMetricWarning: Precision and F-score are ill-defined and being set to 0.0 in labels with no predicted samples. Use `zero_division` parameter to control this behavior.\n",
            "  _warn_prf(average, modifier, msg_start, len(result))\n"
          ],
          "name": "stderr"
        },
        {
          "output_type": "stream",
          "text": [
            "При n= 9 , max_dif= 0.8 , min_dif= 2\n",
            "                   precision    recall  f1-score   support\n",
            "\n",
            "   69-я параллель       0.00      0.00      0.00         2\n",
            "          Nothing       0.00      0.00      0.00         1\n",
            "      Бывший СССР       0.84      0.76      0.80       121\n",
            "              Дом       0.00      0.00      0.00        26\n",
            "         Из жизни       0.00      0.00      0.00        42\n",
            "   Интернет и СМИ       0.00      0.00      0.00        45\n",
            "         Культура       0.62      0.18      0.28        45\n",
            "              Мир       0.33      0.87      0.48       158\n",
            "  Наука и техника       0.75      0.08      0.15        37\n",
            "       Нацпроекты       1.00      0.26      0.41        23\n",
            "      Путешествия       1.00      0.02      0.05        42\n",
            "           Россия       0.43      0.78      0.56       166\n",
            "Силовые структуры       0.75      0.06      0.10        54\n",
            "            Спорт       1.00      0.84      0.92       122\n",
            "         Ценности       1.00      0.33      0.50        45\n",
            "        Экономика       0.90      0.36      0.51        72\n",
            "\n",
            "         accuracy                           0.52      1001\n",
            "        macro avg       0.54      0.28      0.30      1001\n",
            "     weighted avg       0.62      0.52      0.47      1001\n",
            "\n"
          ],
          "name": "stdout"
        },
        {
          "output_type": "stream",
          "text": [
            "/usr/local/lib/python3.7/dist-packages/sklearn/metrics/_classification.py:1272: UndefinedMetricWarning: Precision and F-score are ill-defined and being set to 0.0 in labels with no predicted samples. Use `zero_division` parameter to control this behavior.\n",
            "  _warn_prf(average, modifier, msg_start, len(result))\n"
          ],
          "name": "stderr"
        },
        {
          "output_type": "stream",
          "text": [
            "При n= 9 , max_dif= 0.8 , min_dif= 3\n",
            "                   precision    recall  f1-score   support\n",
            "\n",
            "   69-я параллель       0.00      0.00      0.00         2\n",
            "          Nothing       0.00      0.00      0.00         1\n",
            "      Бывший СССР       0.84      0.76      0.80       121\n",
            "              Дом       0.00      0.00      0.00        26\n",
            "         Из жизни       1.00      0.02      0.05        42\n",
            "   Интернет и СМИ       0.00      0.00      0.00        45\n",
            "         Культура       0.62      0.18      0.28        45\n",
            "              Мир       0.34      0.87      0.48       158\n",
            "  Наука и техника       0.83      0.14      0.23        37\n",
            "       Нацпроекты       1.00      0.26      0.41        23\n",
            "      Путешествия       1.00      0.02      0.05        42\n",
            "           Россия       0.45      0.78      0.57       166\n",
            "Силовые структуры       1.00      0.13      0.23        54\n",
            "            Спорт       1.00      0.87      0.93       122\n",
            "         Ценности       1.00      0.49      0.66        45\n",
            "        Экономика       0.85      0.40      0.55        72\n",
            "\n",
            "         accuracy                           0.54      1001\n",
            "        macro avg       0.62      0.31      0.33      1001\n",
            "     weighted avg       0.68      0.54      0.50      1001\n",
            "\n"
          ],
          "name": "stdout"
        },
        {
          "output_type": "stream",
          "text": [
            "/usr/local/lib/python3.7/dist-packages/sklearn/metrics/_classification.py:1272: UndefinedMetricWarning: Precision and F-score are ill-defined and being set to 0.0 in labels with no predicted samples. Use `zero_division` parameter to control this behavior.\n",
            "  _warn_prf(average, modifier, msg_start, len(result))\n"
          ],
          "name": "stderr"
        },
        {
          "output_type": "stream",
          "text": [
            "При n= 9 , max_dif= 0.8 , min_dif= 4\n",
            "                   precision    recall  f1-score   support\n",
            "\n",
            "   69-я параллель       0.00      0.00      0.00         2\n",
            "          Nothing       0.00      0.00      0.00         1\n",
            "      Бывший СССР       0.83      0.79      0.81       121\n",
            "              Дом       0.00      0.00      0.00        26\n",
            "         Из жизни       1.00      0.05      0.09        42\n",
            "   Интернет и СМИ       0.00      0.00      0.00        45\n",
            "         Культура       0.54      0.16      0.24        45\n",
            "              Мир       0.37      0.87      0.52       158\n",
            "  Наука и техника       0.83      0.14      0.23        37\n",
            "       Нацпроекты       1.00      0.13      0.23        23\n",
            "      Путешествия       1.00      0.05      0.09        42\n",
            "           Россия       0.43      0.77      0.56       166\n",
            "Силовые структуры       0.82      0.17      0.28        54\n",
            "            Спорт       1.00      0.89      0.94       122\n",
            "         Ценности       0.96      0.53      0.69        45\n",
            "        Экономика       0.80      0.49      0.60        72\n",
            "\n",
            "         accuracy                           0.56      1001\n",
            "        macro avg       0.60      0.31      0.33      1001\n",
            "     weighted avg       0.66      0.56      0.51      1001\n",
            "\n"
          ],
          "name": "stdout"
        },
        {
          "output_type": "stream",
          "text": [
            "/usr/local/lib/python3.7/dist-packages/sklearn/metrics/_classification.py:1272: UndefinedMetricWarning: Precision and F-score are ill-defined and being set to 0.0 in labels with no predicted samples. Use `zero_division` parameter to control this behavior.\n",
            "  _warn_prf(average, modifier, msg_start, len(result))\n"
          ],
          "name": "stderr"
        },
        {
          "output_type": "stream",
          "text": [
            "При n= 9 , max_dif= 0.75 , min_dif= 2\n",
            "                   precision    recall  f1-score   support\n",
            "\n",
            "   69-я параллель       0.00      0.00      0.00         2\n",
            "          Nothing       0.00      0.00      0.00         1\n",
            "      Бывший СССР       0.84      0.76      0.80       121\n",
            "              Дом       0.00      0.00      0.00        26\n",
            "         Из жизни       0.00      0.00      0.00        42\n",
            "   Интернет и СМИ       0.00      0.00      0.00        45\n",
            "         Культура       0.62      0.18      0.28        45\n",
            "              Мир       0.33      0.87      0.48       158\n",
            "  Наука и техника       0.75      0.08      0.15        37\n",
            "       Нацпроекты       1.00      0.26      0.41        23\n",
            "      Путешествия       1.00      0.02      0.05        42\n",
            "           Россия       0.43      0.78      0.56       166\n",
            "Силовые структуры       0.75      0.06      0.10        54\n",
            "            Спорт       1.00      0.84      0.92       122\n",
            "         Ценности       1.00      0.33      0.50        45\n",
            "        Экономика       0.90      0.36      0.51        72\n",
            "\n",
            "         accuracy                           0.52      1001\n",
            "        macro avg       0.54      0.28      0.30      1001\n",
            "     weighted avg       0.62      0.52      0.47      1001\n",
            "\n"
          ],
          "name": "stdout"
        },
        {
          "output_type": "stream",
          "text": [
            "/usr/local/lib/python3.7/dist-packages/sklearn/metrics/_classification.py:1272: UndefinedMetricWarning: Precision and F-score are ill-defined and being set to 0.0 in labels with no predicted samples. Use `zero_division` parameter to control this behavior.\n",
            "  _warn_prf(average, modifier, msg_start, len(result))\n"
          ],
          "name": "stderr"
        },
        {
          "output_type": "stream",
          "text": [
            "При n= 9 , max_dif= 0.75 , min_dif= 3\n",
            "                   precision    recall  f1-score   support\n",
            "\n",
            "   69-я параллель       0.00      0.00      0.00         2\n",
            "          Nothing       0.00      0.00      0.00         1\n",
            "      Бывший СССР       0.84      0.76      0.80       121\n",
            "              Дом       0.00      0.00      0.00        26\n",
            "         Из жизни       1.00      0.02      0.05        42\n",
            "   Интернет и СМИ       0.00      0.00      0.00        45\n",
            "         Культура       0.62      0.18      0.28        45\n",
            "              Мир       0.34      0.87      0.48       158\n",
            "  Наука и техника       0.83      0.14      0.23        37\n",
            "       Нацпроекты       1.00      0.26      0.41        23\n",
            "      Путешествия       1.00      0.02      0.05        42\n",
            "           Россия       0.45      0.78      0.57       166\n",
            "Силовые структуры       1.00      0.13      0.23        54\n",
            "            Спорт       1.00      0.87      0.93       122\n",
            "         Ценности       1.00      0.49      0.66        45\n",
            "        Экономика       0.85      0.40      0.55        72\n",
            "\n",
            "         accuracy                           0.54      1001\n",
            "        macro avg       0.62      0.31      0.33      1001\n",
            "     weighted avg       0.68      0.54      0.50      1001\n",
            "\n"
          ],
          "name": "stdout"
        },
        {
          "output_type": "stream",
          "text": [
            "/usr/local/lib/python3.7/dist-packages/sklearn/metrics/_classification.py:1272: UndefinedMetricWarning: Precision and F-score are ill-defined and being set to 0.0 in labels with no predicted samples. Use `zero_division` parameter to control this behavior.\n",
            "  _warn_prf(average, modifier, msg_start, len(result))\n"
          ],
          "name": "stderr"
        },
        {
          "output_type": "stream",
          "text": [
            "При n= 9 , max_dif= 0.75 , min_dif= 4\n",
            "                   precision    recall  f1-score   support\n",
            "\n",
            "   69-я параллель       0.00      0.00      0.00         2\n",
            "          Nothing       0.00      0.00      0.00         1\n",
            "      Бывший СССР       0.83      0.79      0.81       121\n",
            "              Дом       0.00      0.00      0.00        26\n",
            "         Из жизни       1.00      0.05      0.09        42\n",
            "   Интернет и СМИ       0.00      0.00      0.00        45\n",
            "         Культура       0.54      0.16      0.24        45\n",
            "              Мир       0.37      0.87      0.52       158\n",
            "  Наука и техника       0.83      0.14      0.23        37\n",
            "       Нацпроекты       1.00      0.13      0.23        23\n",
            "      Путешествия       1.00      0.05      0.09        42\n",
            "           Россия       0.43      0.77      0.56       166\n",
            "Силовые структуры       0.82      0.17      0.28        54\n",
            "            Спорт       1.00      0.89      0.94       122\n",
            "         Ценности       0.96      0.53      0.69        45\n",
            "        Экономика       0.80      0.49      0.60        72\n",
            "\n",
            "         accuracy                           0.56      1001\n",
            "        macro avg       0.60      0.31      0.33      1001\n",
            "     weighted avg       0.66      0.56      0.51      1001\n",
            "\n"
          ],
          "name": "stdout"
        },
        {
          "output_type": "stream",
          "text": [
            "/usr/local/lib/python3.7/dist-packages/sklearn/metrics/_classification.py:1272: UndefinedMetricWarning: Precision and F-score are ill-defined and being set to 0.0 in labels with no predicted samples. Use `zero_division` parameter to control this behavior.\n",
            "  _warn_prf(average, modifier, msg_start, len(result))\n"
          ],
          "name": "stderr"
        }
      ]
    },
    {
      "cell_type": "code",
      "metadata": {
        "id": "Ox6YKT7hx5Qc"
      },
      "source": [
        "with open(\"table.json\", \"w\", encoding='utf-8') as f:\n",
        "    json.dump(table, f, ensure_ascii=False)\n",
        "f.close()"
      ],
      "execution_count": 21,
      "outputs": []
    },
    {
      "cell_type": "code",
      "metadata": {
        "id": "vYw6a0DlRq-H",
        "colab": {
          "base_uri": "https://localhost:8080/"
        },
        "outputId": "cd832a56-2d3b-4f31-d003-e5ab1d5a5442"
      },
      "source": [
        "with open(\"table.json\", \"r\", encoding ='utf-8') as f:\n",
        "    table = json.load(f)\n",
        "table = pd.DataFrame.from_dict(table)\n",
        "print(table)\n",
        "print('n_grams_table:')\n",
        "print(table.loc[(table['type']=='n-grams')])\n",
        "print('symbol n-grams table:')\n",
        "print(table.loc[(table['type']=='symbol_n-grams')])\n",
        "print('TF-IDF table:')\n",
        "print(table.loc[(table['type']=='TF-IDF')])\n",
        "print('sorted by precision')\n",
        "print(table.sort_values(by='precision', ascending=False)[:3])\n",
        "print('sorted by recall')\n",
        "print(table.sort_values(by='recall',ascending=False)[:3])\n",
        "print('sorted by accuracy')\n",
        "print(table.sort_values(by='accuracy',ascending=False)[:3])\n",
        "print('sorted by f_1')\n",
        "print(table.sort_values(by='f_1',ascending=False)[:3])"
      ],
      "execution_count": 39,
      "outputs": [
        {
          "output_type": "stream",
          "text": [
            "        type         settings  precision    recall  accuracy       f_1\n",
            "0    n-grams           (1, 1)   0.816146  0.510765  0.693307  0.547162\n",
            "1    n-grams           (1, 2)   0.820612  0.413666  0.619381  0.446767\n",
            "2    n-grams           (1, 3)   0.819847  0.419302  0.618382  0.450756\n",
            "3    n-grams           (1, 4)   0.825096  0.419592  0.618382  0.452353\n",
            "4    n-grams           (1, 5)   0.826588  0.409967  0.611389  0.440890\n",
            "..       ...              ...        ...       ...       ...       ...\n",
            "147   TF-IDF   (1, 9), 0.8, 3   0.859561  0.307234  0.534466  0.321399\n",
            "148   TF-IDF   (1, 9), 0.8, 4   0.861769  0.318546  0.550450  0.332195\n",
            "149   TF-IDF  (1, 9), 0.75, 2   0.873825  0.293458  0.520480  0.307967\n",
            "150   TF-IDF  (1, 9), 0.75, 3   0.859561  0.307234  0.534466  0.321399\n",
            "151   TF-IDF  (1, 9), 0.75, 4   0.861769  0.318546  0.550450  0.332195\n",
            "\n",
            "[152 rows x 6 columns]\n",
            "n_grams_table:\n",
            "      type settings  precision    recall  accuracy       f_1\n",
            "0  n-grams   (1, 1)   0.816146  0.510765  0.693307  0.547162\n",
            "1  n-grams   (1, 2)   0.820612  0.413666  0.619381  0.446767\n",
            "2  n-grams   (1, 3)   0.819847  0.419302  0.618382  0.450756\n",
            "3  n-grams   (1, 4)   0.825096  0.419592  0.618382  0.452353\n",
            "4  n-grams   (1, 5)   0.826588  0.409967  0.611389  0.440890\n",
            "5  n-grams   (1, 6)   0.822179  0.408455  0.608392  0.439312\n",
            "6  n-grams   (1, 7)   0.824715  0.407951  0.607393  0.439519\n",
            "7  n-grams   (1, 8)   0.826706  0.409175  0.606394  0.443909\n",
            "8  n-grams   (1, 9)   0.834156  0.410179  0.606394  0.446644\n",
            "symbol n-grams table:\n",
            "              type settings  precision    recall  accuracy       f_1\n",
            "9   symbol_n-grams   (3, 3)   0.803266  0.498411  0.667333  0.534147\n",
            "10  symbol_n-grams   (3, 4)   0.840174  0.395259  0.609391  0.429919\n",
            "11  symbol_n-grams   (3, 5)   0.857901  0.329683  0.562438  0.340025\n",
            "12  symbol_n-grams   (3, 6)   0.858521  0.309432  0.540460  0.314309\n",
            "13  symbol_n-grams   (3, 7)   0.859226  0.293517  0.519481  0.299177\n",
            "14  symbol_n-grams   (3, 8)   0.859584  0.282105  0.501499  0.288292\n",
            "15  symbol_n-grams   (3, 9)   0.861341  0.285218  0.496503  0.296843\n",
            "16  symbol_n-grams  (3, 10)   0.861776  0.282320  0.491508  0.296335\n",
            "TF-IDF table:\n",
            "       type         settings  precision    recall  accuracy       f_1\n",
            "17   TF-IDF  (1, 1), 0.95, 2   0.865532  0.278367  0.520480  0.274601\n",
            "18   TF-IDF  (1, 1), 0.95, 3   0.852601  0.304250  0.543457  0.308493\n",
            "19   TF-IDF  (1, 1), 0.95, 4   0.858903  0.329547  0.563437  0.342828\n",
            "20   TF-IDF   (1, 1), 0.9, 2   0.865532  0.278367  0.520480  0.274601\n",
            "21   TF-IDF   (1, 1), 0.9, 3   0.852601  0.304250  0.543457  0.308493\n",
            "..      ...              ...        ...       ...       ...       ...\n",
            "147  TF-IDF   (1, 9), 0.8, 3   0.859561  0.307234  0.534466  0.321399\n",
            "148  TF-IDF   (1, 9), 0.8, 4   0.861769  0.318546  0.550450  0.332195\n",
            "149  TF-IDF  (1, 9), 0.75, 2   0.873825  0.293458  0.520480  0.307967\n",
            "150  TF-IDF  (1, 9), 0.75, 3   0.859561  0.307234  0.534466  0.321399\n",
            "151  TF-IDF  (1, 9), 0.75, 4   0.861769  0.318546  0.550450  0.332195\n",
            "\n",
            "[135 rows x 6 columns]\n",
            "sorted by precision\n",
            "       type         settings  precision    recall  accuracy       f_1\n",
            "116  TF-IDF   (1, 7), 0.8, 2   0.873867  0.293963  0.521479  0.308282\n",
            "107  TF-IDF  (1, 7), 0.95, 2   0.873867  0.293963  0.521479  0.308282\n",
            "128  TF-IDF  (1, 8), 0.85, 2   0.873867  0.293963  0.521479  0.308282\n",
            "sorted by recall\n",
            "             type settings  precision    recall  accuracy       f_1\n",
            "0         n-grams   (1, 1)   0.816146  0.510765  0.693307  0.547162\n",
            "9  symbol_n-grams   (3, 3)   0.803266  0.498411  0.667333  0.534147\n",
            "3         n-grams   (1, 4)   0.825096  0.419592  0.618382  0.452353\n",
            "sorted by accuracy\n",
            "             type settings  precision    recall  accuracy       f_1\n",
            "0         n-grams   (1, 1)   0.816146  0.510765  0.693307  0.547162\n",
            "9  symbol_n-grams   (3, 3)   0.803266  0.498411  0.667333  0.534147\n",
            "1         n-grams   (1, 2)   0.820612  0.413666  0.619381  0.446767\n",
            "sorted by f_1\n",
            "             type settings  precision    recall  accuracy       f_1\n",
            "0         n-grams   (1, 1)   0.816146  0.510765  0.693307  0.547162\n",
            "9  symbol_n-grams   (3, 3)   0.803266  0.498411  0.667333  0.534147\n",
            "3         n-grams   (1, 4)   0.825096  0.419592  0.618382  0.452353\n"
          ],
          "name": "stdout"
        }
      ]
    }
  ]
}