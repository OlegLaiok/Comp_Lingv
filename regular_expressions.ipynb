{
  "nbformat": 4,
  "nbformat_minor": 0,
  "metadata": {
    "colab": {
      "name": "regular_expressions.ipynb",
      "provenance": [],
      "authorship_tag": "ABX9TyOfGiBcyzbz8mywpqV2/qOh",
      "include_colab_link": true
    },
    "kernelspec": {
      "name": "python3",
      "display_name": "Python 3"
    },
    "language_info": {
      "name": "python"
    }
  },
  "cells": [
    {
      "cell_type": "markdown",
      "metadata": {
        "id": "view-in-github",
        "colab_type": "text"
      },
      "source": [
        "<a href=\"https://colab.research.google.com/github/OlegLaiok/Comp_Lingv/blob/homework2/regular_expressions.ipynb\" target=\"_parent\"><img src=\"https://colab.research.google.com/assets/colab-badge.svg\" alt=\"Open In Colab\"/></a>"
      ]
    },
    {
      "cell_type": "code",
      "metadata": {
        "id": "BoN-CN3ahTiZ"
      },
      "source": [
        "import re"
      ],
      "execution_count": 1,
      "outputs": []
    },
    {
      "cell_type": "code",
      "metadata": {
        "colab": {
          "base_uri": "https://localhost:8080/"
        },
        "id": "e1REfRK_hiLe",
        "outputId": "21e9f39f-0db7-4366-b70f-916b335bbb17"
      },
      "source": [
        "#Напишите регулярное выражение, которое возвращает список первых двух букв каждого слова строки. Обратите внимание на работу с дефисом\n",
        "s = \"Привет как дела\"\n",
        "res = re.findall(r'\\b\\w{2}',s)\n",
        "res"
      ],
      "execution_count": 4,
      "outputs": [
        {
          "output_type": "execute_result",
          "data": {
            "text/plain": [
              "['Пр', 'ка', 'де']"
            ]
          },
          "metadata": {
            "tags": []
          },
          "execution_count": 4
        }
      ]
    },
    {
      "cell_type": "code",
      "metadata": {
        "colab": {
          "base_uri": "https://localhost:8080/"
        },
        "id": "Erw9Cor7hqKs",
        "outputId": "2584c48b-ac5e-4b6d-afc7-628c230faceb"
      },
      "source": [
        "#Напишите регулярное выражение, которое выбирает из строки все слова, в которых строго больше 3 символов.\n",
        "s = \"Привет как у тебя дела\"\n",
        "res = re.findall(r'\\w{3,}',s)\n",
        "print(res)"
      ],
      "execution_count": 6,
      "outputs": [
        {
          "output_type": "stream",
          "text": [
            "['Привет', 'как', 'тебя', 'дела']\n"
          ],
          "name": "stdout"
        }
      ]
    },
    {
      "cell_type": "code",
      "metadata": {
        "colab": {
          "base_uri": "https://localhost:8080/"
        },
        "id": "OOVf3yvKhuWU",
        "outputId": "330fde06-c76a-4ba7-f176-50b40d0f3859"
      },
      "source": [
        "#Напишите регулярное выражение, которое заменит все подстроки, обозначающие время (только время, не даты), в строке на TBD\n",
        "s = '21.02.2021 в 13:45:49 или в 12:43:34'\n",
        "res = re.sub(r'\\d\\d:\\d\\d:\\d\\d','TBD',s)\n",
        "print(res)"
      ],
      "execution_count": 7,
      "outputs": [
        {
          "output_type": "stream",
          "text": [
            "21.02.2021 в TBD или в TBD\n"
          ],
          "name": "stdout"
        }
      ]
    },
    {
      "cell_type": "code",
      "metadata": {
        "colab": {
          "base_uri": "https://localhost:8080/"
        },
        "id": "SXLQtl5Dhwqy",
        "outputId": "8b2daaea-d1a0-4383-e3c8-a0ab2ea1f6fe"
      },
      "source": [
        "#Напишите регулярное выражение, которое заменяет произвольное количество пробельных символов внутри строки на один пробел.\n",
        "s = \"Привет       как  дела     .\"\n",
        "res = re.sub(r'\\s{2,}',\" \", s)\n",
        "print(res)"
      ],
      "execution_count": 8,
      "outputs": [
        {
          "output_type": "stream",
          "text": [
            "Привет как дела .\n"
          ],
          "name": "stdout"
        }
      ]
    },
    {
      "cell_type": "code",
      "metadata": {
        "colab": {
          "base_uri": "https://localhost:8080/"
        },
        "id": "Amrn6IjDhz1s",
        "outputId": "2c0c1c63-9c7c-4eb9-b660-c0b712188e09"
      },
      "source": [
        "#Напишите регулярное выражение, которое удаляет идущие подряд повторы. Одно слово из группы должно остаться.\n",
        "s = 'Привет привет как дела дела дела'\n",
        "res = re.sub(r'\\b([^\\W\\d_]+)(\\s+\\1)+\\b', r'\\1', s, flags=re.I)\n",
        "print(res)"
      ],
      "execution_count": 9,
      "outputs": [
        {
          "output_type": "stream",
          "text": [
            "Привет как дела\n"
          ],
          "name": "stdout"
        }
      ]
    },
    {
      "cell_type": "code",
      "metadata": {
        "colab": {
          "base_uri": "https://localhost:8080/"
        },
        "id": "dUkWP5MMh0hc",
        "outputId": "36d54286-99e3-4cbe-b9a2-a149f4d64418"
      },
      "source": [
        "#Напишите регулярное выражение, которое определяет, что подстрока является адресом электронной почты.\n",
        "s = 'laolvl@mail.ru и 286507@niuitmo.ru'\n",
        "res = re.split(' ',s)\n",
        "for i in res:\n",
        "    if (re.match(r'\\w+@\\w+.\\w+',i)) != None:\n",
        "        print(i,' является эмейлом')"
      ],
      "execution_count": 10,
      "outputs": [
        {
          "output_type": "stream",
          "text": [
            "laolvl@mail.ru  является эмейлом\n",
            "286507@niuitmo.ru  является эмейлом\n"
          ],
          "name": "stdout"
        }
      ]
    },
    {
      "cell_type": "code",
      "metadata": {
        "colab": {
          "base_uri": "https://localhost:8080/"
        },
        "id": "K54bAA8Rh3OL",
        "outputId": "8c5369d3-25dc-4955-89d2-1086a0f23e8b"
      },
      "source": [
        "#Напишите регулярное выражение, которое возвращает список аббревиатур в строке.\n",
        "s = 'НИУ ИТМО - вуз в SPB'\n",
        "res = re.findall(r'[A-ZА-Я]{2,}',s)\n",
        "print(res)"
      ],
      "execution_count": 11,
      "outputs": [
        {
          "output_type": "stream",
          "text": [
            "['НИУ', 'ИТМО', 'SPB']\n"
          ],
          "name": "stdout"
        }
      ]
    },
    {
      "cell_type": "code",
      "metadata": {
        "colab": {
          "base_uri": "https://localhost:8080/"
        },
        "id": "hMRXCierh7Ub",
        "outputId": "f684f4e9-5c07-41bb-b63c-cd3d736f7d1e"
      },
      "source": [
        "#Напишите регулярное выражение, которое разделяет текст на предложения\n",
        "s = 'Greenpeace Франции совместно с другими НКО (Notre Affaire à Tous, Фонд Николя Юло и Oxfam France) требуют от властей возместить ущерб, причинённый гражданам страны из-за политики в области экологии и начать активные действия в рамках предыдущих соглашений. Соответствующий иск подали ещё два года назад из-за бездействия государства в решении проблемы климатического кризиса? Сегодня состоялось слушание дела в суде Парижа, решение по которому будет вынесено в течение двух недель!'\n",
        "res = re.split(r'[.!?]',s)\n",
        "print(res)"
      ],
      "execution_count": 12,
      "outputs": [
        {
          "output_type": "stream",
          "text": [
            "['Greenpeace Франции совместно с другими НКО (Notre Affaire à Tous, Фонд Николя Юло и Oxfam France) требуют от властей возместить ущерб, причинённый гражданам страны из-за политики в области экологии и начать активные действия в рамках предыдущих соглашений', ' Соответствующий иск подали ещё два года назад из-за бездействия государства в решении проблемы климатического кризиса', ' Сегодня состоялось слушание дела в суде Парижа, решение по которому будет вынесено в течение двух недель', '']\n"
          ],
          "name": "stdout"
        }
      ]
    },
    {
      "cell_type": "code",
      "metadata": {
        "colab": {
          "base_uri": "https://localhost:8080/"
        },
        "id": "oFrvBqTvh-10",
        "outputId": "344bf96d-c8ee-4023-f067-ebc10e082af2"
      },
      "source": [
        "#Напишите регулярное выражение, которое определяет, что строка является номеромроссийского мобильного телефона любого оператора.\n",
        "s = \"+79106311575 896646666\"\n",
        "res = re.findall(r'\\+79\\d{9}|89\\d{9}',s)\n",
        "print(res)"
      ],
      "execution_count": 15,
      "outputs": [
        {
          "output_type": "stream",
          "text": [
            "['+79106311575']\n"
          ],
          "name": "stdout"
        }
      ]
    },
    {
      "cell_type": "code",
      "metadata": {
        "colab": {
          "base_uri": "https://localhost:8080/"
        },
        "id": "rCvoDUHyh_Rv",
        "outputId": "c6d23c44-4480-45a7-8ff1-1a55334a12e2"
      },
      "source": [
        "# Напишите регулярное выражение, которое проверяет, что все предложения в строке начинаются с заглавной буквы.\n",
        "s = 'Greenpeace Франции совместно с другими НКО (Notre Affaire à Tous, Фонд Николя Юло и Oxfam France) требуют от властей возместить ущерб, причинённый гражданам страны из-за политики в области экологии и начать активные действия в рамках предыдущих соглашений. Соответствующий иск подали ещё два года назад из-за бездействия государства в решении проблемы климатического кризиса? Сегодня состоялось слушание дела в суде Парижа, решение по которому будет вынесено в течение двух недель!'\n",
        "print(re.findall(r'[A-ZА-ЯЁ].*?[.?!]', s))"
      ],
      "execution_count": 24,
      "outputs": [
        {
          "output_type": "stream",
          "text": [
            "['Greenpeace Франции совместно с другими НКО (Notre Affaire à Tous, Фонд Николя Юло и Oxfam France) требуют от властей возместить ущерб, причинённый гражданам страны из-за политики в области экологии и начать активные действия в рамках предыдущих соглашений.', 'Соответствующий иск подали ещё два года назад из-за бездействия государства в решении проблемы климатического кризиса?', 'Сегодня состоялось слушание дела в суде Парижа, решение по которому будет вынесено в течение двух недель!']\n"
          ],
          "name": "stdout"
        }
      ]
    }
  ]
}